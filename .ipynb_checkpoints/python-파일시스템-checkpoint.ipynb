{
 "cells": [
  {
   "cell_type": "code",
   "execution_count": 1,
   "id": "8c1ea623-f89d-4b19-9d7a-a9d0987f3f17",
   "metadata": {},
   "outputs": [
    {
     "name": "stdout",
     "output_type": "stream",
     "text": [
      "외부 데이터 들고 오기\n"
     ]
    }
   ],
   "source": [
    "# file system\n",
    "print('외부 데이터 들고 오기')"
   ]
  },
  {
   "cell_type": "markdown",
   "id": "c838ae02-4d55-440c-9944-8b73a5302633",
   "metadata": {},
   "source": [
    "# 파일 시스템"
   ]
  },
  {
   "cell_type": "markdown",
   "id": "af777fbd-3288-4c3c-ab97-f684acea89ef",
   "metadata": {},
   "source": [
    "## 파일 읽고 쓰기 *\n",
    "<table>\n",
    "<thead>\n",
    "<tr>\n",
    "<th>파일열기모드</th>\n",
    "<th>설명</th>\n",
    "</tr>\n",
    "</thead>\n",
    "<tbody>\n",
    "<tr>\n",
    "<td>r</td>\n",
    "<td>읽기 모드: 파일을 읽기만 할 때 사용한다.</td>\n",
    "</tr>\n",
    "<tr>\n",
    "<td>w</td>\n",
    "<td>쓰기 모드: 파일에 내용을 쓸 때 사용한다.</td>\n",
    "</tr>\n",
    "<tr>\n",
    "<td>a</td>\n",
    "<td>추가 모드: 파일의 마지막에 새로운 내용을 추가할 때 사용한다.</td>\n",
    "</tr>\n",
    "</tbody>\n",
    "</table>\n",
    "<pre>\n",
    "<strong>파일 경로와 슬래시(/)</strong>\n",
    "파이썬 코드에서 파일 경로를 표시할 때 \"C:/doit/새파일.txt\"처럼 슬래시(/)를 사용할 수 있다. 만약 역슬래시(\\)를 사용한다면 \"C:\\\\doit\\\\새파일.txt\"처럼 역슬래시를 2개 사용하거나 r\"C:\\doit\\새파일.txt\"와 같이 문자열 앞에 r 문자(raw string)를 덧붙여 사용해야 한다. 왜냐하면 \"C:\\note\\test.txt\"처럼 파일 경로에 \\n과 같은 이스케이프 문자가 있을 경우, 줄바꿈 문자로 해석되어 의도했던 파일 경로와 달라지기 때문이다.</pre>"
   ]
  },
  {
   "cell_type": "markdown",
   "id": "2d6f0960-1009-4379-9e26-975a271f4e9d",
   "metadata": {},
   "source": [
    "## 파일 생성하기"
   ]
  },
  {
   "cell_type": "code",
   "execution_count": null,
   "id": "ad468ec5-660f-4d96-8f5e-10cfb8cd0d2c",
   "metadata": {},
   "outputs": [],
   "source": [
    "f = open()\n",
    "f.close()"
   ]
  },
  {
   "cell_type": "markdown",
   "id": "02e1a250-0d89-41f6-8333-d465891258d7",
   "metadata": {},
   "source": [
    "## 내용 쓰기"
   ]
  },
  {
   "cell_type": "code",
   "execution_count": 4,
   "id": "f8285f1e-4179-4291-8aa6-544e9fdd5f6b",
   "metadata": {},
   "outputs": [],
   "source": [
    "f = open(\"newfile2.txt\", \"w\")\n",
    "for i in range(1, 11):\n",
    "    f.write(str(i))\n",
    "# 항상 실행 마지막에 닫아주기\n",
    "f.close()\n"
   ]
  },
  {
   "cell_type": "code",
   "execution_count": 6,
   "id": "9120aa3f-285d-4b0d-bb0d-01c39c09f825",
   "metadata": {},
   "outputs": [],
   "source": [
    "f = open(\"newfile2.txt\", \"w\")\n",
    "for i in range(1, 11):\n",
    "    data = f'{i}번째 줄\\n'\n",
    "    f.write(data)\n",
    "f.close()\n"
   ]
  },
  {
   "cell_type": "code",
   "execution_count": 7,
   "id": "6fa1803c-52bd-40b5-9932-9f9f38aaf8d4",
   "metadata": {},
   "outputs": [],
   "source": [
    "f = open(\"newfile2.txt\", \"w\", encoding='utf-8')\n",
    "for i in range(1, 11):\n",
    "    data = f'{i}번째 줄\\n'\n",
    "    f.write(data)\n",
    "f.close()"
   ]
  },
  {
   "cell_type": "code",
   "execution_count": 17,
   "id": "4ac1f32d-a02b-4a43-9848-e627be57a2ee",
   "metadata": {},
   "outputs": [
    {
     "name": "stdin",
     "output_type": "stream",
     "text": [
      "입력 > 안녕\n",
      "입력 > 반가워\n",
      "입력 > 난ㅡㄴ\n",
      "입력 > 너의\n",
      "입력 > 친구야\n"
     ]
    }
   ],
   "source": [
    "f = open(\"newfile3.txt\", \"w\", encoding='utf-8')\n",
    "for i in range(5):\n",
    "    s = input('입력 >') + '\\n'\n",
    "    f.write(s)\n",
    "f.close()"
   ]
  },
  {
   "cell_type": "code",
   "execution_count": 12,
   "id": "bde9a30a-66c4-4fd7-82a8-fd4a1ecc9f7f",
   "metadata": {},
   "outputs": [
    {
     "name": "stdout",
     "output_type": "stream",
     "text": [
      "# 새 파일 작성란\n",
      "##\n",
      "###\n",
      "####\n",
      "저는 파이썬이 시루요\n"
     ]
    }
   ],
   "source": [
    "f = open(\"newfile.txt\", \"r\", encoding='utf=8')\n",
    "# print(dir(f))\n",
    "data = f.read() # 파일 전체 내용을 불러옴\n",
    "print(data)\n",
    "f.close()"
   ]
  },
  {
   "cell_type": "code",
   "execution_count": 21,
   "id": "92674c1a-8525-4b7f-bdeb-cbda0656687b",
   "metadata": {},
   "outputs": [
    {
     "name": "stdout",
     "output_type": "stream",
     "text": [
      "# 새 파일 \n"
     ]
    }
   ],
   "source": [
    "f = open(\"newfile.txt\", \"r\", encoding='utf-8')\n",
    "data = f.readline(7)\n",
    "print(data)\n",
    "f.close()"
   ]
  },
  {
   "cell_type": "code",
   "execution_count": 22,
   "id": "0d6cc7b6-dbec-4d8c-8fd9-bee2f77cb12e",
   "metadata": {},
   "outputs": [
    {
     "name": "stdout",
     "output_type": "stream",
     "text": [
      "# 새 파일 작성란\n",
      "\n",
      "##\n",
      "\n",
      "###\n",
      "\n",
      "####\n",
      "\n",
      "저는 파이썬이 시루요\n"
     ]
    }
   ],
   "source": [
    "f = open(\"newfile.txt\", \"r\", encoding='utf-8')\n",
    "while 1:\n",
    "    line = f.readline() # 한 줄씩 불러옴\n",
    "    if not line:\n",
    "        break\n",
    "    print(line)\n",
    "f.close()"
   ]
  },
  {
   "cell_type": "code",
   "execution_count": 29,
   "id": "e3061830-9bd6-44b9-b7e2-f9dddab3374e",
   "metadata": {},
   "outputs": [
    {
     "name": "stdout",
     "output_type": "stream",
     "text": [
      "<class 'list'> ['# 새 파일 작성란\\n', '##\\n', '###\\n', '####\\n', '저는 파이썬이 시루요']\n",
      "# 새 파일 작성란\n",
      "##\n",
      "###\n",
      "####\n",
      "저는 파이썬이 시루요\n"
     ]
    }
   ],
   "source": [
    "f = open(\"newfile.txt\", \"r\", encoding='utf-8')\n",
    "data = f.readlines() # 한 줄씩 리스트 형식으로 불러옴\n",
    "print(type(data), data)\n",
    "f.close()\n",
    "\n",
    "for line in data:\n",
    "    print(line.strip())"
   ]
  },
  {
   "cell_type": "code",
   "execution_count": 30,
   "id": "28ca259c-786d-4b45-8e4f-56a2f6b3931a",
   "metadata": {},
   "outputs": [],
   "source": [
    "fr = open(\"newfile.txt\", \"r\", encoding='utf-8')\n",
    "origin_data = fr.read()\n",
    "fr.close()\n",
    "\n",
    "newfr = open(\"newfile4.txt\", \"w\", encoding='utf-8')\n",
    "newfr.write(origin_data)\n",
    "newfr.close()"
   ]
  },
  {
   "cell_type": "code",
   "execution_count": 32,
   "id": "1bd931ca-95a5-42b1-9b0f-e67158e509aa",
   "metadata": {},
   "outputs": [
    {
     "name": "stdout",
     "output_type": "stream",
     "text": [
      "# 새 파일 작성란\n",
      "##\n",
      "###\n",
      "####\n",
      "저는 파이썬이 시루요\n"
     ]
    }
   ],
   "source": [
    "nfr = open(\"newfile4.txt\", \"r\", encoding='utf-8')\n",
    "print(nfr.read())\n",
    "nfr.close()"
   ]
  },
  {
   "cell_type": "code",
   "execution_count": 33,
   "id": "463f3319-525b-49b7-b8d1-6124a6ad4919",
   "metadata": {},
   "outputs": [],
   "source": [
    "nfr = open(\"newfile4.txt\", \"a\", encoding='utf-8')\n",
    "for n in range(10):\n",
    "    data = str(n) + '\\n'\n",
    "    nfr.write(data)\n",
    "nfr.close()"
   ]
  },
  {
   "cell_type": "code",
   "execution_count": 35,
   "id": "4c566235-c2c6-46a7-bb37-6fce19262e8f",
   "metadata": {},
   "outputs": [
    {
     "name": "stdout",
     "output_type": "stream",
     "text": [
      "# 새 파일 작성란\n",
      "##\n",
      "###\n",
      "####\n",
      "저는 파이썬이 시루요0\n",
      "1\n",
      "2\n",
      "3\n",
      "4\n",
      "5\n",
      "6\n",
      "7\n",
      "8\n",
      "9\n",
      "\n"
     ]
    }
   ],
   "source": [
    "nfr = open(\"newfile4.txt\", \"r\", encoding='utf-8')\n",
    "print(nfr.read())\n",
    "nfr.close()"
   ]
  },
  {
   "cell_type": "code",
   "execution_count": 41,
   "id": "cc75025f-8707-461b-8214-fef1daaf9301",
   "metadata": {},
   "outputs": [
    {
     "name": "stdout",
     "output_type": "stream",
     "text": [
      "20\n",
      "21\n",
      "22\n",
      "23\n",
      "24\n",
      "25\n",
      "26\n",
      "27\n",
      "28\n",
      "29\n",
      "30\n",
      "31\n",
      "32\n",
      "33\n",
      "34\n",
      "35\n",
      "36\n",
      "37\n",
      "38\n",
      "39\n",
      "40\n",
      "\n"
     ]
    }
   ],
   "source": [
    "'''\n",
    "1.\n",
    "뉴파일.txt 생성\n",
    "10 to 20을 넣은 파일 작성\n",
    "\n",
    "2.\n",
    "위 내용을 이어서\n",
    "21 to 40을 추가 작성\n",
    "'''\n",
    "# 1\n",
    "f1 = open(\"뉴파일.txt\", \"w\", encoding='utf-8')\n",
    "for i in range(10, 21):\n",
    "    f1.write(str(i) + '\\n')\n",
    "f1.close()\n",
    "\n",
    "\n",
    "# 2\n",
    "f1 = open(\"뉴파일.txt\", \"r\", encoding='utf-8')\n",
    "f2 = open(\"뉴파일.txt\", \"a\", encoding='utf-8')\n",
    "start = int(f1.readlines()[-1].replace('\\n',''))\n",
    "for i in range(start, 41):\n",
    "    f2.write(str(i) + '\\n')\n",
    "f2.close()\n",
    "data = f1.read()\n",
    "print(data)\n",
    "f1.close()"
   ]
  },
  {
   "cell_type": "code",
   "execution_count": 54,
   "id": "afc424f7-0cb0-4358-a125-cc235bdc1e42",
   "metadata": {},
   "outputs": [
    {
     "name": "stdout",
     "output_type": "stream",
     "text": [
      "<_io.TextIOWrapper name='newfile_w.txt' mode='w' encoding='utf-8'>\n"
     ]
    }
   ],
   "source": [
    "with open(\"newfile_w.txt\", \"w\", encoding='utf-8') as f:\n",
    "    f.write('newcontent\\nihatepython')\n",
    "    print(f)"
   ]
  },
  {
   "cell_type": "code",
   "execution_count": 55,
   "id": "3e4df092-0de2-4271-a94b-8e50e757c110",
   "metadata": {},
   "outputs": [
    {
     "name": "stdout",
     "output_type": "stream",
     "text": [
      "newcontent\n",
      "ihatepython\n",
      "<_io.TextIOWrapper name='newfile_w.txt' mode='r' encoding='utf-8'>\n"
     ]
    }
   ],
   "source": [
    "with open(\"newfile_w.txt\", \"r\", encoding='utf-8') as f:\n",
    "    print(f.read())\n",
    "    print(f)"
   ]
  },
  {
   "cell_type": "code",
   "execution_count": 56,
   "id": "43b356aa-1ada-4a61-913b-753f3cf2d5b9",
   "metadata": {},
   "outputs": [],
   "source": [
    "f = open(\"newfile_b.txt\", \"w\", encoding='utf-8')\n",
    "f.close()"
   ]
  },
  {
   "cell_type": "code",
   "execution_count": null,
   "id": "6c298683-62e9-4fba-9925-4561fc70f310",
   "metadata": {},
   "outputs": [],
   "source": []
  }
 ],
 "metadata": {
  "kernelspec": {
   "display_name": "Python 3 (ipykernel)",
   "language": "python",
   "name": "python3"
  },
  "language_info": {
   "codemirror_mode": {
    "name": "ipython",
    "version": 3
   },
   "file_extension": ".py",
   "mimetype": "text/x-python",
   "name": "python",
   "nbconvert_exporter": "python",
   "pygments_lexer": "ipython3",
   "version": "3.13.0"
  }
 },
 "nbformat": 4,
 "nbformat_minor": 5
}
