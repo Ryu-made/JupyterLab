{
 "cells": [
  {
   "cell_type": "markdown",
   "id": "83a94d40-8750-4a2a-9c08-5bfc59f14f6d",
   "metadata": {},
   "source": [
    "# 함수"
   ]
  },
  {
   "cell_type": "code",
   "execution_count": 10,
   "id": "6cdc67f4-b989-4033-a456-984ccf0de1b8",
   "metadata": {},
   "outputs": [],
   "source": [
    "def add(a, b):\n",
    "    print(f'입력하신 {a}와 {b}를 더하면 {a + b}입니다.') # 단순 출력\n",
    "    return a + b # 리턴값"
   ]
  },
  {
   "cell_type": "code",
   "execution_count": 22,
   "id": "bfbceaa5-6bf6-4f25-b558-324ce2fa1cf9",
   "metadata": {},
   "outputs": [
    {
     "name": "stdout",
     "output_type": "stream",
     "text": [
      "입력하신 3와 4를 더하면 7입니다.\n",
      "입력하신 77와 23를 더하면 100입니다.\n",
      "입력하신 7와 8를 더하면 15입니다.\n",
      "15\n"
     ]
    }
   ],
   "source": [
    "add(3, 4)\n",
    "add(77, 23)\n",
    "c = add(7, 8) # 리턴 값이 존재하면 변수에 저장\n",
    "print(c)"
   ]
  },
  {
   "cell_type": "code",
   "execution_count": 15,
   "id": "184cb5e6-2351-4c38-905b-1ca7de59c877",
   "metadata": {},
   "outputs": [
    {
     "name": "stdin",
     "output_type": "stream",
     "text": [
      "첫 번째 숫자 > 10\n",
      "두 번째 숫자 > 2\n"
     ]
    },
    {
     "name": "stdout",
     "output_type": "stream",
     "text": [
      "입력하신 10와 2를 곱하면 20입니다.\n",
      "결과 : 20\n"
     ]
    }
   ],
   "source": [
    "def multiple(a, b):\n",
    "    print(f'입력하신 {a}와 {b}를 곱하면 {a * b}입니다.')\n",
    "    return a * b\n",
    "c = multiple(int(input('첫 번째 숫자 >')), int(input('두 번째 숫자 >')))\n",
    "print(f'결과 : {c}')"
   ]
  },
  {
   "cell_type": "code",
   "execution_count": 23,
   "id": "667f45c8-58f7-4010-84a4-da4dd3529c6d",
   "metadata": {},
   "outputs": [
    {
     "name": "stdout",
     "output_type": "stream",
     "text": [
      "<function hello at 0x00000277BDE7F2E0> <class 'function'>\n",
      "Hello Python\n",
      "Say yeah\n"
     ]
    }
   ],
   "source": [
    "def hello(): # 매개변수 없음\n",
    "    print('Hello Python')\n",
    "print(hello, type(hello))\n",
    "hello()\n",
    "\n",
    "def hello():\n",
    "    return 'Say yeah' # 리턴 값만 존재\n",
    "p = hello()\n",
    "print(p)"
   ]
  },
  {
   "cell_type": "code",
   "execution_count": null,
   "id": "598774a9-fb49-4cfe-af27-a82259f5d5a1",
   "metadata": {},
   "outputs": [],
   "source": [
    "def function1():\n",
    "    print('start function')\n",
    "    s = set()\n",
    "    while len(s) < 3:\n",
    "        s.add(input('입력값 >'))\n",
    "    return s\n",
    "\n",
    "re = function1()\n",
    "for el in re:\n",
    "    print(el, type(el))\n",
    "print(re)"
   ]
  },
  {
   "cell_type": "code",
   "execution_count": 32,
   "id": "5a8414c8-4954-4dc8-996f-0cd172a1d349",
   "metadata": {},
   "outputs": [
    {
     "name": "stdout",
     "output_type": "stream",
     "text": [
      "(10, 20, 30)\n"
     ]
    }
   ],
   "source": [
    "def function2(a, b, c):\n",
    "    t = a, b, c\n",
    "    print(t)\n",
    "function2(10, 20, 30)"
   ]
  },
  {
   "cell_type": "code",
   "execution_count": 41,
   "id": "731929f4-6af0-4b25-b9fd-1272b958cacf",
   "metadata": {},
   "outputs": [
    {
     "name": "stdout",
     "output_type": "stream",
     "text": [
      "10\n",
      "5\n",
      "-18\n"
     ]
    },
    {
     "data": {
      "text/plain": [
       "(-1, 14)"
      ]
     },
     "execution_count": 41,
     "metadata": {},
     "output_type": "execute_result"
    }
   ],
   "source": [
    "def substract(a = 20, b = 10):\n",
    "    return a - b\n",
    "print(substract())\n",
    "print(substract(15))\n",
    "print(substract(3, 21))\n",
    "substract(3, 4), substract(20, 6)"
   ]
  },
  {
   "cell_type": "markdown",
   "id": "f159aced-3f6b-46f0-81d7-48654f2f19d4",
   "metadata": {},
   "source": [
    "## 여러 개의 입력값을 받는 함수"
   ]
  },
  {
   "cell_type": "code",
   "execution_count": 89,
   "id": "fdfc4073-dd31-436a-9600-5b005732ebb5",
   "metadata": {},
   "outputs": [
    {
     "name": "stdout",
     "output_type": "stream",
     "text": [
      "([1, 2, 3],) <class 'tuple'>\n",
      "() <class 'tuple'>\n",
      "((1, 2, 4),) <class 'tuple'>\n",
      "({3, 5, 7},) <class 'tuple'>\n",
      "==============================\n",
      "[1, 2, 3] <class 'list'>\n",
      "[] <class 'list'>\n",
      "[1, 2, 4] <class 'list'>\n",
      "[3, 5, 7] <class 'list'>\n",
      "++++++++++++++++++++++++++++++\n",
      "++++++++++++++++++++++++++++++\n",
      "9\n",
      "24\n",
      "==============================\n",
      "21\n",
      "5040\n"
     ]
    }
   ],
   "source": [
    "def many(*args):\n",
    "    print(args, type(args))\n",
    "    result = list()\n",
    "    for v in args:\n",
    "        result += v\n",
    "    \n",
    "    return result\n",
    "#re1 = many(1, 2, 3, 4)\n",
    "#print(re1)\n",
    "re2 = many([1, 2, 3])\n",
    "re3 = many()\n",
    "re4 = many((1, 2, 4))\n",
    "re5 = many({3, 5, 7})\n",
    "print('='*30)\n",
    "print(re2, type(re2))\n",
    "print(re3, type(re3))\n",
    "print(re4, type(re4))\n",
    "print(re5, type(re5))\n",
    "print('+'*30+'\\n'+'+'*30)\n",
    "\n",
    "# def manymany(choice, *args):\n",
    "#     if choice == 'add':\n",
    "#         result = 0\n",
    "#         for v in args:\n",
    "#             result += v\n",
    "#     elif choice == 'mul':\n",
    "#         result = 1\n",
    "#         for v in args:\n",
    "#             result *= v\n",
    "#     return result\n",
    "\n",
    "# a = manymany('add', 3, 4)\n",
    "# b = manymany('mul', 3, 4)\n",
    "# print(a)\n",
    "# print(b)\n",
    "\n",
    "def addMany(*args):\n",
    "    result = 0\n",
    "    for v in args:\n",
    "        result += v\n",
    "    return result\n",
    "\n",
    "def mulMany(*args):\n",
    "    result = 1\n",
    "    for v in args:\n",
    "        result *= v\n",
    "    return result\n",
    "\n",
    "def calMany(mode, *args):\n",
    "    modes = {\n",
    "        'add' : addMany(*args),\n",
    "        'mul' : mulMany(*args)\n",
    "    }\n",
    "    return modes.get(mode, 0)\n",
    "\n",
    "a = calMany('add', 2, 3, 4)\n",
    "b = calMany('mul', 2, 3, 4)\n",
    "print(a)\n",
    "print(b)\n",
    "print('='*30)\n",
    "\n",
    "tp = 1, 2, 3, 4, 5, 6\n",
    "lt = [7, 8, 9, 10]\n",
    "result1 = calMany('add', *tp)\n",
    "result2 = calMany('mul', *lt)\n",
    "\n",
    "print(result1)\n",
    "print(result2)"
   ]
  },
  {
   "cell_type": "code",
   "execution_count": 126,
   "id": "fe9f36f2-d57b-4c3d-abc9-06203f50a267",
   "metadata": {
    "scrolled": true
   },
   "outputs": [
    {
     "name": "stdout",
     "output_type": "stream",
     "text": [
      "<class 'tuple'> / add : (1, 2, 3, 4)\n",
      "<class 'tuple'> / mul : (1, 2, 3, 4)\n",
      "10\n",
      "24\n",
      "==================================================\n",
      "<class 'tuple'> / add : (1, 2, 3, 4)\n",
      "10\n"
     ]
    }
   ],
   "source": [
    "def newMany(*args):\n",
    "    print(type(args), '/', f'{args[0]} : {args[1:]}')\n",
    "    # tuple 복합 인자 쪼개기\n",
    "    if args[0] == 'add':\n",
    "        result = 0\n",
    "        for v in args[1:]:\n",
    "            result += v\n",
    "    elif args[0] == 'mul':\n",
    "        result = 1\n",
    "        for v in args[1:]:\n",
    "            result *= v\n",
    "    return result\n",
    "result3 = newMany('add', 1, 2, 3, 4)\n",
    "result4 = newMany('mul', 1, 2, 3, 4)\n",
    "print(result3)\n",
    "print(result4)\n",
    "print('='*50)\n",
    "# 함수에 tuple 인수로 넣기\n",
    "arg1 = 'add', 1, 2, 3, 4\n",
    "print(newMany(*arg1))"
   ]
  },
  {
   "cell_type": "code",
   "execution_count": 186,
   "id": "fbcd19b9-2fb9-4a69-8d88-99bf6ea41c13",
   "metadata": {},
   "outputs": [
    {
     "name": "stdout",
     "output_type": "stream",
     "text": [
      "<class 'tuple'> / add : (1, 2, 3, 4)\n",
      "10\n",
      "<class 'tuple'> / mul : (1, 2, 3, 4)\n",
      "24\n",
      "<class 'tuple'> / add : (1, 2, 3, 4)\n",
      "10\n",
      "==============================\n"
     ]
    },
    {
     "name": "stdin",
     "output_type": "stream",
     "text": [
      "모드를 선택하시겠습니까(add, mul)? > add\n",
      "몇 개의 숫자를 입력하시겠습니까? > 0\n",
      "몇 개의 숫자를 입력하시겠습니까? > -2\n",
      "몇 개의 숫자를 입력하시겠습니까? > 10\n",
      "숫자를 입력하세요. 2\n",
      "숫자를 입력하세요. 3\n",
      "숫자를 입력하세요. 4\n",
      "숫자를 입력하세요. 5\n",
      "숫자를 입력하세요. 6\n",
      "숫자를 입력하세요. 7\n",
      "숫자를 입력하세요. 8\n",
      "숫자를 입력하세요. 9\n",
      "숫자를 입력하세요. 0\n",
      "숫자를 입력하세요. 1\n"
     ]
    },
    {
     "name": "stdout",
     "output_type": "stream",
     "text": [
      "<class 'list'> / add : [2, 3, 4, 5, 6, 7, 8, 9, 0, 1]\n",
      "45\n"
     ]
    }
   ],
   "source": [
    "def newMany2(args):\n",
    "    print(type(args), '/', f'{args[0]} : {args[1:]}')\n",
    "    itr = tuple(args) # 2번째 솔루션을 위해 튜플 자료형으로 변환\n",
    "    if itr[0] == 'add':\n",
    "        result = 0\n",
    "        for v in itr[1:]:\n",
    "            result += v\n",
    "    elif itr[0] == 'mul':\n",
    "        result = 1\n",
    "        for v in itr[1:]:\n",
    "            result *= v\n",
    "    try:\n",
    "        return result\n",
    "    except:\n",
    "        return ' [결과를 받을 수 없습니다.]'\n",
    "\n",
    "# 1번째 솔루션\n",
    "print( newMany2( ('add', 1, 2, 3, 4) ) )\n",
    "print( newMany2( ('mul', 1, 2, 3, 4) ) )\n",
    "arg2 = 'add', 1, 2, 3, 4\n",
    "print( newMany2(arg2) )\n",
    "print('='*30)\n",
    "\n",
    "# 2번째 솔루션\n",
    "arg3 = [] # 리스트 객체 준비\n",
    "arg3.append(input('모드를 선택하시겠습니까(add, mul)? >'))\n",
    "put = None\n",
    "count = 0\n",
    "while count < 1:\n",
    "    try:\n",
    "        count = int(input('몇 개의 숫자를 입력하시겠습니까? >'))\n",
    "    except:\n",
    "        print(' [올바른 형식으로 입력하세요.] ')\n",
    "\n",
    "while len(arg3) < count + 1: # count 개수만큼 입력\n",
    "    try:\n",
    "        put = int(input('숫자를 입력하세요.'))\n",
    "    except:\n",
    "        print(' [올바른 형식으로 입력하세요.] ')\n",
    "    else:\n",
    "        arg3.append(put) # 리스트에 추가\n",
    "print( newMany2(arg3) ) # 출력"
   ]
  },
  {
   "cell_type": "code",
   "execution_count": 135,
   "id": "08bfbbd4-b765-43be-a9e7-1cc0ef7096c8",
   "metadata": {},
   "outputs": [
    {
     "name": "stdout",
     "output_type": "stream",
     "text": [
      "<class 'dict'> {'a': 1, 'b': 2, 'c': 'a', 'd': [3, 4, 5], 'e': {'one': '하나', 'two': '둘'}}\n",
      "<class 'dict'> {'apple': '사과', 'onion': '양파'}\n"
     ]
    }
   ],
   "source": [
    "def dicStar(**kargs):\n",
    "    print(type(kargs), kargs)\n",
    "dicStar(a=1, b=2, c='a', d=[3, 4, 5], e={'one':'하나', 'two':'둘'})\n",
    "dicStar(apple='사과', onion='양파')"
   ]
  },
  {
   "cell_type": "code",
   "execution_count": 151,
   "id": "f844459e-81e5-401e-87cb-0146c5339672",
   "metadata": {},
   "outputs": [
    {
     "name": "stdout",
     "output_type": "stream",
     "text": [
      "(11, 30, 56) <class 'tuple'>\n",
      "11, 30, 56\n"
     ]
    }
   ],
   "source": [
    "def mix(a, b):\n",
    "    '''이 함수는 두 개의 인자를 받아서\n",
    "    3개의 결과값을 출력합니다.\n",
    "    각각 덧셈과 곱셈과 10을 곱한 값을 결과로 출력합니다. '''\n",
    "    return a+b, a*b, a*10+b\n",
    "\n",
    "result = mix(5, 6)\n",
    "x, y, z = mix(5, 6)\n",
    "print(result, type(result))\n",
    "print(f'{x}, {y}, {z}')"
   ]
  },
  {
   "cell_type": "code",
   "execution_count": 159,
   "id": "ae89cc7f-4910-446a-8401-78bf3083634c",
   "metadata": {},
   "outputs": [
    {
     "name": "stdout",
     "output_type": "stream",
     "text": [
      "이 함수는 두 개의 인자를 받아서\n",
      "3개의 결과값을 출력합니다.\n",
      "각각 덧셈과 곱셈과 10을 곱한 값을 결과로 출력합니다. \n",
      "()\n"
     ]
    }
   ],
   "source": [
    "print(mix.__doc__)\n",
    "print(mix.__type_params__)"
   ]
  },
  {
   "cell_type": "markdown",
   "id": "af57b571-69e7-4d52-a549-97cd5a2bcade",
   "metadata": {},
   "source": [
    "## 함수와 변수"
   ]
  },
  {
   "cell_type": "code",
   "execution_count": 176,
   "id": "4d05ba11-0383-4711-9c6a-dc92fe7a3c9b",
   "metadata": {},
   "outputs": [
    {
     "name": "stdout",
     "output_type": "stream",
     "text": [
      "7\n",
      "17\n"
     ]
    }
   ],
   "source": [
    "a = 7\n",
    "print(a)\n",
    "\n",
    "def var_test(a):\n",
    "    a += 10\n",
    "    print(a)\n",
    "\n",
    "var_test(a)"
   ]
  },
  {
   "cell_type": "code",
   "execution_count": 187,
   "id": "28691950-8085-459e-b3d4-90597ae24345",
   "metadata": {},
   "outputs": [
    {
     "name": "stdout",
     "output_type": "stream",
     "text": [
      "5\n",
      "6\n"
     ]
    }
   ],
   "source": [
    "b = 5\n",
    "print(b)\n",
    "# 리턴 값 존재\n",
    "def var_test2(b):\n",
    "    b += 1\n",
    "    return b\n",
    "\n",
    "print(var_test2(b))"
   ]
  },
  {
   "cell_type": "markdown",
   "id": "942f0d76-78db-46ee-8468-d7923a9f8fee",
   "metadata": {},
   "source": [
    "### 전역 번수(global)"
   ]
  },
  {
   "cell_type": "code",
   "execution_count": 183,
   "id": "2baa93ee-766e-4dec-b5ce-847aba0a9f63",
   "metadata": {},
   "outputs": [
    {
     "name": "stdout",
     "output_type": "stream",
     "text": [
      "6\n",
      "6\n"
     ]
    }
   ],
   "source": [
    "# global variable\n",
    "a = 5\n",
    "\n",
    "def var_test3():\n",
    "    '''\n",
    "    global 함수는 자제하고 return 값으로 사용하길 권장함\n",
    "    (javascript의 var 변수와 비슷한 기능임 - 예전 문법)\n",
    "    '''\n",
    "    global a\n",
    "    a += 1\n",
    "    print(a)\n",
    "\n",
    "var_test3()\n",
    "# 힘수 실행 이후에 출력 결과가 동일함\n",
    "print(a)\n"
   ]
  },
  {
   "cell_type": "markdown",
   "id": "278a4c7d-0d12-44a0-a253-7dfa3ccbab8b",
   "metadata": {},
   "source": [
    "## 람다 함수(익명 함수)"
   ]
  },
  {
   "cell_type": "code",
   "execution_count": null,
   "id": "0ff341dc-9274-4bad-bdfc-159fc11ec18c",
   "metadata": {},
   "outputs": [],
   "source": [
    "# 람다 = 한 줄 표현 함수\n",
    "add = lambda a, b: a * 10 + b\n",
    "res1 = add(2, 5)\n",
    "print(res1)\n",
    "\n",
    "mul = lambda a = 1, b = 1: a * b\n",
    "res2 = mul(2, 5)\n",
    "res3 = mul()\n",
    "print(res2)\n",
    "print(res3)"
   ]
  },
  {
   "cell_type": "code",
   "execution_count": null,
   "id": "824a2191-42ee-4661-aa0f-ba904aa7d939",
   "metadata": {},
   "outputs": [],
   "source": [
    "# 일반 함수로 매핑\n",
    "def test(v):\n",
    "    return v**2\n",
    "sq = map(test, arr)\n",
    "\n",
    "# 람다 함수 예제\n",
    "arr = list(range(1, 6))\n",
    "print(arr)\n",
    "sq = map(lambda a = 1: a**2, arr)\n",
    "print(list(sq))\n",
    "\n",
    "# 변수로 저장 후 매핑\n",
    "lam = lambda a : a**2\n",
    "sq = map(lam, arr)\n",
    "print(list(sq))\n",
    "\n",
    "# 사용한 이후에는 빈 형태가 됨\n",
    "print(list(sq))"
   ]
  },
  {
   "cell_type": "code",
   "execution_count": null,
   "id": "c5a2d3f3-8637-457c-aa85-819aff60d13f",
   "metadata": {
    "scrolled": true
   },
   "outputs": [],
   "source": [
    "dir(list)"
   ]
  },
  {
   "cell_type": "code",
   "execution_count": null,
   "id": "180c0144-44e6-4fb8-a6cf-ec2cc316e119",
   "metadata": {},
   "outputs": [],
   "source": []
  }
 ],
 "metadata": {
  "kernelspec": {
   "display_name": "Python 3 (ipykernel)",
   "language": "python",
   "name": "python3"
  },
  "language_info": {
   "codemirror_mode": {
    "name": "ipython",
    "version": 3
   },
   "file_extension": ".py",
   "mimetype": "text/x-python",
   "name": "python",
   "nbconvert_exporter": "python",
   "pygments_lexer": "ipython3",
   "version": "3.13.0"
  }
 },
 "nbformat": 4,
 "nbformat_minor": 5
}
