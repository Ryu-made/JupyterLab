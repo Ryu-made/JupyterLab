{
 "cells": [
  {
   "cell_type": "markdown",
   "id": "c0e50576-7474-4912-81a0-274f05afdf58",
   "metadata": {},
   "source": [
    "# Dash in 20 Minutes"
   ]
  },
  {
   "cell_type": "markdown",
   "id": "27cb08fd-3314-43b8-b6f4-dfcf16b68bde",
   "metadata": {},
   "source": [
    "## Print \"Hello World\""
   ]
  },
  {
   "cell_type": "code",
   "execution_count": 2,
   "id": "a99902fe-e29d-418f-9e05-a4f28eebc081",
   "metadata": {},
   "outputs": [],
   "source": [
    "from dash import Dash, html"
   ]
  },
  {
   "cell_type": "code",
   "execution_count": 5,
   "id": "871af4a5-5f64-49cc-be32-343c8cf187cb",
   "metadata": {
    "editable": true,
    "scrolled": true,
    "slideshow": {
     "slide_type": ""
    },
    "tags": []
   },
   "outputs": [
    {
     "data": {
      "text/html": [
       "\n",
       "        <iframe\n",
       "            width=\"100%\"\n",
       "            height=\"650\"\n",
       "            src=\"http://127.0.0.1:8050/\"\n",
       "            frameborder=\"0\"\n",
       "            allowfullscreen\n",
       "            \n",
       "        ></iframe>\n",
       "        "
      ],
      "text/plain": [
       "<IPython.lib.display.IFrame at 0x2095aea3750>"
      ]
     },
     "metadata": {},
     "output_type": "display_data"
    }
   ],
   "source": [
    "app = Dash()\n",
    "app.layout = [html.Div(children='Hello World')]\n",
    "\n",
    "if __name__ == '__main__':\n",
    "    app.run()"
   ]
  }
 ],
 "metadata": {
  "kernelspec": {
   "display_name": "Python 3 (ipykernel)",
   "language": "python",
   "name": "python3"
  },
  "language_info": {
   "codemirror_mode": {
    "name": "ipython",
    "version": 3
   },
   "file_extension": ".py",
   "mimetype": "text/x-python",
   "name": "python",
   "nbconvert_exporter": "python",
   "pygments_lexer": "ipython3",
   "version": "3.13.0"
  }
 },
 "nbformat": 4,
 "nbformat_minor": 5
}
