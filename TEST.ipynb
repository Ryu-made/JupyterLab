{
 "cells": [
  {
   "cell_type": "code",
   "execution_count": 1,
   "id": "b382449c-9387-4307-92c7-44e8db38f685",
   "metadata": {},
   "outputs": [],
   "source": [
    "import requests as req"
   ]
  },
  {
   "cell_type": "code",
   "execution_count": 3,
   "id": "b7e5cc4c-5767-4202-8572-4f3553d1b3e1",
   "metadata": {
    "collapsed": true,
    "jupyter": {
     "outputs_hidden": true
    }
   },
   "outputs": [
    {
     "name": "stdout",
     "output_type": "stream",
     "text": [
      "200\n",
      "{\"response\":{\"header\":{\"resultCode\":\"00\",\"resultMsg\":\"NORMAL SERVICE\"},\"body\":{\"pageNo\":1,\"totalCount\":142333,\"items\":{\"item\":[{\"addr_ctpv_nm\":\"경기도\",\"nation_yn\":\"N\",\"faci_daddr\":\"1005호\",\"row_num\":1,\"base_ymd\":\"20210310\",\"faci_stat_nm\":\"정상운영\",\"faci_mng_type_cd\":\"자체운영        \",\"reg_dt\":\"2021-08-11\",\"fmng_cpb_nm\":\"고양시\",\"inout_gbn_nm\":\"없음\",\"faci_lat\":\"37.6361379021603\",\"faci_cd\":\"E1DE682A80811DA7E71A53B2F1D45637\",\"faci_zip\":\"10497\",\"faci_gfa\":88,\"fmng_cp_nm\":\"경기도\",\"ftype_nm\":\"무도학원\",\"cpb_nm\":\"고양시\",\"addr_emd_nm\":\"화정동\",\"addr_cpb_nm\":\"고양시 덕양구\",\"faci_road_zip\":\"10497\",\"faci_lot\":\"126.831467372597\",\"updt_dt\":\"2024-12-18\",\"faci_gb_nm\":\"신고\",\"cp_nm\":\"경기도\",\"faci_nm\":\"위드미 댄스\",\"faci_road_addr\":\"경기도 고양시 덕양구 화중로 100(화정동)\",\"atnm_chk_yn\":\"N\",\"fcob_nm\":\"무도학원업\",\"faci_addr\":\"경기도 고양시 덕양구 화정동 968 비젼타워21\"},{\"addr_ctpv_nm\":\"경기도\",\"nation_yn\":\"N\",\"row_num\":2,\"base_ymd\":\"20210309\",\"faci_stat_nm\":\"정상운영\",\"reg_dt\":\"2021-08-11\",\"inout_gbn_nm\":\"없음\",\"faci_lat\":\"37.661864579188\",\"faci_cd\":\"97E7959ABA7ED5F870AF36079FC6E98F\",\"faci_zip\":\"10571\",\"faci_gfa\":248,\"ftype_nm\":\"당구장\",\"cpb_nm\":\"고양시\",\"addr_emd_nm\":\"신원동\",\"addr_cpb_nm\":\"고양시\",\"faci_road_zip\":\"10571\",\"faci_lot\":\"126.89031898317\",\"updt_dt\":\"2024-10-31\",\"faci_gb_nm\":\"신고\",\"cp_nm\":\"경기도\",\"faci_nm\":\"히키스 캐롬 클럽\",\"faci_road_addr\":\"경기도 고양시 덕양구 신원로 10(신원동)\",\"atnm_chk_yn\":\"Y\",\"fcob_nm\":\"당구장업\",\"faci_addr\":\"경기도 고양시 덕양구 신원동 633\"},{\"addr_ctpv_nm\":\"경기도\",\"nation_yn\":\"N\",\"row_num\":3,\"base_ymd\":\"20200929\",\"faci_stat_nm\":\"폐업\",\"reg_dt\":\"2021-08-11\",\"inout_gbn_nm\":\"없음\",\"faci_lat\":\"0\",\"faci_cd\":\"0CC77977D1C368EB9B82BB3B85F2F7B7\",\"faci_zip\":\"10574\",\"sdwn_ymd\":\"20240621\",\"faci_gfa\":10308,\"faci_road_daddr\":\"(오금동)\",\"ftype_nm\":\"야구장\",\"cpb_nm\":\"고양시\",\"addr_cpb_nm\":\"고양시\",\"faci_road_zip\":\"10574\",\"faci_lot\":\"0\",\"updt_dt\":\"2024-10-31\",\"faci_gb_nm\":\"신고\",\"cp_nm\":\"경기도\",\"faci_nm\":\"빅이닝 고양 볼파크\",\"faci_road_addr\":\"경기도 고양시 덕양구 통일로396번길 78-25(오금동)\",\"atnm_chk_yn\":\"N\",\"fcob_nm\":\"야구장업\",\"faci_addr\":\"경기도 고양시 덕양구 오금동 379-1\"},{\"addr_ctpv_nm\":\"울산광역시\",\"nation_yn\":\"N\",\"row_num\":4,\"base_ymd\":\"20210326\",\"faci_stat_nm\":\"정상운영\",\"reg_dt\":\"2021-08-20\",\"inout_gbn_nm\":\"없음\",\"faci_lat\":\"35.6393412009886\",\"faci_cd\":\"C352AF95B518C2DE8CCA6155483137D2\",\"faci_zip\":\"44200\",\"faci_gfa\":164,\"ftype_nm\":\"줄넘기\",\"cpb_nm\":\"북구\",\"addr_emd_nm\":\"천곡동\",\"addr_cpb_nm\":\"북구\",\"faci_road_zip\":\"44200\",\"faci_lot\":\"129.328755880774\",\"updt_dt\":\"2024-11-14\",\"faci_gb_nm\":\"신고\",\"cp_nm\":\"울산광역시\",\"faci_nm\":\"리듬N점프 천곡점\",\"faci_road_addr\":\"울산광역시 북구 천곡길 150(천곡동)\",\"atnm_chk_yn\":\"Y\",\"fcob_nm\":\"체육교습업\",\"faci_addr\":\"울산광역시 북구 천곡동 536-1 조이푸드\"},{\"addr_ctpv_nm\":\"울산광역시\",\"nation_yn\":\"N\",\"row_num\":5,\"base_ymd\":\"20210223\",\"faci_stat_nm\":\"정상운영\",\"reg_dt\":\"2021-08-20\",\"inout_gbn_nm\":\"없음\",\"faci_lat\":\"35.5886956561816\",\"faci_cd\":\"7384A2FE398CC29E9C69DE35A7894E80\",\"faci_zip\":\"44241\",\"faci_gfa\":330,\"ftype_nm\":\"당구장\",\"cpb_nm\":\"북구\",\"addr_emd_nm\":\"화봉동\",\"addr_cpb_nm\":\"북구\",\"faci_road_zip\":\"44241\",\"faci_lot\":\"129.367048976739\",\"updt_dt\":\"2024-12-19\",\"faci_gb_nm\":\"신고\",\"cp_nm\":\"울산광역시\",\"faci_nm\":\"현대당구클럽\",\"faci_road_addr\":\"울산광역시 북구 화봉로 73(화봉동)\",\"atnm_chk_yn\":\"Y\",\"fcob_nm\":\"당구장업\",\"faci_addr\":\"울산광역시 북구 화봉동 449-7\"},{\"addr_ctpv_nm\":\"울산광역시\",\"nation_yn\":\"N\",\"row_num\":6,\"base_ymd\":\"20210210\",\"faci_stat_nm\":\"정상운영\",\"reg_dt\":\"2021-08-20\",\"inout_gbn_nm\":\"실내\",\"faci_lat\":\"35.662690889897\",\"faci_cd\":\"A9F0BB1DDB7F78B9538A52632D295CF5\",\"faci_zip\":\"44216\",\"faci_gfa\":163,\"ftype_nm\":\"합기도\",\"cpb_nm\":\"북구\",\"addr_emd_nm\":\"중산동\",\"addr_cpb_nm\":\"북구\",\"faci_road_zip\":\"44216\",\"faci_lot\":\"129.336928680685\",\"updt_dt\":\"2024-11-14\",\"faci_gb_nm\":\"신고\",\"cp_nm\":\"울산광역시\",\"faci_nm\":\"무림체육관\",\"faci_road_addr\":\"울산광역시 북구 이화5길 29-3(중산동, 이화한라동아아파트)\",\"atnm_chk_yn\":\"Y\",\"fcob_nm\":\"체육도장업\",\"faci_addr\":\"울산광역시 북구 중산동 566-1 이화한라동아아파트\"},{\"addr_ctpv_nm\":\"광주광역시\",\"nation_yn\":\"N\",\"row_num\":7,\"base_ymd\":\"20210217\",\"faci_stat_nm\":\"정상운영\",\"reg_dt\":\"2021-08-23\",\"inout_gbn_nm\":\"실내\",\"faci_lat\":\"35.1899776886773\",\"faci_cd\":\"46E5B63662E9B05C341CA878F8C969F5\",\"faci_zip\":\"62306\",\"faci_gfa\":487,\"ftype_nm\":\"골프\",\"cpb_nm\":\"광산구\",\"addr_emd_nm\":\"수완동\",\"addr_cpb_nm\":\"광산구\",\"faci_road_zip\":\"62306\",\"faci_lot\":\"126.827794530127\",\"updt_dt\":\"2024-10-31\",\"faci_gb_nm\":\"신고\",\"cp_nm\":\"광주광역시\",\"faci_nm\":\"GDR스카이캐슬 골프연습장\",\"faci_road_addr\":\"광주광역시 광산구 장신로148번길 9-14(수완동)\",\"atnm_chk_yn\":\"Y\",\"fcob_nm\":\"가상체험 체육시설업\",\"faci_addr\":\"광주광역시 광산구 수완동 1464\"},{\"addr_ctpv_nm\":\"인천광역시\",\"nation_yn\":\"N\",\"row_num\":8,\"base_ymd\":\"20210811\",\"faci_stat_nm\":\"정상운영\",\"reg_dt\":\"2021-08-27\",\"inout_gbn_nm\":\"실내\",\"faci_lat\":\"37.5948102333955\",\"faci_cd\":\"B63864AC99AF3BD16826DD955A62E50A\",\"faci_zip\":\"22865\",\"faci_gfa\":253,\"ftype_nm\":\"태권도\",\"cpb_nm\":\"서구\",\"addr_emd_nm\":\"원당동\",\"addr_cpb_nm\":\"서구\",\"faci_road_zip\":\"22865\",\"faci_lot\":\"126.715466631964\",\"updt_dt\":\"2024-10-31\",\"faci_gb_nm\":\"신고\",\"cp_nm\":\"인천광역시\",\"faci_nm\":\"경희대TOP 검단태권도\",\"faci_road_addr\":\"인천광역시 서구 이음5로 70(원당동)\",\"atnm_chk_yn\":\"Y\",\"fcob_nm\":\"체육도장업\",\"faci_addr\":\"인천광역시 서구 원당동 1030-5 새샘프라자\"},{\"addr_ctpv_nm\":\"인천광역시\",\"nation_yn\":\"N\",\"row_num\":9,\"base_ymd\":\"20210806\",\"faci_stat_nm\":\"정상운영\",\"reg_dt\":\"2021-08-27\",\"inout_gbn_nm\":\"실내\",\"faci_lat\":\"37.5793912535823\",\"faci_cd\":\"FE43ADBBE89FB43CE222985B11930A29\",\"faci_zip\":\"22672\",\"faci_gfa\":489,\"ftype_nm\":\"농구\",\"cpb_nm\":\"서구\",\"addr_emd_nm\":\"백석동\",\"addr_cpb_nm\":\"서구\",\"faci_road_zip\":\"22672\",\"faci_lot\":\"126.660461291021\",\"updt_dt\":\"2024-10-31\",\"faci_gb_nm\":\"신고\",\"cp_nm\":\"인천광역시\",\"faci_nm\":\"코리아 농구교실\",\"faci_road_addr\":\"인천광역시 서구 한서로 22(백석동)\",\"atnm_chk_yn\":\"Y\",\"fcob_nm\":\"체육교습업\",\"faci_addr\":\"인천광역시 서구 백석동 212-221\"},{\"addr_ctpv_nm\":\"충청남도\",\"nation_yn\":\"N\",\"faci_daddr\":\"2층\",\"row_num\":10,\"base_ymd\":\"20010529\",\"faci_stat_nm\":\"정상운영\",\"faci_mng_type_cd\":\"자체운영        \",\"reg_dt\":\"2021-08-30\",\"inout_gbn_nm\":\"실내\",\"faci_lat\":\"36.6017777462821\",\"faci_cd\":\"02E86666E5F360897A2B07D25CE176C8\",\"faci_zip\":\"32221\",\"faci_gfa\":100,\"faci_road_daddr\":\"2층\",\"ftype_nm\":\"무도학원\",\"cpb_nm\":\"홍성군\",\"addr_emd_nm\":\"대교리\",\"addr_cpb_nm\":\"홍성군\",\"faci_road_zip\":\"32221\",\"faci_lot\":\"126.670039801516\",\"updt_dt\":\"2024-10-31\",\"faci_gb_nm\":\"신고\",\"cp_nm\":\"충청남도\",\"faci_nm\":\"홍성무도학원\",\"faci_road_addr\":\"충청남도 홍성군 홍성읍 의사로43번길 10\",\"atnm_chk_yn\":\"N\",\"fcob_nm\":\"무도학원업\",\"faci_addr\":\"충청남도 홍성군 홍성읍 대교리 397-2\"},{\"addr_ctpv_nm\":\"충청남도\",\"nation_yn\":\"N\",\"faci_daddr\":\"지하\",\"row_num\":11,\"base_ymd\":\"20141010\",\"faci_stat_nm\":\"폐업\",\"faci_mng_type_cd\":\"자체운영        \",\"reg_dt\":\"2021-08-30\",\"inout_gbn_nm\":\"실내\",\"faci_lat\":\"36.6013673956947\",\"faci_cd\":\"4B87BD65F4DBB5C5C13C743CBA143F63\",\"faci_zip\":\"32223\",\"sdwn_ymd\":\"20231228\",\"faci_gfa\":233,\"faci_road_daddr\":\"지하\",\"ftype_nm\":\"무도학원\",\"cpb_nm\":\"홍성군\",\"addr_emd_nm\":\"오관리\",\"addr_cpb_nm\":\"홍성군\",\"faci_road_zip\":\"32223\",\"faci_lot\":\"126.662901312317\",\"updt_dt\":\"2024-10-31\",\"faci_gb_nm\":\"신고\",\"cp_nm\":\"충청남도\",\"faci_nm\":\"홍주댄스스포츠 에어로빅\",\"faci_road_addr\":\"충청남도 홍성군 홍성읍 아문길 37-1\",\"atnm_chk_yn\":\"N\",\"fcob_nm\":\"무도학원업\",\"faci_addr\":\"충청남도 홍성군 홍성읍 오관리 110-6\"},{\"addr_ctpv_nm\":\"경기도\",\"nation_yn\":\"N\",\"faci_daddr\":\"축구장\",\"row_num\":12,\"base_ymd\":\"19990101\",\"fmng_dept_nm\":\"체육진흥과 체육시설팀\",\"faci_stat_nm\":\"정상운영\",\"faci_mng_type_cd\":\"자체운영        \",\"fmng_type_gb_nm\":\"지자체\",\"reg_dt\":\"2021-06-25\",\"fmng_cpb_nm\":\"화성시\",\"inout_gbn_nm\":\"없음\",\"faci_lat\":\"37.1999005245097\",\"faci_cd\":\"A3DAF6E772A0256457D46D04DB5B0E2E\",\"faci_zip\":\"18476\",\"faci_road_daddr\":\"축구장\",\"fmng_cp_nm\":\"경기도\",\"ftype_nm\":\"축구장\",\"cpb_nm\":\"화성시\",\"addr_emd_nm\":\"청계동\",\"addr_cpb_nm\":\"화성시\",\"faci_road_zip\":\"18476\",\"faci_tel_no\":\"031-355-1292\",\"faci_lot\":\"127.10767573677\",\"updt_dt\":\"2024-12-16\",\"faci_gb_nm\":\"공공\",\"cp_nm\":\"경기도\",\"faci_mng_user_telno\":\"031-5189-6188\",\"faci_nm\":\"청계중앙공원 축구장\",\"faci_road_addr\":\"경기도 화성시 동탄대로시범길 133 (청계동)\",\"atnm_chk_yn\":\"N\",\"fcob_nm\":\"축구장\",\"faci_addr\":\"경기도 화성시 청계동 530 동탄중앙어울림센터, 동탄4동 행정복지센터\",\"ssm_dsn_yn\":\"N\"},{\"addr_ctpv_nm\":\"경기도\",\"nation_yn\":\"N\",\"faci_daddr\":\"농구장\",\"row_num\":13,\"base_ymd\":\"19990101\",\"fmng_dept_nm\":\"체육진흥과 체육시설팀\",\"faci_stat_nm\":\"정상운영\",\"faci_mng_type_cd\":\"자체운영        \",\"fmng_type_gb_nm\":\"지자체\",\"reg_dt\":\"2021-06-25\",\"fmng_cpb_nm\":\"화성시\",\"inout_gbn_nm\":\"없음\",\"faci_lat\":\"37.2102762775842\",\"faci_cd\":\"5DFCFE3B6E8F96363D558AC5FE3B2756\",\"fmng_cp_nm\":\"경기도\",\"ftype_nm\":\"기타시설\",\"cpb_nm\":\"화성시\",\"addr_emd_nm\":\"영천동\",\"addr_cpb_nm\":\"화성시\",\"faci_tel_no\":\"031-355-1292\",\"faci_lot\":\"127.105804958906\",\"updt_dt\":\"2024-12-16\",\"faci_gb_nm\":\"공공\",\"cp_nm\":\"경기도\",\"faci_mng_user_telno\":\"031-5189-6188\",\"faci_nm\":\"선납숲공원 농구장\",\"atnm_chk_yn\":\"N\",\"fcob_nm\":\"기타시설\",\"faci_addr\":\"경기 화성시 영천동 525-1\",\"ssm_dsn_yn\":\"N\"},{\"addr_ctpv_nm\":\"서울특별시\",\"nation_yn\":\"N\",\"faci_daddr\":\"잠실아이파크 B 101,102호 (잠실동)\",\"row_num\":14,\"base_ymd\":\"20210617\",\"faci_stat_nm\":\"정상운영\",\"reg_dt\":\"2021-06-25\",\"inout_gbn_nm\":\"없음\",\"faci_lat\":\"37.5100536619186\",\"faci_cd\":\"186948062AF22D218F86ADDF72409E15\",\"faci_zip\":\"05561\",\"faci_gfa\":1734,\"faci_road_daddr\":\"잠실아이파크 B 101,102호 (잠실동)\",\"ftype_nm\":\"골프\",\"cpb_nm\":\"송파구\",\"addr_emd_nm\":\"잠실동\",\"addr_cpb_nm\":\"송파구\",\"faci_road_zip\":\"05561\",\"faci_tel_no\":\"02-421-1872\",\"faci_lot\":\"127.08003588158\",\"updt_dt\":\"2024-10-31\",\"faci_gb_nm\":\"신고\",\"cp_nm\":\"서울특별시\",\"faci_nm\":\"더블원골프 잠실점\",\"faci_road_addr\":\"서울특별시 송파구 올림픽로8길 20 (잠실동)\",\"atnm_chk_yn\":\"Y\",\"fcob_nm\":\"가상체험 체육시설업\",\"faci_addr\":\"서울특별시 송파구 잠실동 194 잠실아이파크\"},{\"addr_ctpv_nm\":\"경상남도\",\"nation_yn\":\"N\",\"row_num\":15,\"base_ymd\":\"20210222\",\"faci_stat_nm\":\"정상운영\",\"reg_dt\":\"2021-11-02\",\"inout_gbn_nm\":\"없음\",\"faci_lat\":\"35.3783658568454\",\"faci_cd\":\"A125848696A1BD78954F15905D7265C4\",\"faci_zip\":\"52257\",\"faci_gfa\":419,\"ftype_nm\":\"체력단련장\",\"cpb_nm\":\"산청군\",\"addr_emd_nm\":\"단계리\",\"addr_cpb_nm\":\"산청군\",\"faci_road_zip\":\"52257\",\"faci_lot\":\"128.009584534582\",\"updt_dt\":\"2024-12-04\",\"faci_gb_nm\":\"신고\",\"cp_nm\":\"경상남도\",\"faci_nm\":\"신등청춘문화센터 체력단련실\",\"faci_road_addr\":\"경상남도 산청군 신등면 신차로 519\",\"atnm_chk_yn\":\"Y\",\"fcob_nm\":\"체력단련장업\",\"faci_addr\":\"경상남도 산청군 신등면 단계리 654 우리들의원\"},{\"addr_ctpv_nm\":\"서울특별시\",\"nation_yn\":\"N\",\"row_num\":16,\"base_ymd\":\"20210106\",\"faci_stat_nm\":\"정상운영\",\"reg_dt\":\"2021-03-05\",\"inout_gbn_nm\":\"실내\",\"faci_lat\":\"37.5912621342114\",\"faci_cd\":\"FFF480009CC53D00DF16A5FF128AE1CB\",\"faci_zip\":\"02140\",\"faci_gfa\":172,\"ftype_nm\":\"우슈\",\"cpb_nm\":\"중랑구\",\"addr_emd_nm\":\"면목동\",\"addr_cpb_nm\":\"중랑구\",\"faci_road_zip\":\"02140\",\"faci_tel_no\":\"02-437-0234\",\"faci_lot\":\"127.080730570848\",\"updt_dt\":\"2024-10-31\",\"faci_gb_nm\":\"신고\",\"cp_nm\":\"서울특별시\",\"faci_nm\":\"수도관멀티짐\",\"faci_road_addr\":\"서울특별시 중랑구 봉우재로 68 (면목동)\",\"atnm_chk_yn\":\"Y\",\"fcob_nm\":\"체육도장업\",\"faci_addr\":\"서울특별시 중랑구 면목동 144-1 광진빌딩\"},{\"addr_ctpv_nm\":\"서울특별시\",\"nation_yn\":\"N\",\"faci_daddr\":\"5층\",\"row_num\":17,\"base_ymd\":\"20201203\",\"faci_stat_nm\":\"정상운영\",\"reg_dt\":\"2021-03-05\",\"inout_gbn_nm\":\"실내\",\"faci_lat\":\"37.6002104892021\",\"faci_cd\":\"281B828E0A6A4091EA949318ECAF7EA2\",\"faci_zip\":\"02059\",\"faci_gfa\":346,\"faci_road_daddr\":\"5층\",\"ftype_nm\":\"당구장\",\"cpb_nm\":\"중랑구\",\"addr_emd_nm\":\"망우동\",\"addr_cpb_nm\":\"중랑구\",\"faci_road_zip\":\"02059\",\"faci_lot\":\"127.100791272803\",\"updt_dt\":\"2025-01-03\",\"faci_gb_nm\":\"신고\",\"cp_nm\":\"서울특별시\",\"faci_nm\":\"나비캐롬 망우점\",\"faci_road_addr\":\"서울특별시 중랑구 망우로 439 (망우동)\",\"atnm_chk_yn\":\"Y\",\"fcob_nm\":\"당구장업\",\"faci_addr\":\"서울특별시 중랑구 망우동 358-5 연운빌딩\"},{\"addr_ctpv_nm\":\"서울특별시\",\"nation_yn\":\"N\",\"faci_daddr\":\"2층\",\"row_num\":18,\"base_ymd\":\"20201111\",\"faci_stat_nm\":\"정상운영\",\"reg_dt\":\"2021-03-05\",\"inout_gbn_nm\":\"실내\",\"faci_lat\":\"37.6062103782577\",\"faci_cd\":\"0C3519170514FC20D803AA2C53B430B5\",\"faci_zip\":\"02058\",\"faci_gfa\":202,\"faci_road_daddr\":\"2층\",\"ftype_nm\":\"골프\",\"cpb_nm\":\"중랑구\",\"addr_emd_nm\":\"신내동\",\"addr_cpb_nm\":\"중랑구\",\"faci_road_zip\":\"02058\",\"faci_lot\":\"127.101193025627\",\"updt_dt\":\"2025-01-03\",\"faci_gb_nm\":\"신고\",\"cp_nm\":\"서울특별시\",\"faci_nm\":\"JUSTIN GOLF LAB\",\"faci_road_addr\":\"서울특별시 중랑구 용마산로 618 (신내동)\",\"atnm_chk_yn\":\"Y\",\"fcob_nm\":\"가상체험 체육시설업\",\"faci_addr\":\"서울특별시 중랑구 신내동 418-29\"},{\"addr_ctpv_nm\":\"서울특별시\",\"nation_yn\":\"N\",\"faci_daddr\":\"B01호\",\"row_num\":19,\"base_ymd\":\"20201109\",\"faci_stat_nm\":\"정상운영\",\"reg_dt\":\"2021-03-05\",\"inout_gbn_nm\":\"없음\",\"faci_lat\":\"37.6148098050688\",\"faci_cd\":\"33E660EEF420925BDC6AE8BAB5FE2484\",\"faci_zip\":\"02003\",\"faci_gfa\":217,\"faci_road_daddr\":\"B01호\",\"ftype_nm\":\"체력단련장\",\"cpb_nm\":\"중랑구\",\"addr_emd_nm\":\"묵동\",\"addr_cpb_nm\":\"중랑구\",\"faci_road_zip\":\"02003\",\"faci_tel_no\":\"02-972-9108\",\"faci_lot\":\"127.073526315543\",\"updt_dt\":\"2025-01-06\",\"faci_gb_nm\":\"신고\",\"cp_nm\":\"서울특별시\",\"faci_nm\":\"크로스핏 파무짐\",\"faci_road_addr\":\"서울특별시 중랑구 중랑천로 332 (묵동, 묵동한국아파트)\",\"atnm_chk_yn\":\"Y\",\"fcob_nm\":\"체력단련장업\",\"faci_addr\":\"서울특별시 중랑구 묵동 378 묵동한국아파트\"},{\"addr_ctpv_nm\":\"서울특별시\",\"nation_yn\":\"N\",\"faci_daddr\":\"2층\",\"row_num\":20,\"base_ymd\":\"20201029\",\"faci_stat_nm\":\"정상운영\",\"faci_mng_type_cd\":\"자체운영        \",\"reg_dt\":\"2021-03-05\",\"inout_gbn_nm\":\"실내\",\"faci_lat\":\"37.5932034361632\",\"faci_cd\":\"232302B6452367753A649681D744F16B\",\"faci_zip\":\"02157\",\"faci_gfa\":114,\"faci_road_daddr\":\"2층\",\"ftype_nm\":\"체력단련장\",\"cpb_nm\":\"중랑구\",\"addr_emd_nm\":\"면목동\",\"addr_cpb_nm\":\"중랑구\",\"faci_road_zip\":\"02157\",\"faci_lot\":\"127.093057465632\",\"updt_dt\":\"2025-01-06\",\"faci_gb_nm\":\"신고\",\"cp_nm\":\"서울특별시\",\"faci_mng_user_telno\":\"070-7543-7465\",\"faci_nm\":\"스트롱라인 면목점\",\"faci_road_addr\":\"서울특별시 중랑구 상봉로 81 (면목동)\",\"atnm_chk_yn\":\"Y\",\"fcob_nm\":\"체력단련장업\",\"faci_addr\":\"서울특별시 중랑구 면목동 89-34 청풍빌딩\"}]},\"numOfRows\":20}}}\n"
     ]
    }
   ],
   "source": [
    "url = 'http://apis.data.go.kr/B551014/SRVC_API_SFMS_FACI/TODZ_API_SFMS_FACI?pageNo=1&numOfRows=20'\n",
    "# url = 'https://apis.data.go.kr/B551014/SRVC_API_SFMS_FACI/TODZ_API_SFMS_FACI?serviceKey=GrzE6lSahh65qTdF%2B5ZL3L0oerDRfmClMgea66%2FeT7QNhsIONhnPjLNcaajESy4n24MAVUXwMYKac%2BykzIO6SA%3D%3D&pageNo=1&numOfRows=20&resultType=json'\n",
    "# params = {\n",
    "#    'serviceKey' : 'GrzE6lSahh65qTdF%2B5ZL3L0oerDRfmClMgea66%2FeT7QNhsIONhnPjLNcaajESy4n24MAVUXwMYKac%2BykzIO6SA%3D%3D',\n",
    "#     'resultType' : 'json'\n",
    "# }\n",
    "params = {\n",
    "    'serviceKey' : 'GrzE6lSahh65qTdF+5ZL3L0oerDRfmClMgea66/eT7QNhsIONhnPjLNcaajESy4n24MAVUXwMYKac+ykzIO6SA==',\n",
    "    'resultType' : 'json'\n",
    "}\n",
    "# headers = {'accept' : 'application/json'}\n",
    "headers = { \n",
    "    'user-agent' : 'Mozilla/5.0 (Windows NT 10.0; Win64; x64; rv:133.0) Gecko/20100101 Firefox/133.0', \n",
    "    'accept' : 'application/json' \n",
    "}\n",
    "r = req.get(url\n",
    "            ,params=params\n",
    "            ,headers=headers\n",
    "           )\n",
    "print(r.status_code)\n",
    "print(r.text)  # 응답 본문을 출력\n",
    "\n",
    "# j = r.json()\n",
    "\n",
    "# print(j)"
   ]
  },
  {
   "cell_type": "code",
   "execution_count": null,
   "id": "4b99c14d-822d-48c1-bc8b-8f82cd062226",
   "metadata": {},
   "outputs": [],
   "source": []
  }
 ],
 "metadata": {
  "kernelspec": {
   "display_name": "Python 3 (ipykernel)",
   "language": "python",
   "name": "python3"
  },
  "language_info": {
   "codemirror_mode": {
    "name": "ipython",
    "version": 3
   },
   "file_extension": ".py",
   "mimetype": "text/x-python",
   "name": "python",
   "nbconvert_exporter": "python",
   "pygments_lexer": "ipython3",
   "version": "3.13.0"
  }
 },
 "nbformat": 4,
 "nbformat_minor": 5
}
