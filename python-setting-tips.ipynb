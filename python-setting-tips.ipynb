{
 "cells": [
  {
   "cell_type": "markdown",
   "id": "27e91045-82a2-444f-892f-5ba98301f94d",
   "metadata": {},
   "source": [
    "### 파이썬 외부 접속"
   ]
  },
  {
   "cell_type": "markdown",
   "id": "85ae6ffe-c711-4cd6-ab03-ca28c1efcea6",
   "metadata": {},
   "source": [
    "- 파이썬은 ip 주소를 0.0.0.0으로 설정하면 모두가 내 서버에 진입할 수 있다. port 주소는 기본 8888이지만 실무에서는 임의로 바꾸는 것이 보안에 큰 영향을 준다."
   ]
  },
  {
   "cell_type": "code",
   "execution_count": null,
   "id": "37ea03f7-076c-4f30-aa57-ee7d28a0c4d0",
   "metadata": {},
   "outputs": [],
   "source": []
  }
 ],
 "metadata": {
  "kernelspec": {
   "display_name": "Python 3 (ipykernel)",
   "language": "python",
   "name": "python3"
  },
  "language_info": {
   "codemirror_mode": {
    "name": "ipython",
    "version": 3
   },
   "file_extension": ".py",
   "mimetype": "text/x-python",
   "name": "python",
   "nbconvert_exporter": "python",
   "pygments_lexer": "ipython3",
   "version": "3.13.0"
  }
 },
 "nbformat": 4,
 "nbformat_minor": 5
}
