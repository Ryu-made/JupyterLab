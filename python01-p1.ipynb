{
 "cells": [
  {
   "cell_type": "markdown",
   "id": "7551de14-3513-4095-9f20-d983b2694c8f",
   "metadata": {},
   "source": [
    "# 연습"
   ]
  },
  {
   "cell_type": "markdown",
   "id": "5c14f996-efff-43e6-9d10-487f319a0f16",
   "metadata": {},
   "source": [
    "## 파이썬 출력"
   ]
  },
  {
   "cell_type": "code",
   "execution_count": 1,
   "id": "5f1bc0c2-7ae9-45be-a0da-cc72b5a5a69d",
   "metadata": {},
   "outputs": [
    {
     "name": "stdout",
     "output_type": "stream",
     "text": [
      "python\n"
     ]
    }
   ],
   "source": [
    "print(\"python\")"
   ]
  },
  {
   "cell_type": "code",
   "execution_count": 2,
   "id": "ac95f6d6-b014-4795-83ad-3df0fd053f69",
   "metadata": {},
   "outputs": [
    {
     "data": {
      "text/plain": [
       "'python'"
      ]
     },
     "execution_count": 2,
     "metadata": {},
     "output_type": "execute_result"
    }
   ],
   "source": [
    "\"python\""
   ]
  },
  {
   "cell_type": "code",
   "execution_count": 3,
   "id": "58aa7440-b653-49ba-84ff-648500b72d03",
   "metadata": {},
   "outputs": [
    {
     "name": "stdout",
     "output_type": "stream",
     "text": [
      "python\n"
     ]
    }
   ],
   "source": [
    "a = \"python\"\n",
    "print(a)"
   ]
  },
  {
   "cell_type": "code",
   "execution_count": 6,
   "id": "0e15839a-a818-4118-a5bf-ed83ac9b1f62",
   "metadata": {},
   "outputs": [
    {
     "name": "stdout",
     "output_type": "stream",
     "text": [
      "jupyter lab\n"
     ]
    }
   ],
   "source": [
    "a = \"jupyter\"\n",
    "b = \"lab\"\n",
    "print(a, b)"
   ]
  },
  {
   "cell_type": "code",
   "execution_count": 11,
   "id": "1f2bc7e7-8f3f-4703-b3e2-d82bb49e3155",
   "metadata": {},
   "outputs": [
    {
     "name": "stdout",
     "output_type": "stream",
     "text": [
      "jupyter lab kernel\n",
      "kernel lab kernel jupyter lab\n"
     ]
    }
   ],
   "source": [
    "c = \"kernel\"\n",
    "print(a, b, c)\n",
    "print(c, b, c, a, b)"
   ]
  },
  {
   "cell_type": "markdown",
   "id": "eba9f44c-4619-41f7-bd01-4adfcf992ade",
   "metadata": {},
   "source": [
    "## 정수, 실수 자료형"
   ]
  },
  {
   "cell_type": "code",
   "execution_count": 16,
   "id": "c6fa62b0-9175-4129-bcc9-1351744d43fc",
   "metadata": {},
   "outputs": [
    {
     "name": "stdout",
     "output_type": "stream",
     "text": [
      "35\n",
      "-15\n",
      "250\n",
      "8.0\n"
     ]
    }
   ],
   "source": [
    "a = 10\n",
    "b = 25\n",
    "c = 80\n",
    "print(a + b)\n",
    "print(a - b)\n",
    "print(a * b)\n",
    "print(c / a)"
   ]
  },
  {
   "cell_type": "code",
   "execution_count": 39,
   "id": "71d7dcd3-675c-4e7e-88b2-2d09408ca5a0",
   "metadata": {},
   "outputs": [
    {
     "name": "stdout",
     "output_type": "stream",
     "text": [
      "-73\n",
      "49\n",
      "732\n",
      "5.083333333333333\n",
      "5\n",
      "-1\n"
     ]
    }
   ],
   "source": [
    "a = -12\n",
    "b = -61\n",
    "print(a + b)\n",
    "print(a - b)\n",
    "print(a * b)\n",
    "print(b / a)\n",
    "print(b // a) # 몫\n",
    "print(b % a) # 나머지"
   ]
  },
  {
   "cell_type": "code",
   "execution_count": 37,
   "id": "0be16bf1-39b6-46e1-b59f-b153efe51620",
   "metadata": {
    "scrolled": true
   },
   "outputs": [
    {
     "name": "stdout",
     "output_type": "stream",
     "text": [
      "-0.5625\n",
      "-2.7777777777777777\n",
      "-3.0\n",
      "-0.10000000000000003\n"
     ]
    }
   ],
   "source": [
    "c = 1.25\n",
    "d = -0.45\n",
    "print(c * d)\n",
    "print(c / d)\n",
    "print(c // d)\n",
    "print(c % d)"
   ]
  },
  {
   "cell_type": "markdown",
   "id": "ed9a5f6a-2b8b-4305-afe5-dde0bb709582",
   "metadata": {},
   "source": [
    "### 8진수 16진수 2진수"
   ]
  },
  {
   "cell_type": "code",
   "execution_count": 25,
   "id": "a53f467c-469d-4e95-9d92-e9f5adec3c9e",
   "metadata": {},
   "outputs": [
    {
     "name": "stdout",
     "output_type": "stream",
     "text": [
      "12 20 32\n"
     ]
    }
   ],
   "source": [
    "a = 0o14\n",
    "b = 0x14\n",
    "print(a, b, a+b)"
   ]
  },
  {
   "cell_type": "code",
   "execution_count": 26,
   "id": "6470151a-9355-4408-bb7a-3888bf633eb5",
   "metadata": {},
   "outputs": [
    {
     "name": "stdout",
     "output_type": "stream",
     "text": [
      "0o50 0x28 0b101000\n"
     ]
    }
   ],
   "source": [
    "a = 40\n",
    "print(oct(a), hex(a), bin(a))"
   ]
  },
  {
   "cell_type": "code",
   "execution_count": 28,
   "id": "74c4fc0d-3c59-4b6e-9994-8db6b7253400",
   "metadata": {},
   "outputs": [
    {
     "name": "stdout",
     "output_type": "stream",
     "text": [
      "83 0o123 0x53 0b1010011\n"
     ]
    }
   ],
   "source": [
    "b = 0b1010011\n",
    "print(b, oct(b), hex(b), bin(b))"
   ]
  },
  {
   "cell_type": "markdown",
   "id": "e78e3dc0-640d-4d8c-af80-82abfb74c3bd",
   "metadata": {},
   "source": [
    "### 지수법"
   ]
  },
  {
   "cell_type": "code",
   "execution_count": 35,
   "id": "28dc7ddc-6c9c-4a3b-8b3a-13675d426a47",
   "metadata": {},
   "outputs": [
    {
     "name": "stdout",
     "output_type": "stream",
     "text": [
      "3450000000000.0 200.0\n",
      "0.025 11400000.0\n"
     ]
    }
   ],
   "source": [
    "a = 3.45e12\n",
    "b = 0.002e5\n",
    "print(a, b)\n",
    "c = 2.5e-2\n",
    "d = 1.14e7\n",
    "print(c, d)"
   ]
  },
  {
   "cell_type": "markdown",
   "id": "cb5f7a52-80f3-4732-9ca5-3216a48489f8",
   "metadata": {},
   "source": [
    "## 문자열 자료형"
   ]
  },
  {
   "cell_type": "code",
   "execution_count": 2,
   "id": "04204b54-ce34-4474-b287-bfae060d6078",
   "metadata": {},
   "outputs": [
    {
     "name": "stdout",
     "output_type": "stream",
     "text": [
      "stylesheet\n"
     ]
    }
   ],
   "source": [
    "s = 'style'\n",
    "u = 'sheet'\n",
    "print(s + u)"
   ]
  },
  {
   "cell_type": "code",
   "execution_count": 4,
   "id": "979b1ab1-6095-406d-bc5e-31533e1daf3e",
   "metadata": {},
   "outputs": [
    {
     "name": "stdout",
     "output_type": "stream",
     "text": [
      "apple banana kiwi\n",
      "apple banana kiwi\n"
     ]
    }
   ],
   "source": [
    "s = 'apple'\n",
    "t = 'banana'\n",
    "u = 'kiwi'\n",
    "print(s, t, u)\n",
    "print(s + ' ' + t + ' ' + u)"
   ]
  },
  {
   "cell_type": "code",
   "execution_count": 122,
   "id": "26538fe7-64b5-4403-8c37-c070f7b95ae8",
   "metadata": {},
   "outputs": [
    {
     "name": "stdout",
     "output_type": "stream",
     "text": [
      "Life is too short. Life is too short. Life is too short. Life is too short. \n"
     ]
    }
   ],
   "source": [
    "# repeating\n",
    "s1 = 'Life is '\n",
    "s2 = 'too short. '\n",
    "s3 = s1 + s2\n",
    "print(s3*4) # 문자열 반복"
   ]
  },
  {
   "cell_type": "code",
   "execution_count": 25,
   "id": "bad78a9d-9730-40a1-8b08-ee3ce1ea18b7",
   "metadata": {},
   "outputs": [
    {
     "name": "stdout",
     "output_type": "stream",
     "text": [
      "e\n",
      "programming\n",
      "i like p\n",
      "like program\n",
      "gramming\n",
      "i like pro\n",
      "길이: 18\n"
     ]
    }
   ],
   "source": [
    "# indexing\n",
    "s4 = 'i like programming'\n",
    "print(s4[5])\n",
    "print(s4[7:])\n",
    "print(s4[:8])\n",
    "print(s4[2:-4])\n",
    "print(s4[-8:])\n",
    "print(s4[:-8])\n",
    "print('길이: ' + str(len(s4)))"
   ]
  },
  {
   "cell_type": "markdown",
   "id": "34c043a1-311c-4e6b-ad37-fcbbecfcdcf2",
   "metadata": {},
   "source": [
    "### 포메팅"
   ]
  },
  {
   "cell_type": "code",
   "execution_count": 66,
   "id": "fef0c8f7-3c89-49b4-839f-90dd69a78143",
   "metadata": {},
   "outputs": [
    {
     "name": "stdout",
     "output_type": "stream",
     "text": [
      "i bought 8 kiwis.\n",
      "i bought seven kiwis.\n",
      "94의 값의 8진수는 136, 16진수는 5e\n",
      "$  2.828400$\n",
      "$    2.8$\n",
      "$2.82840000$\n",
      "$2.8284 $\n"
     ]
    }
   ],
   "source": [
    "# 기존 방법\n",
    "let = 'i bought %d kiwis.'\n",
    "a = 8\n",
    "b = 'seven'\n",
    "print('i bought %d kiwis.' %a)\n",
    "print('i bought %s kiwis.' %b)\n",
    "c = 94\n",
    "print('%d의 값의 8진수는 %o, 16진수는 %x' %(c, c, c)) #n진수로 변환 출력\n",
    "d = 2.8284\n",
    "print('$%10f$' %d)\n",
    "print('$%7.1f$' %d)\n",
    "print('$%.8f$' %d)\n",
    "print('$%-7.4f$' %d)"
   ]
  },
  {
   "cell_type": "code",
   "execution_count": 72,
   "id": "65e138e3-3cfa-4578-815e-4c2dd74153d8",
   "metadata": {},
   "outputs": [
    {
     "name": "stdout",
     "output_type": "stream",
     "text": [
      "I want to play game and eat ramen\n",
      "I go to singing room with my old sister\n"
     ]
    }
   ],
   "source": [
    "# format 함수\n",
    "s1 = 'I want to play {0} and eat {1}'\n",
    "e1 = 'game'\n",
    "e2 = 'ramen'\n",
    "print(s1.format(e1, e2))\n",
    "s2 = 'I go to {location} with {person}'\n",
    "e3 = 'singing room'\n",
    "e4 = 'my old sister'\n",
    "print(s2.format(location=e3, person=e4))"
   ]
  },
  {
   "cell_type": "code",
   "execution_count": 81,
   "id": "715b32a5-208e-4144-9597-f1607eb959fd",
   "metadata": {},
   "outputs": [
    {
     "name": "stdout",
     "output_type": "stream",
     "text": [
      "====LIKELY-DONE\n",
      "LIKELY-DONE_________ X _________LIKELY-DONE\n",
      "@@^^^^LIKELY-DONE^^^^^@@\n",
      "----2.154----\n"
     ]
    }
   ],
   "source": [
    "# 정렬\n",
    "s3 = 'LIKELY-DONE'\n",
    "print('{0:=>15}'.format(s3))\n",
    "print('{0:_<20} X {1:_>20}'.format(s3, s3))\n",
    "print('@@{0:^^20}@@'.format(s3))\n",
    "n = 2.154\n",
    "print('{0:-^13}'.format(n))"
   ]
  },
  {
   "cell_type": "code",
   "execution_count": 121,
   "id": "94168fa9-5852-4834-8a23-24fbf4075816",
   "metadata": {},
   "outputs": [
    {
     "name": "stdout",
     "output_type": "stream",
     "text": [
      "채널 이름: ayatsuno uni\n",
      "구독자 수: 283000\n",
      "#######ayatsuno uni\n",
      "xxxx283000\n"
     ]
    }
   ],
   "source": [
    "# f 포메팅 -- <더 간단함>\n",
    "channel = 'ayatsuno uni'\n",
    "subscribers = 283000\n",
    "print(f'채널 이름: {channel}\\n구독자 수: {subscribers}')\n",
    "print(f'{channel:#>19}\\n{subscribers:x>10}')"
   ]
  },
  {
   "cell_type": "markdown",
   "id": "db82e78c-8969-4ebc-b535-ce30564ff1bd",
   "metadata": {},
   "source": [
    "### 문자열 함수"
   ]
  },
  {
   "cell_type": "code",
   "execution_count": null,
   "id": "bcb49383-271a-432c-853b-3377a8359f68",
   "metadata": {
    "scrolled": true
   },
   "outputs": [],
   "source": [
    "dir(str)"
   ]
  },
  {
   "cell_type": "code",
   "execution_count": 107,
   "id": "0152274d-ba6d-4bcb-ac4e-a0e183b153f0",
   "metadata": {},
   "outputs": [
    {
     "name": "stdout",
     "output_type": "stream",
     "text": [
      "!program      ming!\n",
      "!    program      ming!\n",
      "!program      ming      !\n",
      "program``````ming\n"
     ]
    }
   ],
   "source": [
    "s5 = '    program      ming      '\n",
    "print(f'!{s5.strip()}!')\n",
    "print(f'!{s5.rstrip()}!')\n",
    "print(f'!{s5.lstrip()}!')\n",
    "print(s5.strip().replace(' ','`'))"
   ]
  },
  {
   "cell_type": "code",
   "execution_count": 119,
   "id": "1319d7b3-7424-4678-8573-ade4046ef05d",
   "metadata": {},
   "outputs": [
    {
     "name": "stdout",
     "output_type": "stream",
     "text": [
      "1\n",
      "6\n",
      "1\n",
      "6\n"
     ]
    }
   ],
   "source": [
    "# find(), index()\n",
    "s6 = 'asterisk'\n",
    "print(s6.find('s'))\n",
    "print(s6.rfind('s'))\n",
    "print(s6.index('s'))\n",
    "print(s6.rindex('s'))"
   ]
  },
  {
   "cell_type": "code",
   "execution_count": 120,
   "id": "ebcc64e3-c2a3-41e8-af67-5e76f968249e",
   "metadata": {},
   "outputs": [
    {
     "name": "stdout",
     "output_type": "stream",
     "text": [
      "like\n",
      "an arrow\n"
     ]
    }
   ],
   "source": [
    "# split()\n",
    "s7 = 'Time goes like an arrow'\n",
    "print(s7.split()[2])\n",
    "print(s7.split('like ')[-1])"
   ]
  },
  {
   "cell_type": "code",
   "execution_count": 140,
   "id": "93dfed75-04df-4d2c-8411-d6db55e3db69",
   "metadata": {},
   "outputs": [
    {
     "name": "stdin",
     "output_type": "stream",
     "text": [
      "문자 탐색  \n"
     ]
    },
    {
     "name": "stdout",
     "output_type": "stream",
     "text": [
      "' '의 개수는 5 입니다.\n"
     ]
    }
   ],
   "source": [
    "# count()\n",
    "s8 = 'apple ant average addition astronant artist'\n",
    "inp = input('문자 탐색')\n",
    "print(f'\\'{inp}\\'의 개수는 {s8.count(inp)} 입니다.')"
   ]
  },
  {
   "cell_type": "code",
   "execution_count": 5,
   "id": "d7c83391-1b74-404b-8fd2-86173da61fcc",
   "metadata": {},
   "outputs": [
    {
     "name": "stdout",
     "output_type": "stream",
     "text": [
      "('a', 'b', 'c')\n",
      "a\n",
      "b\n",
      "c\n",
      "['a', 'b', 'c']\n",
      "a\n",
      "b\n",
      "c\n",
      "{'a': 1, 'b': 2, 'c': 3}\n",
      "a : 1\n",
      "b : 2\n",
      "c : 3\n"
     ]
    }
   ],
   "source": [
    "# 자료구조\n",
    "dt1 = 'a', 'b', 'c'\n",
    "dt2 = ['a', 'b', 'c']\n",
    "dt3 = {'a':1, 'b':2, 'c':3}\n",
    "print(dt1)\n",
    "for dt in dt1:\n",
    "    print(dt)\n",
    "print(dt2)\n",
    "for dt in dt2:\n",
    "    print(dt)\n",
    "print(dt3)\n",
    "for dt, dv in dt3.items():\n",
    "    print(f'{dt} : {dv}')\n"
   ]
  },
  {
   "cell_type": "code",
   "execution_count": null,
   "id": "337561e3-ae2d-4fa1-b67e-b71846d00429",
   "metadata": {},
   "outputs": [],
   "source": []
  }
 ],
 "metadata": {
  "kernelspec": {
   "display_name": "Python 3 (ipykernel)",
   "language": "python",
   "name": "python3"
  },
  "language_info": {
   "codemirror_mode": {
    "name": "ipython",
    "version": 3
   },
   "file_extension": ".py",
   "mimetype": "text/x-python",
   "name": "python",
   "nbconvert_exporter": "python",
   "pygments_lexer": "ipython3",
   "version": "3.13.0"
  }
 },
 "nbformat": 4,
 "nbformat_minor": 5
}
