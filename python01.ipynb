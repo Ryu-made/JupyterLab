{
 "cells": [
  {
   "cell_type": "markdown",
   "id": "ec51105c-5d62-4387-89a6-b5682c77a047",
   "metadata": {},
   "source": [
    "# 빅데이터 파이썬 01-기초"
   ]
  },
  {
   "cell_type": "code",
   "execution_count": null,
   "id": "fa851332-f528-472d-b9d5-07c739f2b473",
   "metadata": {},
   "outputs": [],
   "source": [
    "print('안녕하세요 세상님')"
   ]
  },
  {
   "cell_type": "markdown",
   "id": "ab6ffe00-9a24-4762-ac69-b27102724139",
   "metadata": {},
   "source": [
    "\"파이썬은 간결하고 읽기 쉬운 문법을 가진 고수준 프로그래밍 언어입니다. 다양한 라이브러리와 프레임워크를 통해 웹 개발, 데이터 분석, 인공지능 등 다양한 분야에서 활용됩니다. 또한, 커뮤니티가 활발하여 많은 자료와 지원을 받을 수 있습니다.\" -*by Copilot*"
   ]
  },
  {
   "cell_type": "markdown",
   "id": "6e4998dd-c166-4350-817c-6585579d7e98",
   "metadata": {},
   "source": [
    "![image](data:image/jpeg;base64,/9j/4AAQSkZJRgABAQAAAQABAAD/2wCEAAkGBw0QDhANDRISDhAPDxIQDQ0QEhIQEg0SFRIXFhURHxQZHCggGBolGxMVITEiJSkrLjAxFx8zODMvNygtLisBCgoKDg0OGxAQGysmHSUrLS4tLS0uLSsvKysrLSs1LS0tLS0tLSstKysrNSstLS0rKy0tLS0tLS0tLSstLSsrLf/AABEIAMgAyAMBEQACEQEDEQH/xAAbAAEBAAIDAQAAAAAAAAAAAAAAAQUGAgQHA//EAEsQAAIBAgEFCAwNAgUFAAAAAAABAgMEEQUSITFBBgcVUVJhcZETFyIyQlOBk6HB0uEjNFRicnSCkqKxs9HTsvAzNUNzwxRjg8Lx/8QAGwEBAQADAQEBAAAAAAAAAAAAAAEDBAUGAgf/xAA3EQEAAQICBQkGBwEBAQAAAAAAAQIDBBESFCExYQUVMkFRcYGRoTNCUmLB4RMiQ1Ox0fDxciP/2gAMAwEAAhEDEQA/APcQAAAAAAAOve3tGhB1K8404LwpPDyc75kfVNM1TlEPmqqKYzlpuVN8alFuNpSdT/uVHmR6c1aWunA3KMFM9KWpXjI92Gs3m7fKVTVUVJcmnCK9LxfpNinC246mtVirk9bFV8s3k+/r1pczqTw6sTLFuiN0QxzcrnfMunOtN99KT6W2fWUPjOZcMSjnC4qR72co9EmiTELEy7lDL19T7y4rLm7JJrqbwMc2qJ3xD7i7XG6ZZmx3f5Rp4Z8oV1xTgk+uOBiqwtud2xmpxVyN+1tWR98K0qtQuIytpPwn3dP7y0ryrymrXhKo6O1s0Yqmd+xuFKpGUVODUoyWMZRaakuNNazVmMmzE57nIKAAAAAAAAAAAAAA6OWsp07WhO4qaVFdzFa5yeqKPu3bmurRh8XLkUU6UvG8tZYr3dV1a8seRBd7TXEkdi3bptxlDkXLlVyc5dCEHJqMU5N6kli35D7mXwtajODwnGUHxSTi/SImJ3ExMb3zAgACEUAhBArO7mN09eymsG50G/hKDejnlHil+e0w3bNNyOLNavTbng9ksbunWpQrUnnQqRzoy9XTsOVVTNM5S6lNUVRnD7kUAAAAAAAAAAAADQN9atLNtafgt1Jtcbiopf1PrN/Ax0paONndDzs6DnvaNyuQqVpbwSiuzTinWqYd05NYuOPEtWBxr12blXB2LNqKKeLI5SyfRuKbo14qcZLbri+UnsfOY6K5onOGSuiK4yl4flaydvcVbdvHsVSUceUk9D8qwOzRVpUxLjV06NU0uofb5QigEIIFCCBXo+9RlGTjXtJPFRwq0+bHRNdGOb1s0cZRuqb2Eq30vQjSbgAAAAAAAAAAAAHnm+xrtOit/wAZ0MD73g0Mb7vi8/N5oPa9y+WqV3bwnGS7JGKVan4UJJYN4cT1pnGvWpoq4OzZuxXTn1shf3tKhTlWrSUIRWLb28y43zHxTTNU5Q+6qopjOXhuWL53FxWuGsOyVJSS4ljoXVgdminRpiHHrq0qpl0z6fIBCCBQggVAN33p/jlb6u/1IGpi+jHe28J0p7nqZz2+AAAAAAAAAAAAB55vs67Torf8Z0MD73g0Mb7vi8+N5oudGtOEs6nKUJLVKLcWvKiTETvWJmNzlc3laq06tSdVrU5ylPDrZIpiN0LNUzvl8CoAQggUIIFQABu+9P8AHK31d/qQNTF9GO9t4TpT3PUznt8AAAAAAAAAAAADVd3G5u4vnQ7BKnHsXZM7sjksc7Nwwwi+Szaw96m3nm1sRZquZZNW7XF/4y3+/U/jNnXKOyf94tbU6+2P94Ha3v8Axlv9+p/GNco7J/3ianX2x/vBO1vf+Mt/v1f4ya5R2SanX2wdre/8Zb/fq/xjXKOyTU6+2Dtb3/jLf79X+Ma5R2Sup19sMRuh3LXNjCFSvKlJVJOMexym2mljtijJbv03JyhjuWKrcZywRlYUCoAAMit23pvjlb6u/wBSBq4vox3trCdKe56oc9vgAAAAAAAGGyzunsrVuNWedUX+lTWfNdOxeVozW7Fde6NjDcv0Ub5azX3y44/B2za451FF9Si/zNmMF2y15xvZD5dsyXyVeefsF1H5vRNd+X1O2ZL5KvPP2Cal83oa78vqnbNl8lXnn7A1L5vQ135fU7Zsvkq88/YGpfN6Gu/L6nbNl8lXnn7A1L5vRdd+X1O2bL5KvPP2BqXzehrvD1TtnS+Srzz9gal83oa5w9TtnS+Srzz9gmp8TXODBbq91rv6dOm6Ko9jm5Y5+fjisMO9Rms2Pw5zzYrt/wDEjLJrJnYEAAGRXEDeN6b45W+rv9SBqYvox3trCdKe56JlG7nCSUcNKx0rHaeX5Sx13D1xTRlth2bFqmuJmXU4Tq83Uc3nfE9seTPq1BwnV5uoc74nh5Gq0OxQystVRYfOj+xu2OWomcrtOXGP6Yq8J8MsjCaaxi8U9TR3KK6a6dKmc4akxMTlLkfSAGhbuN18oSlZ2ksJLRXrLXF7YRfHxvYb+Gw2f56mjiMRl+Wl51JtvF6W9b4zoNBCIgVAAEIoBCCBQggVAABkVxAAbvvTfHK31d/qQNTF9GO9tYTpT3N+yz38fo+s8Xy37Wnu+rvYToyx5xW0gVAOzY3bpy06Yvvlxc5v4DG1Yevb0Z3x9WG9Zi5HFn001itKepnr4mJjONzlzGTC7sMsf9JaTqReFSfwdHmk133kWL6jPh7f4leXUw37mhRn1vGJSbeL0t6W3tOw5CBECoAAhFAIQQKEECoAAMiuIACEG8b0vxyt9Xf6kDVxfRjvbWF6U9zfss9/H6PrPF8t+1p7vq72E6MsccVtoBAoQZnI1fGLg9cdXQz0/I2I07c2530/w5+Lt5VaUdbQN8+/z7qFun3NGni18+el/hUT1mDoyo0u1wsZXnXo9jTDbaaBUAAQigEIIFCCBUAAGRXEABCAFegb0Vu3Vua2yMIU0+Nybb/pXWaeLnZENvCxtmW65afdx+j62eM5bn/7Uxw+su7hI/LPexxxm0gUAhFdrJdTNqx4pdy/Lq9OB0OS7v4eJp47PP7sGJp0rcvMd1Nx2S+uZ6/hpxXRF5q9EUfpVmMrcRweRvTncmeLFGRjQABCKAQggUIIFQAAZFcQAEIAUjFtqMU228Elpbb1LAg9v3FZFdnZwpzXws32StzSaXc+RJLrOZeuadWbp2aNCnJxyjUzqsnsXcrye88Tyld/ExFUxujZ5fd2bFOjRDqmizgEIqAcqc8JKXE0+pn3br0K4q7JiUqjOJh5VdVM6pOXKnJ9bxP1qNkPETtl8SoAQigEIIFCCBUAAGRXEABCAFZHJeQb26aVvRnJP/UazYL7b0HxVcpp3y+6bdVW6Hpm5HcPStGq9w1WuF3uHeUejHW+dmjdvzXsjc3bViKNs72zZQulTjo7596uLnOPyhjIw9vZ0p3f237FrTq4NfZ5B1ACEVAAVAPKGfrzwqAQigEIIFfW0tqlWcaVKLnObwjCOltnzVVERnK00zM5Q9DyHvcU0lO+m5S19hpvCMeZz1vyYGlcxc7qW9bwkb6m02+5jJtNYRtqLw2zgqj65YmtN6ud8tiLNEdT6SyXk5a6Fsv/ABUv2NerG0U77kebJFjPdT6Jwbk3xNt5ql+x884Wv3I811f5fRODcm+JtvNUv2HOFr9yPM1b5fQ4Nyb4m181S/Yc4Wv3I8zV/l9Dg3JvibXzVL9hzha/cjzNWn4fQ4NyZ4m181S/Yc4Wv3I8zVp+H0c6VpYQeMKdvB8cYU4v0Ik4+zP6keaxh5jdT6O1K9orwl5NP5GKrlDDU764/n+H3Fm5PU6lxlZaqaxfKerqOdiOWqYjK1Gc9ss9GEn3mLqVJSblJ4t7TgXLlVyqaq5zlu00xTGUOB8PpCKgAKgEIPLbuGbUnHkzkuptH67E5w8NMZS+JQAhBAoQeu7gNz0ba3Veovh68VJt66cHpjDm2N+45uIu6VWUbodPD2tGnOd8tgu7xQ0LTLi2I4mO5Rpw/wCWnbV/He37Vma9s7mMrV5y75t82zqPN3sVdvT+erw6vJu026ad0Pia77QAFQCBQggVAIFAIRUABUAhBArzzdRQ7HfXUNXw85Lok85eho/WrM50RPB4m7GVc97FmRjQggUIMluZsVcXtvQemMqic1xxj3Ul1RZju1aNEyyWqdKuIe43NXMg5dXSefxd/wDAtTX19Xe7VujSqyYKTbeL0t6zxlVU1TnO904jLY4nyqAAqAQKEECoBAoBCKgACBUIAVyowzpxjxyS62ZLNGncpp7ZiHzXOjTMtV3z7LMvY1ktFemnj86HctdWZ1n6fhKs6Mux5HF05V59rTjaaqBQggVtW9pFPKUHyaVRr7uHrNfFezbGG9o9PyvLRFcbb6v/AKeQ5bryoop7ZmfL/ruYWNsyxZ51uoACoBAoQQKgECgEIIFAIFQgBUA72RqWdVT2QTfl1L++Y6nJFnTxEVdVO3+mti69G3l2vlvgZIdzZSlBY1KD7LBbXHDu49Wn7KPa4a5o17etwsTb0qO546dRzAggVANs3sv8xX+zU9RrYr2bZwvTemZY8D7XqPHcue54/R3cL1sYcBtgVAIFCCBUAgUAhBAoBAqEAKgECtjyTbdjp4vvp6XzLYv74z1/JeF/As51dKrbP0hycTd069m6HdOk1nk27vctK2qSuaEcbebxkl/oSez6L2PycWPSw9/SjRne52Is6M6Ubmnmy1kAEG2b2X+Yr/Zqeo18V7Ns4XpvS8s+B9r1HjuXPc8fo7uE62NOA3EAgUIIFQAFQCEECgECoQAqAQKy+S8mvFVKqww0xg9vOzv8m8mTnF29HdH1loYjExlo0Myeic8A4zgpJxklJNYOLWKaetYAaXlve6t6rc7Wbt5PS6bWfT8m2Pp6DboxdUbKtrVrwtM7adjXZ72+UE9E6DXHnzX/AKGbW6OLDqtfBx7XGUeVQ+/L2RrVHE1Wvgzm4zcdeWd2q9Z0nBU5xwhKTeLww0OKMN6/TXTlDLZsVUVZy2vLPgfa9R5Xlz9Px+jr4Tr8GMOA3EChBAqAdqxtOy52nNzcNmOOJv4DBRipqjSyyy6s2G9e/Dy2O3wOuX+H3nS5jj4/T7sGucDgdcv8PvJzFHx+n3Nc4JwMuX+H3jmKPj9Pua5wOBly/wAPvHMUfH6fc13gnAq5f4feOYo+P0+667PYcCrl/h945ij4/T7mu/KcCLl/h945ij4/T7muz8KcCLl/h945ij4/T7mu/L6rHIkds2+hJFp5Cp6658v+k42eqHctrClT0xWL5UtL9x0cPyfYsbaY29s7Wvcv1175do3WEAAAAAAAAxmWvA+16jz/AC5+n4/RuYTr8GLOC3QggVAAH2trqVPHNw04Y48xtYbGXMNnNGW3tfFy1Tc3vtwtV+b1e82+ecRw8vuxapb4nC1X5vV7xzziOHl911S3xOFqvzer3jnnEcPL7mqW+KcL1vm9XvHPOI4eX3NUt8Thet83q95OecRw8vuanb4u3ky+nUm4ywwUcdCw2o6PJuPu4i5NNeWWWezvhgxFim3TEwyZ2mmAAAAAAAAAAAABi8teB9r1Hn+XP0/H6N3CdfgxhwG4gVAAECoQQKAcoU5S0RTl0Js+7dqu5OVETPclVUU75SpTlHRJOPSsBctV25yriY71pqirdLgY30yOQf8AEl9D1o7XIntqv/P1hp43oR3s6enc0AAAAAAAAAAAADF5a8D7XqPP8ufp+P0buE6/BizgN1AAECoQQKAWEcWora0us+qKZrqimOuciZyjNs9CjGEVGKwS9POe5sWaLNEUURscWuua5zkuKMZxcZan6Hxkv2KL1E0V/wDFormic4arNYNp7HgeGrpmmqaZ6naic4zZHIP+JL6D/NHX5E9vV/5+sNXG9CO9nT1DmAAAAAAAAAAAAAdDK9JuCkvBenof9o5HLFma7MVx7s+k/wChs4WrKrLtYU8u6IBAqEECgECrGWDTWtPFFpqmmqKo3wkxnGTZbW6hUjjF6dsdqPbYXFW8RRpUzt647HHuWqrc5SXd1CnFuT0+DHa2TFYu3h6M6p29Udq2rVVycoavKTbbe14s8TVVMzMy7MRlGTJ5Ag8+ctijh1v3Hb5DomblVXVll5z9mnjZ/LEM4elc0AAAAAAAAAAAACNJrB6nrRJiJjKdxE5MJfWMoNyjph/SeVx/J1ViZqo20/x3/wBulZvxXsne6Jy2yhBAoBAqACKmJYnLcZI2JnPePpb0J1JZsFi9r2LnMtjD3L9ejRH2fNdymiM6my2VsqUFFadsnxs9jhMLTh7cUR4z2y5F27NyrOX3NpiAAAAAAAAAAAAAAAOncZNpy0ruHxrV1HNxHJVi7tj8s8P6bFGJrp4uhVyTUXetS9DOTd5FvU9CYn0/3m2acXRO/Y607KstcJeRY/kaVeAxNO+ifDb/AAzRetz1vlKjNa4yXkZgmzcjfTPlLJFdPa4ZkuJ9R86FXZK5wKnLifUyxarndTPkaVPa5xtar1Ql91mWnB36t1E+UvmbtEb5h96eSq71pR6WvUbVvknE1b4y75/rNjqxVuOt3KGRYrTUlncy0LrOjZ5Eojbdqz4Rs/3o168bPuwydKlGCzYJRXEjs2rNFqnRojKGnVXVVOcy5mR8gAAAAAAP/9k=)"
   ]
  },
  {
   "cell_type": "markdown",
   "id": "00b3fe20-6bc7-413b-8d12-76ec7b34a8e4",
   "metadata": {},
   "source": [
    "- ***다운받기***를 하려면 **[파이썬홈페이지](https://www.python.org/)** 에 접속한다."
   ]
  },
  {
   "cell_type": "markdown",
   "id": "de258dad-9f10-4910-b155-2cfe02caa744",
   "metadata": {},
   "source": [
    "- **파이썬** 프로그래밍을 공부하면 모든 사용성이 편리하고 쉬워진다."
   ]
  },
  {
   "cell_type": "markdown",
   "id": "ffb9ba8c-261f-4809-a034-7af703ae9052",
   "metadata": {},
   "source": [
    "## 주피터랩 단축키 !!\n",
    "- A : 위 셀 추가\n",
    "- B : 아래 셀 추가\n",
    "- Ctrl +shift + 위 : 셀 위로 이동\n",
    "- Ctrl +shift + 아래: 셀 아래로 이동\n",
    "- Shift +Enter : 셀 실행\n",
    "- D 두번 : 셀 삭제\n",
    "- X : 셀 잘라내기\n",
    "- C : 셀 복사\n",
    "- V : 셀 붙여넣기\n",
    "- Z : Undo\n",
    "- Shift + Z : Redo"
   ]
  },
  {
   "cell_type": "markdown",
   "id": "351de0b6-5a9e-4af4-a468-9c78a7eb566c",
   "metadata": {},
   "source": [
    "---"
   ]
  },
  {
   "cell_type": "markdown",
   "id": "f96ece11-0c5a-45f5-98ea-9ff607ad33b2",
   "metadata": {},
   "source": [
    "## 기초 자료형"
   ]
  },
  {
   "cell_type": "markdown",
   "id": "bae8b7ce-57d6-4c04-a53f-77b2bf466cf9",
   "metadata": {
    "jp-MarkdownHeadingCollapsed": true
   },
   "source": [
    "### 숫자형"
   ]
  },
  {
   "cell_type": "markdown",
   "id": "4364b3a0-6373-4116-aa6a-af6bda118618",
   "metadata": {
    "jp-MarkdownHeadingCollapsed": true
   },
   "source": [
    "#### 정수형"
   ]
  },
  {
   "cell_type": "code",
   "execution_count": null,
   "id": "eb13a0a5-e47c-4ff0-8334-cb3d6b89c3af",
   "metadata": {},
   "outputs": [],
   "source": [
    "a = 123\n",
    "b = -123\n",
    "c = 0"
   ]
  },
  {
   "cell_type": "code",
   "execution_count": null,
   "id": "b2f85ca7-90c3-43f3-96a6-9e6452fbf417",
   "metadata": {},
   "outputs": [],
   "source": [
    "print(a, b, c)"
   ]
  },
  {
   "cell_type": "markdown",
   "id": "a9de754b-2fb9-4e25-94f7-79ecbfc6d11b",
   "metadata": {
    "jp-MarkdownHeadingCollapsed": true
   },
   "source": [
    "#### 실수형"
   ]
  },
  {
   "cell_type": "code",
   "execution_count": null,
   "id": "24d89323-adf6-4096-8888-4473e0f652d8",
   "metadata": {},
   "outputs": [],
   "source": [
    "aa = 1.23\n",
    "bb = -3.1415\n",
    "cc = 3.14e2"
   ]
  },
  {
   "cell_type": "code",
   "execution_count": null,
   "id": "09e3c97e-f0ad-4a3c-b456-7407656e6599",
   "metadata": {},
   "outputs": [],
   "source": [
    "print(aa, bb, cc)"
   ]
  },
  {
   "cell_type": "markdown",
   "id": "183d8610-ca7d-4028-8967-bc5937ddb25c",
   "metadata": {},
   "source": [
    "#### 8진수, 16진수 !!"
   ]
  },
  {
   "cell_type": "markdown",
   "id": "02a352a8-70a6-4617-acb1-f873bd612fc5",
   "metadata": {},
   "source": [
    "- 8진수: 0o17, 16진수: 0x17"
   ]
  },
  {
   "cell_type": "code",
   "execution_count": null,
   "id": "70dc7dd8-38c2-444d-82f6-7914093514f9",
   "metadata": {},
   "outputs": [],
   "source": [
    "a = 0o36\n",
    "b = 0x36\n",
    "print(a, b)"
   ]
  },
  {
   "cell_type": "code",
   "execution_count": null,
   "id": "e0628140-8f8f-41b3-bcc5-728148cd6901",
   "metadata": {},
   "outputs": [],
   "source": [
    "print(a, oct(a), b, hex(b))"
   ]
  },
  {
   "cell_type": "code",
   "execution_count": null,
   "id": "392afc3d-e599-4116-9381-5db2d3d21753",
   "metadata": {},
   "outputs": [],
   "source": [
    "print(bin(a), bin(b))"
   ]
  },
  {
   "cell_type": "markdown",
   "id": "c9f51385-1d67-49c3-b5ff-c365f5b5b1d8",
   "metadata": {},
   "source": [
    "#### 사칙연산 !!"
   ]
  },
  {
   "cell_type": "code",
   "execution_count": null,
   "id": "03f4c97f-a843-4405-ba47-721d109eb438",
   "metadata": {},
   "outputs": [],
   "source": [
    "a = 1234\n",
    "b = 5678\n",
    "print(a+b)\n",
    "print(a-b)\n",
    "print(a*b)\n",
    "print(a/b)\n",
    "print(a%b)"
   ]
  },
  {
   "cell_type": "code",
   "execution_count": null,
   "id": "4c9b3647-9ed0-4e44-88bd-6b1b0b9ea3c4",
   "metadata": {},
   "outputs": [],
   "source": [
    "print(b%a)"
   ]
  },
  {
   "cell_type": "code",
   "execution_count": null,
   "id": "5fb343ff-43ef-4b80-9c0a-02dbb186c5c3",
   "metadata": {},
   "outputs": [],
   "source": [
    "print(a)"
   ]
  },
  {
   "cell_type": "code",
   "execution_count": null,
   "id": "9d0e5e6d-9f7e-4147-a516-04e75c288399",
   "metadata": {},
   "outputs": [],
   "source": [
    "print(a%3) #나머지"
   ]
  },
  {
   "cell_type": "code",
   "execution_count": null,
   "id": "28a20845-662b-4682-970f-2d8a7b23b746",
   "metadata": {},
   "outputs": [],
   "source": [
    "print(a/3) # 나눗셈 결과 전체"
   ]
  },
  {
   "cell_type": "code",
   "execution_count": null,
   "id": "b75d8d53-b0d6-42fa-ae71-2ffb6d32685c",
   "metadata": {},
   "outputs": [],
   "source": [
    "print(a//3) # 몫만 받아낼때"
   ]
  },
  {
   "cell_type": "code",
   "execution_count": null,
   "id": "d7886858-b97d-4264-8180-be134eb03503",
   "metadata": {},
   "outputs": [],
   "source": [
    "print(b//5)"
   ]
  },
  {
   "cell_type": "code",
   "execution_count": null,
   "id": "2dd59e7a-120f-433e-818d-8508189cc02a",
   "metadata": {},
   "outputs": [],
   "source": [
    "print(b/5)"
   ]
  },
  {
   "cell_type": "code",
   "execution_count": null,
   "id": "d8a61f1f-fd4a-49bf-bd02-bc27801d1ef7",
   "metadata": {},
   "outputs": [],
   "source": [
    "print(a**2, b**2) # 제곱 연산"
   ]
  },
  {
   "cell_type": "code",
   "execution_count": null,
   "id": "dd296311-288b-43c3-85d8-9ee3c64f746d",
   "metadata": {},
   "outputs": [],
   "source": [
    "print(a++2, a+2)"
   ]
  },
  {
   "cell_type": "markdown",
   "id": "69b326d8-84ed-42e1-a339-ea529717ce43",
   "metadata": {},
   "source": [
    "### 문자열 자료형"
   ]
  },
  {
   "cell_type": "markdown",
   "id": "fbf49867-5ca5-46b2-869c-76878ec32728",
   "metadata": {},
   "source": [
    "#### 문자열 만들기"
   ]
  },
  {
   "cell_type": "markdown",
   "id": "610aab45-4b2a-4f58-b028-f3e24864383e",
   "metadata": {},
   "source": [
    "- 큰따옴표 양쪽 둘러싸기"
   ]
  },
  {
   "cell_type": "code",
   "execution_count": null,
   "id": "e341917a-4eb7-497f-a99c-4ec895235b66",
   "metadata": {},
   "outputs": [],
   "source": [
    "\"반가워요\""
   ]
  },
  {
   "cell_type": "markdown",
   "id": "bc161e51-ac4c-425b-bf98-c9f79f546f49",
   "metadata": {},
   "source": [
    "- 작은따옴표 양쪽 둘러싸기"
   ]
  },
  {
   "cell_type": "code",
   "execution_count": null,
   "id": "0ca368c4-8872-4777-aba7-9ea708b80a09",
   "metadata": {},
   "outputs": [],
   "source": [
    "'반가워우'"
   ]
  },
  {
   "cell_type": "markdown",
   "id": "7e6cbe93-e1fb-4f2f-80f1-a07b63309f87",
   "metadata": {},
   "source": [
    "- 큰따옴표, 작은따옴표"
   ]
  },
  {
   "cell_type": "code",
   "execution_count": null,
   "id": "8ea2feed-8154-4ec6-95be-4094cc9d74e6",
   "metadata": {},
   "outputs": [],
   "source": [
    "\"\"\"\n",
    "안녕하시와요\n",
    "안녕하세용\n",
    "안녕하상 \n",
    "\"\"\""
   ]
  },
  {
   "cell_type": "code",
   "execution_count": null,
   "id": "87bdbbeb-d969-4704-9cf5-ae1680ef2720",
   "metadata": {},
   "outputs": [],
   "source": [
    "'''\n",
    "안녕하시와요\n",
    "안녕하세용\n",
    "안녕하상 \n",
    "'''"
   ]
  },
  {
   "cell_type": "markdown",
   "id": "ea3d51fa-0e0b-443f-b090-89243d28a483",
   "metadata": {},
   "source": [
    "- **큰따옴표 작은따옴표는 상관없지만 시작과 끝은 같아야 한다**"
   ]
  },
  {
   "cell_type": "code",
   "execution_count": null,
   "id": "9bfc9df0-2308-46af-a197-1b6041b81f7e",
   "metadata": {},
   "outputs": [],
   "source": [
    "print('''안녕하세요\n",
    "안녕하세요''')"
   ]
  },
  {
   "cell_type": "code",
   "execution_count": null,
   "id": "19b7e823-ddfd-4ee6-a479-116fe6e4db72",
   "metadata": {},
   "outputs": [],
   "source": [
    "test = \"그들이 '어벤저스!' 라고 말했다.\"\n",
    "test2 = '그들이 \"어벤저스!\" 라고 말했다.'\n",
    "test3 = \"그들이 \\\"어벤저스!\\\" 라고 말했다.\"\n",
    "test4 = '그들이 \\'어벤저스!\\' 라고 말했다.'\n",
    "print(test)\n",
    "print(test2)\n",
    "print(test3)\n",
    "print(test4)"
   ]
  },
  {
   "cell_type": "markdown",
   "id": "8de40262-f33b-4dd4-b99a-d966a5b92d00",
   "metadata": {},
   "source": [
    "#### 문자열 연산 !!"
   ]
  },
  {
   "cell_type": "code",
   "execution_count": null,
   "id": "77e240f7-b834-4317-80a5-2472c68e3e81",
   "metadata": {},
   "outputs": [],
   "source": [
    "c = '파이썬은'\n",
    "d = '자바보다 쉽다'\n",
    "e = ' '\n",
    "print(c + e + d)"
   ]
  },
  {
   "cell_type": "code",
   "execution_count": null,
   "id": "5c3cd5e2-24f4-4ce7-9f0d-a5929142d974",
   "metadata": {},
   "outputs": [],
   "source": [
    "f = '배불러!!'\n",
    "print(f * 10)"
   ]
  },
  {
   "cell_type": "code",
   "execution_count": null,
   "id": "fabbbf2a-e997-44f9-8453-d8977f2fe5cd",
   "metadata": {},
   "outputs": [],
   "source": [
    "print('='*50)\n",
    "print('내가 만든 프로그램')\n",
    "print('='*50)"
   ]
  },
  {
   "cell_type": "markdown",
   "id": "f2ca36dc-9bbd-4a50-9e9b-d249e0d8cb5a",
   "metadata": {},
   "source": [
    "**문자열길이**"
   ]
  },
  {
   "cell_type": "code",
   "execution_count": null,
   "id": "3bf3b7bf-e864-4d8a-aba8-5ac7dac36afd",
   "metadata": {},
   "outputs": [],
   "source": [
    "pre = \"Life is too short\"\n",
    "print(pre)\n",
    "len(pre) # 띄어쓰기 포함 전체 길이 반환\n",
    "#length(pre)"
   ]
  },
  {
   "cell_type": "code",
   "execution_count": null,
   "id": "3de8d088-3a95-48a3-b7cf-7444954279fb",
   "metadata": {},
   "outputs": [],
   "source": [
    "blank = ' '*30\n",
    "print('!' + blank + '!')\n",
    "print(len(blank))"
   ]
  },
  {
   "cell_type": "markdown",
   "id": "f6994b17-3e3b-4fea-bc58-7fdb251aa3b0",
   "metadata": {},
   "source": [
    "**문자열인덱싱**"
   ]
  },
  {
   "cell_type": "code",
   "execution_count": null,
   "id": "977a23ec-8e03-4f63-8f5e-bfea0d7d1dd5",
   "metadata": {},
   "outputs": [],
   "source": [
    "print(pre[5])\n",
    "print(pre[-2])\n",
    "print(pre[0], pre[-0])\n",
    "print(pre[-1], pre[-2], pre[-5])\n",
    "print(pre[-1] + pre[-2] + pre[-5])"
   ]
  },
  {
   "cell_type": "markdown",
   "id": "e01bbf85-9299-4fc1-acd5-b45ec675028e",
   "metadata": {},
   "source": [
    "**문자인덱싱응용 - 콜론**"
   ]
  },
  {
   "cell_type": "code",
   "execution_count": null,
   "id": "0ca481ce-90ae-4b16-a968-e03f920d19f1",
   "metadata": {},
   "outputs": [],
   "source": [
    "pre = \"Life is too short, Yoo need Python\"\n",
    "print(pre[0:11]) # 시작:끝\n",
    "print(pre[5:13])\n",
    "print(pre[13:])\n",
    "print(pre[:14])\n",
    "print(pre[3:-6])\n",
    "print(pre[-11:])\n",
    "print(pre[:-3])"
   ]
  },
  {
   "cell_type": "code",
   "execution_count": null,
   "id": "e2578b7d-cf64-4fac-a149-8a2214076737",
   "metadata": {},
   "outputs": [],
   "source": [
    "a = 'super man' #immutable(불변): 문자열은 변경 불가능한 자료형\n",
    "print(a[:-2]+'e'+a[-1])"
   ]
  },
  {
   "cell_type": "markdown",
   "id": "c18ae942-80e6-499b-a5b4-b6609ce285ba",
   "metadata": {},
   "source": [
    "#### 문자열 포매팅"
   ]
  },
  {
   "cell_type": "markdown",
   "id": "be26fbcf-c2b5-442e-8062-6d4f759e318a",
   "metadata": {},
   "source": [
    "- 숫자바로 대입 #cf. Java의 printf()"
   ]
  },
  {
   "cell_type": "code",
   "execution_count": null,
   "id": "4efeb62c-e680-43ae-9296-d9cd8fe45a05",
   "metadata": {},
   "outputs": [],
   "source": [
    "a = 3\n",
    "b = 'five'\n",
    "print('I eat %d apples' %a)\n",
    "print('I eat %s apples' %b)"
   ]
  },
  {
   "cell_type": "code",
   "execution_count": null,
   "id": "d3065dfd-33db-45d1-b86d-6e5f68abcbc0",
   "metadata": {},
   "outputs": [],
   "source": [
    "num = 1234\n",
    "print('%d의 값은 8진수로 %o이고, 16진수는 %x 이다.' %(num, num, num))\n",
    "print('%10s' %'안녕')\n",
    "print('%-10sㅎㅎ' %'안녕')"
   ]
  },
  {
   "cell_type": "code",
   "execution_count": null,
   "id": "b9a3805d-1eda-4f0d-9529-9254aa73090f",
   "metadata": {},
   "outputs": [],
   "source": [
    "pi = 3.141592\n",
    "print('~%f@' %pi)\n",
    "print('~%10f@' %pi)\n",
    "print('~%10.4f@' %pi)\n",
    "print('~%-10.4f@' %pi)"
   ]
  },
  {
   "cell_type": "markdown",
   "id": "5e2db1e3-53db-466f-8e5f-716a81401264",
   "metadata": {},
   "source": [
    "#### format 함수로 포매팅"
   ]
  },
  {
   "cell_type": "code",
   "execution_count": null,
   "id": "93f49420-e420-41fe-b6e9-3c78ca50f1d4",
   "metadata": {},
   "outputs": [],
   "source": [
    "a = \"I eat {0}EA of {1}'s apples\"\n",
    "print(a.format(24, '호랭이'))\n",
    "x = 100\n",
    "y = 'sheep'\n",
    "print(a.format(x, y))\n",
    "b = \"I eat {ea}EA of {some}'s apples\".format(ea=123, some='우리')\n",
    "print(b)"
   ]
  },
  {
   "cell_type": "code",
   "execution_count": null,
   "id": "9c3ffb68-2a63-4736-85a5-44ddb011b862",
   "metadata": {},
   "outputs": [],
   "source": [
    "e = \"{0:<12}=+=\".format(\"개미는 오늘도\") # 왼쪽 정렬\n",
    "f = \"{0:^12}=+=\".format(\"열심히 일하네\") # 가운데 정렬\n",
    "g = \"{0:>12}=+=\".format(\"뚠뚠이 다먹어\") # 오른쪽 정렬\n",
    "print(e)\n",
    "print(f)\n",
    "print(g)"
   ]
  },
  {
   "cell_type": "code",
   "execution_count": null,
   "id": "75872ca2-5fca-42f5-8bb4-d457a44e8280",
   "metadata": {},
   "outputs": [],
   "source": [
    "w = \"내일 아침 식사는 ({0:^6}) 입니다.\"\n",
    "print(w.format(\"apple\"))\n",
    "print(w.format(\"orange\"))\n",
    "print(w.format(\"kiwi\"))\n",
    "print(w.format(\"banana\"))"
   ]
  },
  {
   "cell_type": "code",
   "execution_count": 1,
   "id": "a71d60e1-b85a-4e24-b312-50ac457916cb",
   "metadata": {},
   "outputs": [
    {
     "name": "stdout",
     "output_type": "stream",
     "text": [
      "###star###\n",
      "================공지사항!++\n"
     ]
    }
   ],
   "source": [
    "s = \"{0:#^10}\".format(\"star\")\n",
    "print(s)\n",
    "noti = \"{0:=>20}!++\".format(\"공지사항\")\n",
    "print(noti)"
   ]
  },
  {
   "cell_type": "code",
   "execution_count": null,
   "id": "e0ae1280-8cc5-4fe9-9598-d5a6416617f9",
   "metadata": {},
   "outputs": [],
   "source": [
    "num = \"{0:x>10}\".format(3.1416)\n",
    "print(num)"
   ]
  },
  {
   "cell_type": "code",
   "execution_count": null,
   "id": "b0bd60a3-1626-4a94-a1c4-1f1915876f73",
   "metadata": {},
   "outputs": [],
   "source": [
    "inte = int(\"148\")\n",
    "doub = float(\"148.15\")\n",
    "print(inte + doub)\n",
    "print(int(doub))"
   ]
  },
  {
   "cell_type": "markdown",
   "id": "29f25d2a-3fc0-4349-97e7-b2a6e050479c",
   "metadata": {},
   "source": [
    "#### f 문자열 포메팅 !!!!"
   ]
  },
  {
   "cell_type": "markdown",
   "id": "8544606b-13b4-4070-9415-06ae9aede897",
   "metadata": {},
   "source": [
    "- **3.6버전 이상만 가능!**"
   ]
  },
  {
   "cell_type": "code",
   "execution_count": null,
   "id": "398ac534-00f5-43e4-a9d3-18303dffdf1e",
   "metadata": {},
   "outputs": [],
   "source": [
    "name = '유대현'\n",
    "age = 25\n",
    "#print('나의 이름은 {0}입니다. \\n나이는 {1}입니다.'.format(name, age))\n",
    "print(f'나의 이름은 {name}입니다. \\n나이는 {age}입니다.') # f를 문자열 앞에 붙이기"
   ]
  },
  {
   "cell_type": "code",
   "execution_count": 2,
   "id": "8a352a23-7971-48a6-bbad-136fff400cb0",
   "metadata": {},
   "outputs": [
    {
     "name": "stdout",
     "output_type": "stream",
     "text": [
      "3.1415926536\n",
      "       3.142\n",
      "++++3.1415926536++++\n"
     ]
    }
   ],
   "source": [
    "pi = 3.1415926536\n",
    "print(f'{pi}')\n",
    "print(f'{pi:>12.4}')\n",
    "print(f'{pi:+^20}')"
   ]
  },
  {
   "cell_type": "code",
   "execution_count": null,
   "id": "647a56af-d729-4d81-939d-6d23c4c8b4d2",
   "metadata": {
    "scrolled": true
   },
   "outputs": [],
   "source": [
    "dir(str()) #string의 기능 탐색"
   ]
  },
  {
   "cell_type": "code",
   "execution_count": null,
   "id": "6d32abee-2d38-4e1d-95c3-afbf707d1e96",
   "metadata": {},
   "outputs": [],
   "source": [
    "dir(int())"
   ]
  },
  {
   "cell_type": "markdown",
   "id": "05d67e58-b7ca-4fba-8147-577f9ca0d4eb",
   "metadata": {},
   "source": [
    "#### 문자열 관련 함수들"
   ]
  },
  {
   "cell_type": "code",
   "execution_count": null,
   "id": "c701a3c3-21b9-41e1-a7d1-c4369b34ab13",
   "metadata": {},
   "outputs": [],
   "source": [
    "s1 = 'coffee'\n",
    "c1 = 'f'\n",
    "print(s1 + '에는 f 철자가 ' + str(s1.count(c1)) + '개 있다.')"
   ]
  },
  {
   "cell_type": "code",
   "execution_count": null,
   "id": "71e7d664-68f5-4109-964e-90d43fae8156",
   "metadata": {},
   "outputs": [],
   "source": [
    "s2 = 'Iced-Americano is the best choice in winter'\n",
    "print(s2.find('-'))\n",
    "print(s2.find('q'))"
   ]
  },
  {
   "cell_type": "code",
   "execution_count": null,
   "id": "ea100c21-8caa-4866-ad39-ccc9ec997bf6",
   "metadata": {},
   "outputs": [],
   "source": [
    "s3 = s2.split(' ')\n",
    "print(s3[-5:])"
   ]
  },
  {
   "cell_type": "code",
   "execution_count": null,
   "id": "9e4c28ae-d552-46d0-8d88-f94b7b67872e",
   "metadata": {},
   "outputs": [],
   "source": [
    "say = input()\n",
    "print(say + '!!!')\n",
    "num = int(input())\n",
    "print(num + 100)"
   ]
  },
  {
   "cell_type": "markdown",
   "id": "f414b6bd-f593-4b43-853b-c2de06679878",
   "metadata": {},
   "source": [
    "##### find(), index() 차이"
   ]
  },
  {
   "cell_type": "code",
   "execution_count": null,
   "id": "5d684b46-4722-495e-a630-4bf85a376642",
   "metadata": {},
   "outputs": [],
   "source": [
    "# find() 함수: 찾지 못하면 -1 반환\n",
    "s2 = 'Iced-Americano is the best choice in winter'\n",
    "ans = input('찾고 싶은 문자열은?')\n",
    "ver = s2.find(ans) == -1\n",
    "if ver:\n",
    "    print('없습니다.')\n",
    "elif not ver:\n",
    "    print(f'{ans}는 {s2.find(ans)}번째에 있어.')\n"
   ]
  },
  {
   "cell_type": "code",
   "execution_count": null,
   "id": "1c74e513-00e7-41c5-89df-de0bcc507126",
   "metadata": {},
   "outputs": [],
   "source": [
    "# index() 함수: 찾지 못하면 에러 발생(경우에 따라 유용)\n",
    "s3 = 'Iced-Americano is the best choice in winter'\n",
    "ans = input('찾고 싶은 문자열은?')\n",
    "ver = s3.index(ans) == -1\n",
    "if ver:\n",
    "    print('없습니다.')\n",
    "elif not ver:\n",
    "    print(f'{ans}는 {s3.index(ans)}번째에 있어.')\n"
   ]
  },
  {
   "cell_type": "markdown",
   "id": "2a655653-b971-4a07-851d-1e40a3967fdc",
   "metadata": {},
   "source": [
    "##### join()"
   ]
  },
  {
   "cell_type": "code",
   "execution_count": null,
   "id": "16562434-009b-4a9b-b9f2-72a4e9b57f3a",
   "metadata": {},
   "outputs": [],
   "source": [
    "s4 = 'AbcDefG'\n",
    "result = ', '.join(s4)\n",
    "print(result)\n",
    "result = '-'.join(s4)\n",
    "print(result)\n",
    "result = ' '.join(s4)\n",
    "print(result)"
   ]
  },
  {
   "cell_type": "markdown",
   "id": "3dd341ef-13b3-4159-84bf-a61126c5933b",
   "metadata": {},
   "source": [
    "##### upper(), lower()"
   ]
  },
  {
   "cell_type": "code",
   "execution_count": null,
   "id": "9dd0ab0e-d87a-4a8b-b300-e632f1829d76",
   "metadata": {},
   "outputs": [],
   "source": [
    "print('원래 문자열: ', s4)\n",
    "s5 = s4.upper()\n",
    "print('대문자로: ', '~'.join(s5))\n",
    "s6 = s5.lower()\n",
    "print('소문자로: ', '*'.join(s6[2:-1]))\n"
   ]
  },
  {
   "cell_type": "markdown",
   "id": "8aec84ce-2765-42c9-87b8-e3b04652b683",
   "metadata": {},
   "source": [
    "##### 공백 제거 함수 !!"
   ]
  },
  {
   "cell_type": "code",
   "execution_count": null,
   "id": "bddf4969-4ff2-4952-bd72-dbb73ce37d18",
   "metadata": {},
   "outputs": [],
   "source": [
    "test = f'{'uni':^20}'\n",
    "print(test)\n",
    "#왼쪽 제거\n",
    "t1 = test.lstrip()\n",
    "print(t1)\n",
    "#print(test) # 원본 미손실(?) 함수 확인\n",
    "#오른쪽 제거\n",
    "t2 = test.rstrip()\n",
    "print(t2)\n",
    "#양쪽 제거\n",
    "t3 = test.strip()\n",
    "print(t3)"
   ]
  },
  {
   "cell_type": "markdown",
   "id": "2821dad1-9577-4398-b789-0836c5961232",
   "metadata": {},
   "source": [
    "##### rfind(), rindex()"
   ]
  },
  {
   "cell_type": "code",
   "execution_count": null,
   "id": "5b89fb78-8e2c-4662-8a02-45db5659263a",
   "metadata": {},
   "outputs": [],
   "source": [
    "fin = 'connnnnnect'\n",
    "print(fin.find('n')) # 2\n",
    "print(fin.rfind('n')) # 7\n",
    "print(fin.index('n')) # 2\n",
    "print(fin.rindex('n')) # 7"
   ]
  },
  {
   "cell_type": "markdown",
   "id": "d90ef765-74b9-4cff-b6df-28a830b1cf34",
   "metadata": {},
   "source": [
    "##### replace()"
   ]
  },
  {
   "cell_type": "code",
   "execution_count": null,
   "id": "e9c5c70d-f3d2-4167-899d-e2ea59d4d81f",
   "metadata": {},
   "outputs": [],
   "source": [
    "py = 'Life is too short'\n",
    "print(py)\n",
    "pl = py.replace('Life', 'Your arm')\n",
    "print(pl)\n",
    "ps = pl.replace(' ', '')\n",
    "print(ps)\n"
   ]
  },
  {
   "cell_type": "markdown",
   "id": "cd8d3c1e-60d7-4031-8e0e-b817454d4c4c",
   "metadata": {},
   "source": [
    "##### count()"
   ]
  },
  {
   "cell_type": "code",
   "execution_count": null,
   "id": "5d6d05c6-4f12-4c8f-be79-6a9261751605",
   "metadata": {},
   "outputs": [],
   "source": [
    "s = 'Life is an Egg, you need some chicken and they need you'\n",
    "print(s.count('need'))"
   ]
  },
  {
   "cell_type": "markdown",
   "id": "19aa2150-d377-4771-916f-9dbb194917fd",
   "metadata": {},
   "source": [
    "##### split(), 응용"
   ]
  },
  {
   "cell_type": "markdown",
   "id": "4b1cb4a7-4816-4203-8516-f5970c1c1d00",
   "metadata": {
    "jp-MarkdownHeadingCollapsed": true
   },
   "source": [
    "ui = f'{'Life is short':^22}'\n",
    "print(ui)\n",
    "\n",
    "un = ui.replace(' ', '')\n",
    "print(un)\n",
    "print('/'.join(un))\n",
    "\n",
    "um = ui.strip().split(' ')\n",
    "am = um[0].upper() + um[1].lower() + um[2].upper()\n",
    "print('/'.join(am))\n",
    "\n",
    "um = ui.strip().upper().split()\n",
    "um[1] = um[1].lower()\n",
    "print('/'.join(''.join(um)))"
   ]
  },
  {
   "cell_type": "markdown",
   "id": "c8b1aa62-b726-41f9-9c10-cf1c361286b7",
   "metadata": {},
   "source": [
    "##### list & string"
   ]
  },
  {
   "cell_type": "code",
   "execution_count": null,
   "id": "1d6422dd-be05-4353-a4bb-e03f4b56ba2f",
   "metadata": {},
   "outputs": [],
   "source": [
    "arr = ['orange', 'apple', 'strawberry', 'mango']\n",
    "print(arr, type(arr))\n",
    "print(arr[0], type(arr[0]))\n",
    "py = 'Life is too short'\n",
    "arr2 = py.split()\n",
    "print(arr2, type(arr2))\n",
    "arr3 = py.split(' too ')\n",
    "print(arr3)"
   ]
  },
  {
   "cell_type": "code",
   "execution_count": null,
   "id": "e0d3f424-601c-498d-b3b3-b58e2b4267fe",
   "metadata": {},
   "outputs": [],
   "source": [
    "dir(arr)"
   ]
  },
  {
   "cell_type": "code",
   "execution_count": null,
   "id": "62fa34cc-62e9-4d21-90b8-3257513e02a0",
   "metadata": {},
   "outputs": [],
   "source": [
    "print(arr, arr2)\n",
    "print(' '.join(arr))\n",
    "print(('-'*3).join(arr2))\n",
    "print('*'.join(py))"
   ]
  },
  {
   "cell_type": "code",
   "execution_count": null,
   "id": "b7ef2718-9bf2-4b63-877b-7768a6863b05",
   "metadata": {},
   "outputs": [],
   "source": [
    "print(len(arr))"
   ]
  },
  {
   "cell_type": "code",
   "execution_count": null,
   "id": "2fb9521f-93f0-4b62-897d-8e68570a69ef",
   "metadata": {},
   "outputs": [],
   "source": [
    "arr = ['one', 'two', 'three', 'four']\n",
    "print(arr)\n",
    "arr.append('three')\n",
    "print(f'\\'one\\': {arr.count('one')}')\n",
    "print(f'\\'three\\': {arr.count('three')}')\n",
    "arr.sort()\n",
    "print(arr)\n",
    "arr.pop()\n",
    "print(arr)\n",
    "arr.remove('three')\n",
    "print(arr)\n",
    "arr.insert(2, 'five')\n",
    "print(arr)\n",
    "arr.clear()\n",
    "print(arr)"
   ]
  },
  {
   "cell_type": "markdown",
   "id": "64d83a34-cf53-4da7-b7a8-8decdcd630f7",
   "metadata": {},
   "source": [
    "## For-loop"
   ]
  },
  {
   "cell_type": "code",
   "execution_count": 14,
   "id": "3bac602f-c6ee-432b-a819-a8bb6f9c799e",
   "metadata": {},
   "outputs": [
    {
     "name": "stdout",
     "output_type": "stream",
     "text": [
      "0 0 0\n",
      "1 1 1\n",
      "2 2 2\n",
      "3 3 3\n",
      "4 4 4\n",
      "0\n",
      "1\n",
      "2\n",
      "3\n",
      "4\n",
      "5\n",
      "6\n",
      "7\n",
      "8\n",
      "9\n",
      "00010-N\n",
      "00011-N\n",
      "00012-N\n",
      "00013-N\n",
      "00014-N\n",
      "00015-N\n",
      "00016-N\n",
      "00017-N\n",
      "00018-N\n",
      "00019-N\n"
     ]
    }
   ],
   "source": [
    "for i in range(5):\n",
    "    print(i, i, i)\n",
    "for i in range(10):\n",
    "    print(i)\n",
    "for i in range(10,20):\n",
    "    print(f'{i:0>5}-N')"
   ]
  },
  {
   "cell_type": "code",
   "execution_count": 15,
   "id": "ac0b8a51-b07a-4c1e-8f4d-de6a35e4b45f",
   "metadata": {},
   "outputs": [
    {
     "name": "stdout",
     "output_type": "stream",
     "text": [
      "spring\n",
      "summer\n",
      "autumn\n",
      "winter\n"
     ]
    }
   ],
   "source": [
    "seasons = ['spring', 'summer', 'autumn', 'winter']\n",
    "for sn in seasons:\n",
    "    print(sn)"
   ]
  },
  {
   "cell_type": "code",
   "execution_count": 19,
   "id": "adefcb53-56fa-408d-b32d-1670c29e8652",
   "metadata": {},
   "outputs": [
    {
     "name": "stdout",
     "output_type": "stream",
     "text": [
      "유대현 25\n",
      "박세혁 22\n",
      "전지은 29\n"
     ]
    }
   ],
   "source": [
    "dicName = {'유대현': 25, '박세혁': 22, '전지은': 29}\n",
    "for name, age in dicName.items():\n",
    "    print(name, age)"
   ]
  },
  {
   "cell_type": "markdown",
   "id": "a3ed75ac-e91a-4a77-a5c9-361fbe435f30",
   "metadata": {},
   "source": [
    "## 자료구조 - list"
   ]
  },
  {
   "cell_type": "markdown",
   "id": "34691754-bdea-490e-b8a0-a453e0099b6e",
   "metadata": {},
   "source": [
    "### 리스트 표현법"
   ]
  },
  {
   "cell_type": "markdown",
   "id": "161e518d-3c99-46b6-924a-bb8e3f1cc31a",
   "metadata": {},
   "source": [
    "#### 리스트 인덱싱"
   ]
  },
  {
   "cell_type": "code",
   "execution_count": null,
   "id": "8cc76b45-eb96-4cb0-9fc3-5a526f8491a6",
   "metadata": {},
   "outputs": [],
   "source": [
    "odd = [1, 3, 5, 7, 9]\n",
    "even = [0, 2, 4, 6, 8]\n",
    "odd[3] = 77\n",
    "#odd[5] = 0\n",
    "print(odd)"
   ]
  },
  {
   "cell_type": "code",
   "execution_count": 5,
   "id": "cf817c03-33d8-404a-b3c4-6ffc9921332c",
   "metadata": {},
   "outputs": [
    {
     "name": "stdout",
     "output_type": "stream",
     "text": [
      "1\n",
      "['a', 'b', 'c']\n",
      "['a', 'b']\n"
     ]
    }
   ],
   "source": [
    "arr = [1,2,3,['a', 'b', 'c']]\n",
    "print(arr[0])\n",
    "print(arr[-1])\n",
    "print(arr[-1][:2])"
   ]
  },
  {
   "cell_type": "code",
   "execution_count": 8,
   "id": "21a8dd22-48d7-4e63-b485-8deabe575ed4",
   "metadata": {},
   "outputs": [
    {
     "name": "stdout",
     "output_type": "stream",
     "text": [
      "[1, 2, 3, 4, 5, 6, 7, 8, 9]\n",
      "[1, 2, 3, 4, 5, 6, 7, 8, 9]\n",
      "[4, 5, 6, 7, 8, 9]\n",
      "[1, 2, 3]\n",
      "[1, 2, 3, 4, 5, 6]\n"
     ]
    }
   ],
   "source": [
    "#slicing 슬라이싱\n",
    "arr = [1, 2, 3, 4, 5, 6, 7, 8, 9]\n",
    "print(arr)\n",
    "print(arr[:])\n",
    "print(arr[3:])\n",
    "print(arr[:3])\n",
    "print(arr[:-3])"
   ]
  },
  {
   "cell_type": "code",
   "execution_count": 12,
   "id": "54cdc7bf-5e1b-42ff-8b4c-167918861c84",
   "metadata": {},
   "outputs": [
    {
     "name": "stdout",
     "output_type": "stream",
     "text": [
      "[[2, 3, 4, 5, [10, 20, 30]], 6, 7]\n",
      "[4, 5, [10, 20, 30]]\n",
      "[10, 20]\n"
     ]
    }
   ],
   "source": [
    "# list 예제1\n",
    "c = [1, [2, 3, 4, 5, [10, 20, 30]], 6, 7, 8, 9]\n",
    "# [[2, 3, 4, 5], 6, 7]\n",
    "# [4, 5]\n",
    "print(c[1:-2])\n",
    "print(c[1][2:])\n",
    "print(c[1][-1][:-1])"
   ]
  },
  {
   "cell_type": "markdown",
   "id": "f9075094-c01d-42d0-994d-6cc5e433cd7b",
   "metadata": {},
   "source": [
    "#### 간단한 연산"
   ]
  },
  {
   "cell_type": "code",
   "execution_count": 21,
   "id": "d16d2b93-8de4-4e23-8e4c-e2abbcd3d548",
   "metadata": {},
   "outputs": [
    {
     "name": "stdout",
     "output_type": "stream",
     "text": [
      "[1, 2, 3, 4, 5, 7, 8, 9]\n",
      "[1, 2, 3, 4, 5, 1, 2, 3, 4, 5, 1, 2, 3, 4, 5]\n",
      "[7, 8, 9]\n",
      "[7, 8, 9, 7, 8, 9]\n",
      "[7, 8, 9, 7, 8, 9, 7, 8, 9]\n",
      "[7, 8, 9, 7, 8, 9, 7, 8, 9, 7, 8, 9]\n"
     ]
    }
   ],
   "source": [
    "# list 2\n",
    "a1 = [1, 2, 3, 4, 5]\n",
    "a2 = [7, 8, 9]\n",
    "a3 = a1 + a2\n",
    "a4 = a1 * 3\n",
    "print(a3)\n",
    "print(a4)\n",
    "for i in range(4):\n",
    "    print(a2*(i+1))"
   ]
  },
  {
   "cell_type": "code",
   "execution_count": 22,
   "id": "d4d4e5a0-8dc4-42c7-ba7e-8c9ac42591fa",
   "metadata": {},
   "outputs": [
    {
     "name": "stdout",
     "output_type": "stream",
     "text": [
      "5, 3, 8, 15\n"
     ]
    }
   ],
   "source": [
    "print(f'{len(a1)}, {len(a2)}, {len(a3)}, {len(a4)}')"
   ]
  },
  {
   "cell_type": "code",
   "execution_count": 23,
   "id": "8a489a7e-834b-41b8-b57f-1e5bccfb6b84",
   "metadata": {},
   "outputs": [
    {
     "name": "stdout",
     "output_type": "stream",
     "text": [
      "[2, 4, 6, 5, 7]\n",
      "[2, 4, 6, 5, 7, 2, 4, 6, 5, 7]\n"
     ]
    }
   ],
   "source": [
    "t1 = [2, 4, 6]\n",
    "t1 += [5, 7]\n",
    "print(t1)\n",
    "t1 += t1\n",
    "print(t1)"
   ]
  },
  {
   "cell_type": "code",
   "execution_count": 30,
   "id": "1d914920-5f02-4d01-bb1a-83fb110fec80",
   "metadata": {},
   "outputs": [
    {
     "name": "stdout",
     "output_type": "stream",
     "text": [
      "[1, 2, 3, 4, 5, 6]\n",
      "[1, 2, 3]\n",
      "[2, 3]\n",
      "[2, 3]\n"
     ]
    }
   ],
   "source": [
    "b = [1, 2, 3, 4, 5, 6]\n",
    "p = b\n",
    "print(b)\n",
    "del b[3:]\n",
    "print(b)\n",
    "del b[:-2]\n",
    "print(b)\n",
    "print(p)"
   ]
  },
  {
   "cell_type": "markdown",
   "id": "22db545c-4bf1-4fa2-8fe7-2875626281a8",
   "metadata": {},
   "source": [
    "#### 주소 관련"
   ]
  },
  {
   "cell_type": "code",
   "execution_count": 32,
   "id": "d431adb9-a60e-42fa-95c8-259c45e076d3",
   "metadata": {},
   "outputs": [
    {
     "name": "stdout",
     "output_type": "stream",
     "text": [
      "140730649994344\n",
      "140730649994344\n",
      "140730649997320\n",
      "7\n",
      "140730649994344\n",
      "==============================\n",
      "tiny tiny\n",
      "1909928943056 tiny\n",
      "1909928943680 large\n",
      "==============================\n",
      "1909933596032 1909933596032\n",
      "[1, 2, 10]\n"
     ]
    }
   ],
   "source": [
    "a = 7\n",
    "print(id(a))\n",
    "b = a\n",
    "print(id(b))\n",
    "a = 100\n",
    "print(id(a)) # 주소가 바뀜\n",
    "print(b)\n",
    "print(id(b))\n",
    "\n",
    "print('='*30)\n",
    "a = 'tiny'\n",
    "b = a\n",
    "print(a, b)\n",
    "b = 'large'\n",
    "print(id(a), a)\n",
    "print(id(b), b)\n",
    "\n",
    "print('='*30)\n",
    "a = [1, 2, 3]\n",
    "b = a\n",
    "print(id(a), id(b))\n",
    "a[2] = 10\n",
    "print(b) # a에 영향 받음"
   ]
  },
  {
   "cell_type": "markdown",
   "id": "c11ab475-f5cc-4ed6-bb93-19855e090735",
   "metadata": {},
   "source": [
    "#### append(), sort(), remove() 등등"
   ]
  },
  {
   "cell_type": "code",
   "execution_count": null,
   "id": "031647c2-10d4-4007-b673-0d7fa704e55a",
   "metadata": {},
   "outputs": [],
   "source": [
    "c = [1, 2, 3]\n",
    "c.append(4)\n",
    "#c.remove(2)\n",
    "print(c)\n",
    "print(c.append(5)) # None: return이 없다는 의미\n",
    "c.insert(1, 'apple')\n",
    "print(c)"
   ]
  },
  {
   "cell_type": "code",
   "execution_count": 37,
   "id": "678b3856-acbb-4a30-890f-92510f5334a6",
   "metadata": {},
   "outputs": [
    {
     "name": "stdout",
     "output_type": "stream",
     "text": [
      "[1, 2, 3, 4, 5, 6, 7, 8, 9]\n",
      "[9, 8, 7, 6, 5, 4, 3, 2, 1]\n",
      "['a', 'b', 'c', 'd']\n",
      "[9, 8, 7, 6, 5, 4, 3, 2, 1, 'a', 'b', 'c', 'd']\n",
      "==================================================\n",
      "[1, 3, 9, 11, 5, 7]\n",
      "['red', 'green', 'blue']\n",
      "[1, 3, 5, 7, 9, 11, 'blue', 'green', 'red'], [7, 5, 11, 9, 3, 1], ['red', 'green', 'blue']\n"
     ]
    }
   ],
   "source": [
    "d = [4, 2, 1, 3, 5, 8, 6, 7, 9]\n",
    "d.sort()\n",
    "print(d)\n",
    "d.reverse()\n",
    "print(d)\n",
    "\n",
    "e = ['b', 'a', 'd', 'c']\n",
    "e.sort()\n",
    "print(e)\n",
    "\n",
    "f = d + e\n",
    "#f.sort() # 문자, 숫자를 혼합해서 정렬하지 못한다.(에러)\n",
    "print(f)\n",
    "\n",
    "print('='*50)\n",
    "h = [1,3,9,11,5,7]\n",
    "i = ['red', 'green', 'blue']\n",
    "print(h)\n",
    "print(i)\n",
    "j = sorted(h) + sorted(i)\n",
    "h.reverse()\n",
    "print(f'{j}, {h}, {i}')"
   ]
  },
  {
   "cell_type": "code",
   "execution_count": 38,
   "id": "1b4dd64f-aab0-4126-8be6-bfe4eb536cce",
   "metadata": {},
   "outputs": [
    {
     "name": "stdout",
     "output_type": "stream",
     "text": [
      "(1, 2, 3) ('a', 'b', 'c')\n",
      "(1, 2, 3, 'a', 'b', 'c', 4, 5)\n",
      "(1, 2, 3, 'a', 'b', 'c', 4, 5, '가', '나', '다', 11, 12)\n"
     ]
    }
   ],
   "source": [
    "o1 = (1, 2, 3)\n",
    "o2 = 'a', 'b', 'c'\n",
    "print(o1, o2)\n",
    "o3 = o1 + o2 + (4, 5)\n",
    "print(o3)\n",
    "o4 = o3 + ('가', '나', '다')\n",
    "print(f'{o4 + (11, 12)}')"
   ]
  },
  {
   "cell_type": "code",
   "execution_count": 40,
   "id": "d8ab5f61-b980-4af1-ab6b-a75da2f12f27",
   "metadata": {},
   "outputs": [
    {
     "name": "stdout",
     "output_type": "stream",
     "text": [
      "red and yellow\n",
      "kiwi 색깔은 green 입니다\n"
     ]
    }
   ],
   "source": [
    "d1 = {'apple':'red', 'banana':'yellow', 'kiwi':'green'}\n",
    "print(f'{d1['apple']} and {d1['banana']}')\n",
    "print(f'kiwi 색깔은 {d1['kiwi']} 입니다')"
   ]
  },
  {
   "cell_type": "code",
   "execution_count": 48,
   "id": "f6959da0-9263-48f3-8ec3-1b84eb16daff",
   "metadata": {},
   "outputs": [
    {
     "name": "stdout",
     "output_type": "stream",
     "text": [
      "[10, 1, 2, 3]\n",
      "[10, 1, 8, 2, 3]\n",
      "[10, 1, 8, 2, 3, 20, 21]\n",
      "[10, 1, 8, 2, [1, 2, 3, 4], 3, 20, 21]\n"
     ]
    }
   ],
   "source": [
    "# 요소 삽입\n",
    "a = [1, 2, 3]\n",
    "a.insert(0, 10)\n",
    "print(a)\n",
    "a.insert(-2, 8)\n",
    "print(a)\n",
    "a.insert(len(a), 20)\n",
    "a.append(21)\n",
    "print(a)\n",
    "a.insert(4, [1, 2, 3, 4])\n",
    "print(a)"
   ]
  },
  {
   "cell_type": "code",
   "execution_count": 57,
   "id": "df3245a5-23e9-457c-8d0f-8e9befee7ef2",
   "metadata": {},
   "outputs": [
    {
     "name": "stdout",
     "output_type": "stream",
     "text": [
      "[1, 2, 3, 'a', 'b', 1, 2, 3, 'a', 'b', 1, 2, 3, 'a', 'b', 1, 2, 3, 'a', 'b']\n",
      "[1, 2, 3, 'a', 1, 2, 3, 'a', 'b', 1, 2, 3, 'a', 'b', 1, 2, 3, 'a', 'b']\n",
      "[1, 2, 3, 'a', 'b', 1, 2, 3, 'a', 'b', 1, 2, 3, 'a', 'b', 1, 2, 3, 'a', 'b']\n",
      "[1, 3, 'a', 'b', 1, 3, 'a', 'b', 1, 2, 3, 'a', 'b', 1, 2, 3, 'a', 'b']\n"
     ]
    }
   ],
   "source": [
    "# 요소 제거\n",
    "import copy\n",
    "\n",
    "a = [1,2,3, 'a', 'b'] * 4\n",
    "b = copy.deepcopy(a)\n",
    "print(a)\n",
    "a.remove('b')\n",
    "print(a)\n",
    "\n",
    "print(b)\n",
    "b.remove(2)\n",
    "b.remove(2)\n",
    "# b.removeAll(1) 얘는 존재하지 않는다.\n",
    "# b.remove(2)\n",
    "# b.remove(2)\n",
    "# b.remove(2)\n",
    "print(b)"
   ]
  },
  {
   "cell_type": "code",
   "execution_count": 66,
   "id": "01a2ad24-a374-46bd-a6fc-c4a5800b5438",
   "metadata": {},
   "outputs": [
    {
     "name": "stdout",
     "output_type": "stream",
     "text": [
      "[1, 2, 3, 4, 5], []\n",
      "[1, 2, 3, 4], [5]\n"
     ]
    }
   ],
   "source": [
    "c = [1, 2, 3, 4, 5]\n",
    "ye = []\n",
    "print(f'{c}, {ye}')\n",
    "ye.append(c.pop())\n",
    "print(f'{c}, {ye}')"
   ]
  },
  {
   "cell_type": "code",
   "execution_count": 67,
   "id": "fa162c55-78b0-44c2-a306-e6c7e325b7cc",
   "metadata": {},
   "outputs": [
    {
     "name": "stdout",
     "output_type": "stream",
     "text": [
      "[1, 2, 3], [5, 4]\n",
      "[4, 5]\n"
     ]
    }
   ],
   "source": [
    "ye.append(c.pop())\n",
    "print(f'{c}, {ye}')\n",
    "ye.sort()\n",
    "print(ye)"
   ]
  },
  {
   "cell_type": "code",
   "execution_count": 68,
   "id": "93a7ad18-953d-40d2-a2f9-d8e10c031b13",
   "metadata": {},
   "outputs": [
    {
     "name": "stdout",
     "output_type": "stream",
     "text": [
      "4, [1, 3, 2, 3, 5, 4, 6, 9]\n",
      "1, [3, 2, 3, 5, 4, 6, 9]\n"
     ]
    }
   ],
   "source": [
    "c = [1, 3, 2, 4, 3, 5, 4, 6, 9]\n",
    "g = c.pop(3)\n",
    "print(f'{g}, {c}')\n",
    "g = c.pop(0)\n",
    "print(f'{g}, {c}')"
   ]
  },
  {
   "cell_type": "code",
   "execution_count": 70,
   "id": "b7f83a88-19cc-4c67-8102-46d2fb33b372",
   "metadata": {},
   "outputs": [
    {
     "name": "stdout",
     "output_type": "stream",
     "text": [
      "None\n",
      "[2, 3, 4, 5, 6, 7, 8]\n",
      "[2, 3, 4, 5, 12, 7, 8]\n"
     ]
    }
   ],
   "source": [
    "u = [2, 3, 4, 5]\n",
    "print(u.extend([6, 7, 8])) #None\n",
    "# u += [6, 7, 8]\n",
    "print(u)\n",
    "u[4] = 12\n",
    "print(u)"
   ]
  },
  {
   "cell_type": "code",
   "execution_count": 72,
   "id": "e7525cb5-253e-4dc3-b09e-ae8a2f9e0448",
   "metadata": {},
   "outputs": [
    {
     "name": "stdin",
     "output_type": "stream",
     "text": [
      "[1, 2, 3, 4, 5, 6, 7, 8, 9] 중에 제거할 숫자의 인덱스를 입력하세요. abcd\n"
     ]
    },
    {
     "name": "stdout",
     "output_type": "stream",
     "text": [
      "잘못 입력하셨습니다. > invalid literal for int() with base 10: 'abcd'\n",
      "pop()은 반환값이 존재하는 데이터 손실(?) 함수입니다.\n"
     ]
    }
   ],
   "source": [
    "# 제거할 숫자 인덱스 입력, 출력: \"{ }를 꺼내면 { a }가 된다.\"\n",
    "a = [1, 2, 3, 4, 5, 6, 7, 8, 9]\n",
    "try:\n",
    "    v = a.pop(int(input(f'{a} 중에 제거할 숫자의 인덱스를 입력하세요.')))\n",
    "except Exception as e:\n",
    "    print(f'잘못 입력하셨습니다. > {e}')\n",
    "else:\n",
    "    print(f'{v}를 꺼내면 {a}가 됩니다.')\n",
    "finally:\n",
    "    print('pop()은 반환값이 존재하는 데이터 손실(?) 함수입니다.')"
   ]
  },
  {
   "cell_type": "code",
   "execution_count": 74,
   "id": "5ddf6f39-2f78-4a0b-8cda-958c443177cc",
   "metadata": {},
   "outputs": [
    {
     "name": "stdout",
     "output_type": "stream",
     "text": [
      "[1, 2, 3, 4, 5]\n",
      "[1, 2, 3, 4, 5, 'a', 'b', 'c', 2, 3, 4]\n",
      "[1, 2, 3, 4, 5, 'a', 'b', 'c', 2, 3, 4, 'a', 'b', 'c', 12, 13, (14, 15, 16)]\n",
      "[1, 2, 3, 4, 5, 'a', 'b', 'c', 2, 3, 4, 'a', 'b', 'c', 12, 13, (14, 15, 16), 11, 22, 33, 44, 'a', 'b', 'c']\n"
     ]
    }
   ],
   "source": [
    "# 확장 extend\n",
    "a = [1, 2, 3, 4, 5]\n",
    "b = [11, 22, 33, 44]\n",
    "c = ['a', 'b', 'c']\n",
    "print(a)\n",
    "a.extend(c)\n",
    "a.extend( (2, 3, 4) )\n",
    "print(a)\n",
    "a.extend(c)\n",
    "a.extend( [12, 13, (14, 15, 16)] )\n",
    "print(a)\n",
    "a.extend(b)\n",
    "a.extend(c)\n",
    "print(a)\n"
   ]
  },
  {
   "cell_type": "code",
   "execution_count": 75,
   "id": "b2d6fe21-e56c-424c-82d3-0404c378ff63",
   "metadata": {},
   "outputs": [
    {
     "name": "stdout",
     "output_type": "stream",
     "text": [
      "6\n"
     ]
    },
    {
     "name": "stdin",
     "output_type": "stream",
     "text": [
      "어떤 요소의 개수를 구하시겠습니까? 3\n"
     ]
    },
    {
     "name": "stdout",
     "output_type": "stream",
     "text": [
      "9\n"
     ]
    }
   ],
   "source": [
    "# 요소의 개수 세기\n",
    "total = [1, 2, 3, 2, 3, 2, 1, 2, 4, 3, 2, 4] * 3\n",
    "print(total.count(4))\n",
    "\n",
    "print(total.count(int(input('어떤 요소의 개수를 구하시겠습니까?'))))"
   ]
  },
  {
   "cell_type": "code",
   "execution_count": 80,
   "id": "88f656d1-57f0-43b1-abfb-b4b3778bd7c4",
   "metadata": {},
   "outputs": [
    {
     "name": "stdout",
     "output_type": "stream",
     "text": [
      "[1, 2, 3, 4, 5, 6]에서 1을 꺼냅니다.\n",
      "[2, 3, 4, 5, 6]에서 2을 꺼냅니다.\n",
      "[3, 4, 5, 6]에서 3을 꺼냅니다.\n",
      "[4, 5, 6]에서 4을 꺼냅니다.\n",
      "[5, 6]에서 5을 꺼냅니다.\n",
      "[6]에서 6을 꺼냅니다.\n",
      "변수 a가 비어있습니다.\n",
      "========================================\n",
      "[1, 2, 3, 4, 5, 6]에서 6을 꺼냅니다.\n",
      "[1, 2, 3, 4, 5]에서 5을 꺼냅니다.\n",
      "[1, 2, 3, 4]에서 4을 꺼냅니다.\n",
      "[1, 2, 3]에서 3을 꺼냅니다.\n",
      "[1, 2]에서 2을 꺼냅니다.\n",
      "[1]에서 1을 꺼냅니다.\n",
      "변수 a가 비어있습니다.\n"
     ]
    }
   ],
   "source": [
    "a = [1, 2, 3, 4, 5, 6]\n",
    "while a:\n",
    "    print(f'{a}에서 {a.pop(0)}을 꺼냅니다.')\n",
    "print('변수 a가 비어있습니다.')\n",
    "print('='*40)\n",
    "a = [1, 2, 3, 4, 5, 6]\n",
    "while a:\n",
    "    print(f'{a}에서 {a.pop()}을 꺼냅니다.')\n",
    "print('변수 a가 비어있습니다.')"
   ]
  },
  {
   "cell_type": "markdown",
   "id": "956737b5-6055-4365-b095-8cbfa142ef81",
   "metadata": {},
   "source": [
    "## 자료구조 - tuple"
   ]
  },
  {
   "cell_type": "markdown",
   "id": "3ca7e15c-ff54-4f1c-9732-21f45c0b6124",
   "metadata": {},
   "source": [
    "### 튜플 형식"
   ]
  },
  {
   "cell_type": "code",
   "execution_count": 84,
   "id": "50d5bdee-361f-4cd8-87b5-8463dc2c03fc",
   "metadata": {},
   "outputs": [
    {
     "name": "stdout",
     "output_type": "stream",
     "text": [
      "()\n",
      "(1, 2, 3)\n",
      "(1,)\n",
      "(1, 2, 3, 4)\n",
      "(1, 2, 3, ('a', 'b', 'c'), 5)\n",
      "(1, 3, [2, 4], 5)\n",
      "[2, 4]\n",
      "((1, 3, [2, 4], 5), <class 'tuple'>)/([2, 4], <class 'list'>)\n",
      "(1, 3, [2, 4], 5)\n",
      "(1, 3, [100, 200], 5)\n",
      "(1, 3, [], 5)\n"
     ]
    }
   ],
   "source": [
    "t1 = ()\n",
    "t2 = 1, 2, 3\n",
    "t3 = 1,\n",
    "t4 = (1, 2, 3, 4)\n",
    "t5 = 1, 2, 3, ('a', 'b', 'c'), 5\n",
    "t6 = 1, 3, [2, 4], 5\n",
    "print(t1)\n",
    "print(t2)\n",
    "print(t3)\n",
    "print(t4)\n",
    "print(t5)\n",
    "print(t6)\n",
    "print(t6[2])\n",
    "print(f'{t6, type(t6)}/{t6[2], type(t6[2])}')\n",
    "\n",
    "# 튜플 삭제 지원X\n",
    "#del t4[1]\n",
    "# 튜플 요소값 변경 지원X\n",
    "#t6[0] = 'a'\n",
    "\n",
    "# t6[2]: 튜플 내부의 리스트 (변경 가능)\n",
    "print(t6)\n",
    "t6[2][0] = 100\n",
    "t6[2][1] = 200\n",
    "print(t6)\n",
    "del t6[2][:]\n",
    "print(t6)"
   ]
  },
  {
   "attachments": {
    "79bf3cca-9b91-40aa-bd11-91900b38f635.png": {
     "image/png": "[encoded data removed]"
    }
   },
   "cell_type": "markdown",
   "id": "ce09497c-cc2b-49f3-a0db-b3c4a187e580",
   "metadata": {},
   "source": [
    "![image.png](attachment:79bf3cca-9b91-40aa-bd11-91900b38f635.png)"
   ]
  },
  {
   "cell_type": "markdown",
   "id": "ece8b177-3ae6-4301-bdc5-d422bb89dd0f",
   "metadata": {},
   "source": [
    "- 자바스크립트의 경우(by Copilot)\n",
    "```javascript\n",
    "const myArray = Object.freeze([1, 2, 3]);\n",
    "\n",
    "// 요소를 변경하려고 시도하면 오류는 발생하지 않지만, 변경되지 않습니다.\n",
    "myArray[0] = 10;\n",
    "console.log(myArray);  // 출력: [1, 2, 3]\n",
    "```"
   ]
  },
  {
   "cell_type": "code",
   "execution_count": 92,
   "id": "20ab25fe-91de-4146-b946-e4d79811188f",
   "metadata": {},
   "outputs": [
    {
     "name": "stdout",
     "output_type": "stream",
     "text": [
      "(1, 2, 3) (1, 2, 3) <class 'tuple'>\n",
      "(4, 5, 6) (4,) <class 'tuple'>\n",
      "(1, 2, 3)\n",
      "(1, 2, 3, 4, 5, 6)\n",
      "((1, 2, 3), (4, 5, 6))\n",
      "(1, 2, 3, 1, 2, 3, 1, 2, 3)\n",
      "[1, 2, 3, 6, 7, 8]\n",
      "(1, 2, 3, 6, 7, 8)\n",
      "t9: 6\n",
      "t10: 2\n",
      "t10[0]: 3\n",
      "t10[1]: 3\n"
     ]
    }
   ],
   "source": [
    "t7 = 1, 2, 3\n",
    "t8 = 4, 5, 6\n",
    "\n",
    "# 튜플 슬라이싱\n",
    "edit = t7[:]\n",
    "print(t7, edit, type(edit)) # (1, 2) <class 'tuple'>\n",
    "print(t8, t8[:1], type(t8[:1])) # (4,) <class 'tuple'>\n",
    "print(t7)\n",
    "# 튜플 합치기\n",
    "t9 = t7 + t8\n",
    "t10 = t7, t8\n",
    "print(t9) # (1, 2, 3, 4, 5, 6)\n",
    "print(t10) # ((1, 2, 3), (4, 5, 6))\n",
    "print(t7*3) # (1, 2, 3, 1, 2, 3, 1, 2, 3)\n",
    "\n",
    "# 튜플, 리스트 형변환\n",
    "t11 = [1, 2, 3]\n",
    "t12 = (6, 7, 8)\n",
    "t13 = t11 + list(t12) # cast to list\n",
    "t14 = tuple(t11) + t12 # cast to tuple\n",
    "print(t13) # [1, 2, 3, 6, 7, 8]\n",
    "print(t14) # (1, 2, 3, 6, 7, 8)\n",
    "\n",
    "# 튜플 길이(사이즈) 구하기\n",
    "print(f't9: {len(t9)}')\n",
    "print(f't10: {len(t10)}')\n",
    "print(f't10[0]: {len(t10[0])}')\n",
    "print(f't10[1]: {len(t10[1])}')"
   ]
  },
  {
   "cell_type": "markdown",
   "id": "dff59086-7a98-41c5-9d87-9264c5241b5b",
   "metadata": {},
   "source": [
    "## 자료구조 - dictionary !!"
   ]
  },
  {
   "cell_type": "markdown",
   "id": "ca4fe7b0-f6f9-4a97-88a5-bab6ae5f66c4",
   "metadata": {},
   "source": [
    "### 딕셔너리 형태"
   ]
  },
  {
   "cell_type": "code",
   "execution_count": null,
   "id": "40bc8d88-df0e-45f7-be58-881908930812",
   "metadata": {},
   "outputs": [],
   "source": [
    "dic1 = {}\n",
    "dic2 = {'name':'pey', 'phone':'010-1111-2222', 'birth':1118}\n",
    "a = {0:'yes', 1:'no', 2:'hello'}\n",
    "b = {'arr':[1, 2, 3, 4]}\n",
    "c = {'tup':(1, 2, 3, 4)}\n",
    "print(dic1, type(dic1))\n",
    "print(dic2, type(dic2))\n",
    "print(dic2['name'])\n",
    "#print(dic[:-1]) slice 지원x\n",
    "print(a[0])\n",
    "print(b['arr'], type(b['arr']))\n",
    "print(c['tup'], type(c['tup']))\n",
    "b['arr'] = 5, 6, 7, 8\n",
    "print(b['arr'], type(b['arr']))\n",
    "\n"
   ]
  },
  {
   "cell_type": "code",
   "execution_count": null,
   "id": "a432a287-9feb-4c77-afd9-fb15db25a44d",
   "metadata": {},
   "outputs": [],
   "source": [
    "# 딕셔너리 요소 추가 or 수정\n",
    "a = {0: 'a'}\n",
    "a[5] = 'b' # 추가\n",
    "a['one'] = 'good'\n",
    "a['one'] = 'bad' # 수정\n",
    "print(a)"
   ]
  },
  {
   "cell_type": "code",
   "execution_count": null,
   "id": "65e90c97-968c-486b-ad3a-2a885596ddd0",
   "metadata": {},
   "outputs": [],
   "source": [
    "dic = {}\n",
    "dir(dic)"
   ]
  },
  {
   "cell_type": "code",
   "execution_count": null,
   "id": "b0401d3e-431d-4eb5-9297-39d1d3e29b3a",
   "metadata": {},
   "outputs": [],
   "source": [
    "# 딕셔너리 요소 삭제\n",
    "a = {0: 'zero', 1:'one', 2:'two', 3:'three', 4:'four'}\n",
    "del a[0], a[3]\n",
    "print(a)\n",
    "del a\n",
    "# print(a) --undefined"
   ]
  },
  {
   "cell_type": "markdown",
   "id": "daf3792c-7897-4cd8-9a19-cb3c88425c32",
   "metadata": {},
   "source": [
    "### 딕셔너리 주의사항"
   ]
  },
  {
   "cell_type": "code",
   "execution_count": null,
   "id": "a7ca1884-c10e-4b27-917a-ae4d12e92c01",
   "metadata": {},
   "outputs": [],
   "source": [
    "'''키가 중복되지 말것'''\n",
    "a = {0: 'one', 0: 'zero', 1:'one'}\n",
    "print(a) # {0:'one'}값 누락\n",
    "'''키를 리스트, 딕셔너리 자료형으로 할지 말 것'''\n",
    "# a = {[1, 2, 3]:'arr'} --unhashable type 'list'\n",
    "# print(a)\n",
    "# a = {{0:'zero', 1:'one'}:'dic'} --unhashable type 'dict'\n",
    "# print(a)\n",
    "a = {(1, 2, 3):{'a':'one', 'b':'two', 'c':'three'}} # 튜플은 가능함(에러 X)\n",
    "print(a[(1, 2, 3)]['a'])"
   ]
  },
  {
   "cell_type": "markdown",
   "id": "ace1a40e-03b2-4b7c-baf1-629539cdf65e",
   "metadata": {},
   "source": [
    "### 딕셔너리 기타 기능"
   ]
  },
  {
   "cell_type": "code",
   "execution_count": null,
   "id": "c4da7d65-4a50-4b94-8e5d-2dd21020db92",
   "metadata": {},
   "outputs": [],
   "source": [
    "a = {'one':1, 'two':2, (1, 3, 5):'odd-num', 'info':{'age':77, 'address':'earth', 'nation':'Korea'}}\n",
    "print(type(a))\n",
    "\n",
    "# keys() 사용\n",
    "keys = a.keys()\n",
    "print(f'{keys} {type(keys)}\\n{list(keys)}\\n{tuple(keys)}')\n",
    "#print(keys.pop()) # 리스트의 append, insert, pop, remove, sort 등의 함수는 수행할 수 없다.\n",
    "\n",
    "# values() 사용\n",
    "values = a.values()\n",
    "print(values, type(values))\n",
    "\n",
    "items = a.items()\n",
    "print(items, type(items))\n",
    "print(dict(items), '\\n', list(items))\n",
    "\n",
    "# 딕셔너리 삭제 (이전에 요소가 있었다는 전제)\n",
    "a = {0:'zero', 1:'one'}\n",
    "a = {} # 요소만 비움\n",
    "print(a)\n",
    "b = {0:'zero', 1:'one'}\n",
    "b.clear() # 요소만 비우는 기능\n",
    "print(b)\n",
    "del b\n",
    "print(b) # 구조까지 삭제\n"
   ]
  },
  {
   "cell_type": "code",
   "execution_count": null,
   "id": "7be980e6-5178-4c68-9a94-c6e50f6e91de",
   "metadata": {},
   "outputs": [],
   "source": [
    "a = {'one':1, 'two':2, (1, 3, 5):'odd-num', 'info':{'age':77, 'address':'earth', 'nation':'Korea'}}\n",
    "# print(a['something']) # key가 없으면 에러\n",
    "print(a.get('something')) # key가 없으면 None 반환\n",
    "\n",
    "if not a.get('money'):\n",
    "    print('돈이 없습니다.')\n",
    "else:\n",
    "    print(f'돈이 {a.get('money')}원 있습니다.')"
   ]
  },
  {
   "cell_type": "code",
   "execution_count": null,
   "id": "7764a005-7b0c-4037-9893-21eafc4cd0c9",
   "metadata": {},
   "outputs": [],
   "source": [
    "a = {'one':1, 'two':2, (1, 3, 5):'odd-num', 'info':{'age':77, 'address':'earth', 'nation':'Korea'}}\n",
    "Key = input('탐색할 키 값을 입력하세요.')\n",
    "# print(a.get(Key, '업서요ㅜㅜ')) 해당 키가 없을 시 2번째 인자를 출력함\n",
    "\n",
    "# 예외 방지용 if문\n",
    "if Key not in a:\n",
    "    print('찾는 키가 없습니다.')\n",
    "else:\n",
    "    print(a[Key])\n"
   ]
  },
  {
   "cell_type": "markdown",
   "id": "ce1fadbf-9862-40e2-9dd7-2d8c2e6e2bdf",
   "metadata": {},
   "source": [
    "## 자료구조 - set(집합)"
   ]
  },
  {
   "cell_type": "markdown",
   "id": "360e035e-8c72-4801-b2c4-d37dcb6aa301",
   "metadata": {},
   "source": [
    "- set 자료형의 특징\n",
    "    1. **중복 허용 X**\n",
    "    2. **순서가 없다**(unordered)\n",
    "    3. 필터 가능\n",
    "    4. 리스트나 튜플로 사용하면 요소 접근 가능"
   ]
  },
  {
   "cell_type": "code",
   "execution_count": 101,
   "id": "be7218ed-904e-4845-bfbd-06546d80d33c",
   "metadata": {},
   "outputs": [
    {
     "name": "stdout",
     "output_type": "stream",
     "text": [
      "[0, 1, 0, 7, 6, 1, 3]\n",
      "{0, 1, 3, 6, 7}\n",
      "{'a', 2, 4, 5, 'b'}\n",
      "{'abcd'}\n",
      "{'o', 'e', 'h', 'l'}\n",
      "{'bye', 'good'}\n",
      "{'apple', ('kiwi', 'green'), 'banana'}\n"
     ]
    }
   ],
   "source": [
    "arr = [0, 1, 0, 7, 6, 1, 3]\n",
    "print(arr)\n",
    "s1 = set(arr)\n",
    "print(s1)\n",
    "s2 = {2, 4, 'a', 'b', 5}\n",
    "print(s2)\n",
    "s3 = {'abcd'}\n",
    "print(s3)\n",
    "s4 = set('hello')\n",
    "print(s4)\n",
    "s5 = set(['good', 'bye', 'good', 'bye'])\n",
    "print(s5)\n",
    "s6 = {'apple', 'banana', ('kiwi', 'green')}\n",
    "print(s6)"
   ]
  },
  {
   "cell_type": "markdown",
   "id": "560d819b-ae46-45f9-85db-639ee2feedf2",
   "metadata": {},
   "source": [
    "### 교집합, 합집합"
   ]
  },
  {
   "cell_type": "code",
   "execution_count": null,
   "id": "115eb682-e52f-4bfb-ad58-793f6ee65d0f",
   "metadata": {},
   "outputs": [],
   "source": [
    "s1 = set([1, 2, 3, 1, 4, 5, 1, 2, 6, 3])\n",
    "s2 = set([3, 4, 5, 6, 7, 3, 6, 5, 4, 3])\n",
    "s3 = {6, 7, 8, 9, 8, 9, 8, 6, 7}\n",
    "print(f's1:{s1}, s2:{s2}, s3:{s3}')\n",
    "s4 = s1 & s2\n",
    "s5 = s1 | s2\n",
    "print(f'교집합:{s4}, 합집합:{s5}')\n",
    "s6 = s1 - s2\n",
    "s7 = s2 - s1\n",
    "print(f'차집합:{s6}, {s7}')\n",
    "sa = {1, 3, 5}\n",
    "sb = {2, 4, 6}\n",
    "sc = sa & sb\n",
    "print(sc, len(sc))"
   ]
  },
  {
   "cell_type": "code",
   "execution_count": null,
   "id": "718660e8-1be0-4523-843d-afcb2be678f5",
   "metadata": {
    "scrolled": true
   },
   "outputs": [],
   "source": [
    "dir(set)"
   ]
  },
  {
   "cell_type": "code",
   "execution_count": null,
   "id": "520e3ae6-257e-4a1e-93e1-a8dcdbe937a5",
   "metadata": {},
   "outputs": [],
   "source": [
    "s1 = {1, 2, 3, 4}\n",
    "s2 = {2, 4, 5}\n",
    "# 차집합(difference) 함수\n",
    "s3 = s1.difference(s2)\n",
    "s4 = s2.difference(s1)\n",
    "print(s3, s4)\n",
    "s1.difference_update(s2) # type:None - 데이터 손실\n",
    "print(s1)\n",
    "# 교집합(intersection), 합집합(union) 함수\n",
    "s1 = {1, 2, 3, 4}\n",
    "s2 = {2, 4, 5}\n",
    "s5 = s1.intersection(s2)\n",
    "s6 = s1.union(s2)\n",
    "print(s5, s6)"
   ]
  },
  {
   "cell_type": "code",
   "execution_count": null,
   "id": "f383df59-5d99-438a-a454-506017dab632",
   "metadata": {},
   "outputs": [],
   "source": [
    "# 값 1개 추가하기 (단일값, 튜플)\n",
    "st1 = {1, 1, 2, 2, 3, 3}\n",
    "st1.add(4)\n",
    "st1.add((5, 6, 7))\n",
    "# 값 n개 추가 (iterable)\n",
    "st1.update([5, 6, 7]) # list\n",
    "st1.update((0, 3, 5)) # tuple\n",
    "st1.update({1, 4, 8}) # set\n",
    "#st1.update(3)\n",
    "print(st1)"
   ]
  },
  {
   "cell_type": "code",
   "execution_count": null,
   "id": "abbe8d0e-acb0-4cac-b73e-b398b8c04fb4",
   "metadata": {},
   "outputs": [],
   "source": [
    "st2 = {1, 2, 3, 4}\n",
    "st2.remove(1)\n",
    "print(st2)\n",
    "st2.remove(2)\n",
    "print(st2)\n",
    "rem = st2.remove(4)\n",
    "print(rem)"
   ]
  },
  {
   "cell_type": "markdown",
   "id": "c91279a5-e873-4de3-b089-98f840235ea5",
   "metadata": {},
   "source": [
    "## 불(조건값) 자료형"
   ]
  },
  {
   "cell_type": "code",
   "execution_count": null,
   "id": "5e1ae169-f5fe-4db2-a2d5-5fb8260876ff",
   "metadata": {},
   "outputs": [],
   "source": [
    "b1 = 1 == 1\n",
    "b2 = 1 < 0\n",
    "print(type(True))\n",
    "print(b1)\n",
    "print(b2)\n",
    "print('='*20)\n",
    "#true\n",
    "b3 = bool((1, 2, 3))\n",
    "b4 = bool([0])\n",
    "b5 = bool({'key': 'value'})\n",
    "b6 = bool({1, 2, 3, (4, 5, 6)})\n",
    "b11 = bool(bool)\n",
    "b12 = bool(type)\n",
    "\n",
    "#false\n",
    "b7 = bool(0)\n",
    "b8 = bool(None)\n",
    "b9 = bool()\n",
    "b10 = bool([])\n",
    "\n",
    "\n",
    "print(b3, b4, b5, b6, b11, b12)\n",
    "print(b7, b8, b9, b10)"
   ]
  },
  {
   "cell_type": "markdown",
   "id": "80f93fd5-6332-47a4-8d4a-da69e17bdec0",
   "metadata": {},
   "source": [
    "## 변수: 자료형의 값을 저장하는 공간"
   ]
  },
  {
   "cell_type": "code",
   "execution_count": 14,
   "id": "8502b7f6-601a-4f51-84bc-95ee40546661",
   "metadata": {},
   "outputs": [
    {
     "name": "stdout",
     "output_type": "stream",
     "text": [
      "3\n",
      "2\n",
      "a b\n",
      "c\n",
      "ell\n"
     ]
    }
   ],
   "source": [
    "o = 'hello'\n",
    "a = [1, 2, 3, 4, 5] # list (배열과 유사함 -- 인덱스가 굉장히 중요함)\n",
    "print(a[2])\n",
    "b = {1, 2, 3, 'a', 'b'} # set (집합 - 중복을 제거한다)\n",
    "# print(b[2])\n",
    "c = (1, 2, 3, 4) # tuple (튜플 -- 인덱스가 존재하나 중요한 것이 아니다)\n",
    "print(c[1])\n",
    "(x, y, z) = 'xyz'\n",
    "[x, y, z] = 'abc'\n",
    "print(x, y)\n",
    "print(z)\n",
    "\n",
    "print(o[1:-1])\n"
   ]
  },
  {
   "cell_type": "code",
   "execution_count": 16,
   "id": "e536eaa9-daac-4ce7-bec7-5fce4abba713",
   "metadata": {},
   "outputs": [
    {
     "name": "stdout",
     "output_type": "stream",
     "text": [
      "a: [1, 1000, 3, 4, 5]  id: 2248062002048\n",
      "b: [1, 1000, 3, 4, 5]  id: 2248062002048\n",
      "a is b: True\n",
      "a == b: True\n",
      "a: [1, 1000, 3, 4, 5] b: [1, 1000, 3, 4, 5] id: 2248062002048\n",
      "a is c: False\n",
      "a == c: True\n",
      "a: [1, 1000, 3, 4, 5] c: [1, 9999, 3, 4, 5] id: 2248073675648\n",
      "a == c: False\n"
     ]
    }
   ],
   "source": [
    "print('a:', a, ' id:', id(a))\n",
    "\n",
    "# 옅은 복사(id만 복사)\n",
    "b = a\n",
    "print('b:', b, ' id:', id(b))\n",
    "print(f'a is b: {a is b}') # 동일 변수인지(id값으로) 비교 (속도가 빠름)\n",
    "print(f'a == b: {a == b}') # 값만 비교\n",
    "b[1] = 1000\n",
    "print('a:', a, 'b:', b, 'id:', id(b))\n",
    "\n",
    "# 깊은 복사(요소까지 복사)\n",
    "c = a[:]\n",
    "print(f'a is c: {a is c}')\n",
    "print(f'a == c: {a == c}')\n",
    "c[1] = 9999\n",
    "print('a:', a, 'c:', c, 'id:', id(c))\n",
    "print(f'a == c: {a == c}')\n"
   ]
  },
  {
   "cell_type": "code",
   "execution_count": 17,
   "id": "cd66a023-104f-4fa2-91f9-83c979083d16",
   "metadata": {},
   "outputs": [
    {
     "name": "stdout",
     "output_type": "stream",
     "text": [
      "[1, 2, 3, 4, 5]\n",
      "False\n",
      "True\n"
     ]
    }
   ],
   "source": [
    "ar1 = [1, 2, 3, 4, 5]\n",
    "ar2 = ar1.copy()\n",
    "print(ar1)\n",
    "print(ar1 is ar2) # id가 다름: False\n",
    "print(ar1 == ar2) # 요소가 같음: True"
   ]
  },
  {
   "cell_type": "code",
   "execution_count": null,
   "id": "e04afcbd-8db7-464d-9f1c-6139df380e90",
   "metadata": {},
   "outputs": [],
   "source": [
    "# s1 = 'string'\n",
    "# s2 = s1.copy()\n",
    "# print(s2)\n",
    "\n",
    "# 외장 함수를 사용한 복사\n",
    "import copy\n",
    "\n",
    "a1 = [1, 2, 3]\n",
    "a2 = copy.copy(a1)\n",
    "print(a1 is a2, a1 == a2) # False True\n",
    "a2[1] = 9\n",
    "print('a1:', a1, a1 == a2) # False\n",
    "a3 = copy.deepcopy(a1)\n",
    "print(a1 is a3, a1 == a3) # False True\n",
    "\n",
    "print('='*40)\n",
    "s1 = 'string'\n",
    "s2 = copy.copy(s1)\n",
    "print('s2:', s2)\n",
    "print(s1 is s2, s1 == s2)\n",
    "\n",
    "s3 = 'string'\n",
    "print('s3:', s3)\n",
    "print(s1 is s3, s1 == s3)\n",
    "print(s1 is s2 is s3)\n",
    "print(s1 == s2 == s3)\n",
    "\n",
    "tt1 = (1, 2, 3, 4, 5)\n",
    "tt2 = tt1\n",
    "tt3 = copy.copy(tt1)\n",
    "\n",
    "print(tt1 is tt2 is tt3)\n",
    "print(tt1 == tt2 == tt3)\n",
    "tt4 = (1, 2, 3, 4, 5)\n",
    "print(tt3 is tt4)\n",
    "print(tt3 == tt4)"
   ]
  },
  {
   "cell_type": "markdown",
   "id": "ad8ae5c3-68f0-4d46-90ae-195a591e2e0e",
   "metadata": {},
   "source": [
    "### 변수를 사용하는 다양한 방법"
   ]
  },
  {
   "cell_type": "code",
   "execution_count": 21,
   "id": "d7889b1e-e64e-4dd3-9a27-0b3056594dc4",
   "metadata": {},
   "outputs": [
    {
     "name": "stdout",
     "output_type": "stream",
     "text": [
      "python\n",
      "life\n",
      "life\n",
      "short\n",
      "is\n",
      "python\n",
      "egg\n",
      "fried\n",
      "time\n",
      "set\n",
      "('python', 'life', 'time', 'set')\n",
      "====================\n",
      "f\n",
      "l\n",
      "y\n",
      "====================\n",
      "python\n",
      "life\n",
      "python\n",
      "life\n",
      "life\n",
      "python\n",
      "l i f e\n"
     ]
    }
   ],
   "source": [
    "# 변수를 튜플 형식으로 사용\n",
    "a1, a2 = 'python', 'life'\n",
    "a3, a4, a5, a6 = {'python', 'life', 'is', 'short'}\n",
    "a7, a8 = ('egg', 'fried')\n",
    "(a9, a10) = 'time', 'set'\n",
    "print(a1)\n",
    "print(a2)\n",
    "print(a3)\n",
    "print(a4)\n",
    "print(a5)\n",
    "print(a6)\n",
    "print(a7)\n",
    "print(a8)\n",
    "print(a9)\n",
    "print(a10)\n",
    "print( (a6, a3, a9, a10) )\n",
    "print('='*20)\n",
    "# 문자열 값을 튜플로 쪼갬(글자수 주의)\n",
    "a11, a12, a13 = 'fly'\n",
    "print(a11)\n",
    "print(a12)\n",
    "print(a13)\n",
    "#list\n",
    "print('='*20)\n",
    "[c1, d1] = ['python', 'life']\n",
    "print(c1)\n",
    "print(d1)\n",
    "[c1, d1] = ('python', 'life')\n",
    "print(c1)\n",
    "print(d1)\n",
    "[c1, d1] = {'python', 'life'}\n",
    "print(c1)\n",
    "print(d1)\n",
    "[c1, d1, e1, f1] = 'life'\n",
    "print(c1, d1, e1, f1)\n",
    "#set\n",
    "# {c1, d1} = ('python', 'life')"
   ]
  },
  {
   "cell_type": "code",
   "execution_count": 22,
   "id": "6badda23-1fd1-44b7-906c-6f6ea1a6a2cb",
   "metadata": {},
   "outputs": [
    {
     "name": "stdout",
     "output_type": "stream",
     "text": [
      "python python python python python\n",
      "123 가나다 abc\n",
      "abc 123 가나다\n"
     ]
    }
   ],
   "source": [
    "a = b = c = 한글 = eng = 'python' # 여러 변수에 값 저장\n",
    "print(a, b, c, 한글, eng)\n",
    "d = '123'\n",
    "e = '가나다'\n",
    "f = 'abc'\n",
    "print(d, e, f)\n",
    "d, e, f = f, d, e # 값 교환\n",
    "print(d, e, f)"
   ]
  },
  {
   "cell_type": "code",
   "execution_count": 23,
   "id": "5c620fe7-ba2c-4598-b630-de8163e0ad85",
   "metadata": {},
   "outputs": [
    {
     "name": "stdout",
     "output_type": "stream",
     "text": [
      "('f', 'l', 'y')\n",
      "['f', 'l', 'y']\n",
      "{'f', 'y', 'l'}\n"
     ]
    }
   ],
   "source": [
    "t = tuple('fly')\n",
    "u = list('fly')\n",
    "v = set('fly')\n",
    "print(t)\n",
    "print(u)\n",
    "print(v)"
   ]
  },
  {
   "cell_type": "code",
   "execution_count": null,
   "id": "1faa195a-d6c1-4b6a-91cd-8b8494301291",
   "metadata": {},
   "outputs": [],
   "source": [
    "b = 0 # 초기값\n",
    "while b < 10: # 입력값 제한\n",
    "    try:\n",
    "        b = int(input('최소 10원 이상의 금액을 입력하세요 > '))\n",
    "    except: # 입력 값이 숫자가 아닌 경우\n",
    "        print('[숫자로 입력해야 합니다.]')\n",
    "\n",
    "print(f'\\n입력하신 {b}원의 교환은')\n",
    "print('='*20) # 구분선\n",
    "t = 50000, 10000, 5000, 1000, 500, 100, 50, 10 # 가장 큰 신사임당 부터 각 단위 값으로 저장\n",
    "i, c = 0, 0 # 인덱스, 개수 카운트\n",
    "while i < len(t): # 튜플(t) 값을 하나씩 모두 순회\n",
    "    if b < t[i]: # 현재 단위보다 금액이 작은 경우\n",
    "        if c > 0: # 단위 지폐가 1장이라도 교환 가능할 경우\n",
    "            print(f'{t[i]}원 X {c}개') # 출력\n",
    "        i = i + 1 # 인덱스 + 1\n",
    "        c = 0 # 카운트 리셋\n",
    "        continue # while문 처음으로\n",
    "    b -= t[i] # 금액 차감\n",
    "    c = c + 1 # 개수 증가\n",
    "print('='*20) # 구분선\n",
    "print('입니다.')"
   ]
  },
  {
   "cell_type": "code",
   "execution_count": null,
   "id": "b82e4683-7251-4146-9669-268dc308bcc0",
   "metadata": {},
   "outputs": [],
   "source": [
    "# 다양한 타입 넣고 확인하기\n",
    "arr = 10, 'abc', {1, 2, 4}, (3, 5, 6), bool(''), list, list([0, 9])\n",
    "print(arr)\n",
    "for el in arr:\n",
    "    print(type(el))\n",
    "    if type(el) == set or type(el) == tuple or type(el) == list:\n",
    "       for en in el:\n",
    "           print(en)"
   ]
  },
  {
   "cell_type": "code",
   "execution_count": null,
   "id": "428ad7dc-9a23-489b-9f79-9bffa69b76a5",
   "metadata": {},
   "outputs": [],
   "source": [
    "a = 12 # 0b1100\n",
    "b = 7 # 0b0111\n",
    "bit1 = a & b #0b0100\n",
    "bit2 = a | b #0b1111\n",
    "bit3 = a ^ b #0b1011\n",
    "print(bit1, bit2, bit3)\n",
    "bit4 = a << 1\n",
    "bit5 = b >> 1\n",
    "print(bit4, bit5)\n",
    "bit6 = ~a\n",
    "print(bit6)"
   ]
  },
  {
   "cell_type": "code",
   "execution_count": 27,
   "id": "269f1fa0-6621-4e23-aff9-1fa7afef549a",
   "metadata": {},
   "outputs": [
    {
     "name": "stdout",
     "output_type": "stream",
     "text": [
      "<class 'dict_keys'> dict_values(['0'])\n"
     ]
    }
   ],
   "source": [
    "dic = {'k': '0'}\n",
    "print(type(dic.keys()), dic.values())"
   ]
  },
  {
   "cell_type": "code",
   "execution_count": null,
   "id": "24027a9b-4a28-48c3-b619-f9b3e213ebf5",
   "metadata": {},
   "outputs": [],
   "source": []
  }
 ],
 "metadata": {
  "kernelspec": {
   "display_name": "Python 3 (ipykernel)",
   "language": "python",
   "name": "python3"
  },
  "language_info": {
   "codemirror_mode": {
    "name": "ipython",
    "version": 3
   },
   "file_extension": ".py",
   "mimetype": "text/x-python",
   "name": "python",
   "nbconvert_exporter": "python",
   "pygments_lexer": "ipython3",
   "version": "3.13.0"
  }
 },
 "nbformat": 4,
 "nbformat_minor": 5
}
