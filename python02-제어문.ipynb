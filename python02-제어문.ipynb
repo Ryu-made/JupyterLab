{
 "cells": [
  {
   "cell_type": "code",
   "execution_count": null,
   "id": "108d86d1-86ff-4602-a246-72ec44adc4b0",
   "metadata": {},
   "outputs": [],
   "source": [
    "!dir"
   ]
  },
  {
   "cell_type": "code",
   "execution_count": null,
   "id": "259fe824-88ee-4fc9-ada6-9ad849d1bb74",
   "metadata": {
    "scrolled": true
   },
   "outputs": [],
   "source": [
    "!ipconfig"
   ]
  },
  {
   "cell_type": "code",
   "execution_count": null,
   "id": "6d6e6668-60c2-4a66-bc68-28fd8df4d31f",
   "metadata": {},
   "outputs": [],
   "source": [
    "!pip -V"
   ]
  },
  {
   "cell_type": "markdown",
   "id": "96bb94bd-2b79-4d92-93dc-8b63c45642c4",
   "metadata": {},
   "source": [
    "# 빅데이터 파이썬 02-제어문"
   ]
  },
  {
   "cell_type": "markdown",
   "id": "0f88c32f-d1a4-48cd-bba7-93b0ffc3653d",
   "metadata": {},
   "source": [
    "## if 문\n",
    "- 기존 언어의 구문: ``` if (조건) {실행} ```\n",
    "- 파이썬 구문: ``` if True: print('실행') ```"
   ]
  },
  {
   "cell_type": "code",
   "execution_count": null,
   "id": "28e7d7c1-2a89-43c3-b073-d5e91cdcebbb",
   "metadata": {},
   "outputs": [],
   "source": [
    "x, y = 'apple', 'melon'\n",
    "print(f'x={x}, y={y} 일 때,')\n",
    "print(f'x < y: {x<y}')\n",
    "print(f'x > y: {x>y}')"
   ]
  },
  {
   "cell_type": "markdown",
   "id": "dec15713-757a-4bb3-9b92-e068ae5d7b57",
   "metadata": {},
   "source": [
    "### 비교구문 6가지\n",
    "1. 크다\n",
    "2. 작다\n",
    "3. 크거나 같다\n",
    "4. 작거나 같다\n",
    "5. 같다\n",
    "6. 같지 않다"
   ]
  },
  {
   "cell_type": "code",
   "execution_count": null,
   "id": "92191291-66ab-472a-98af-18a749aa2e56",
   "metadata": {},
   "outputs": [],
   "source": [
    "x, y = input('x: '), input('y: ')\n",
    "print(f'\\nx={x}, y={y} 일 때,')\n",
    "print('='*10)\n",
    "print(f'x < y: {x<y}')\n",
    "print(f'x > y: {x>y}')\n",
    "print('-'*10)\n",
    "print(f'x <= y: {x<=y}')\n",
    "print(f'x >= y: {x>=y}')\n",
    "print('-'*10)\n",
    "print(f'x == y: {x==y}')\n",
    "print(f'x != y: {x!=y}')\n",
    "print('='*10)"
   ]
  },
  {
   "cell_type": "code",
   "execution_count": null,
   "id": "cd340794-35a3-48af-b603-658c113be8f0",
   "metadata": {},
   "outputs": [],
   "source": [
    "# 만약 5000원의 돈을 가지고 있으면 택시를 타고, 그렇지 않으면 걸어가라.\n",
    "money = input('주머니에 현금 얼마있어?')\n",
    "if money >= 'A' or money < '0':\n",
    "    print('장난치냐')\n",
    "elif int(money) >= 5000:\n",
    "    print('택시타자')\n",
    "else:\n",
    "    print('걸어가자')"
   ]
  },
  {
   "cell_type": "code",
   "execution_count": null,
   "id": "26caa133-87f9-49f2-9279-e77f6f9354a3",
   "metadata": {},
   "outputs": [],
   "source": [
    "# and or 연산법\n",
    "money = 2000\n",
    "card = True\n",
    "friend = True\n",
    "\n",
    "if ( money >= 30000 and friend) or not card: # and, or은 연산 속도 개선\n",
    "    print('택시타고 가자')\n",
    "else:\n",
    "    print('그냥 걸어가자ㅜ')"
   ]
  },
  {
   "cell_type": "code",
   "execution_count": 1,
   "id": "b3a11159-bddf-4991-b65e-70eee9c1ffad",
   "metadata": {},
   "outputs": [
    {
     "name": "stdout",
     "output_type": "stream",
     "text": [
      "============ list =============\n",
      "True\n",
      "False\n",
      "=========== string ============\n",
      "True\n",
      "False\n",
      "============ tuple ============\n",
      "True\n",
      "False\n",
      "============= set =============\n",
      "True\n",
      "False\n",
      "=========== nested ============\n",
      "True\n",
      "True\n",
      "========= dictionary ==========\n",
      "True\n",
      "False\n",
      "False\n"
     ]
    }
   ],
   "source": [
    "# in 연산법\n",
    "print('='*12, 'list', '='*13)\n",
    "print( 3 in [3, 4, 6, 7, 3, 2] ) # True\n",
    "print( 3 not in [3, 4, 6, 7, 3, 2] ) # False\n",
    "print('='*11, 'string', '='*12)\n",
    "print( 'a' in 'apple') # True\n",
    "print( 'a' in 'lemon') # False\n",
    "print('='*12, 'tuple', '='*12)\n",
    "print( 'a' in ('a', 'b', 'c', 'd') ) # True\n",
    "print( 'i' in ('a', 'b', 'c', 'd') ) # False\n",
    "print('='*13, 'set', '='*13)\n",
    "print( 1 in {1, 2, 3, 5} ) # True\n",
    "print( '1' in {1, 2, 3, 5} ) # False -- 자료형이 다르면 값이 다름\n",
    "print('='*11, 'nested', '='*12)\n",
    "print( (3, 4, 5) in [1, 2, (3, 4, 5), 6, 7] ) # True\n",
    "print( {'python' : 'life'} in ('java', 'c++', {'python' : 'life'} ) ) # True\n",
    "print('='*9, 'dictionary', '='*10)\n",
    "print( 'python' in {'java' : 'study', 'c++' : '몰루?!', 'python' : 'life'} ) # True\n",
    "print( 'c++' in {'java' : 'study', ('c++', 'c#', 'node.js') : '몰루?!', 'python' : 'life'} ) # False\n",
    "print( 'life' in {'java' : 'study', 'c++' : '몰루?!', 'python' : 'life'} ) # False"
   ]
  },
  {
   "cell_type": "markdown",
   "id": "d3492240-fb4b-4550-aac2-1b5379a6c8a2",
   "metadata": {},
   "source": [
    "### 조건부 표현식"
   ]
  },
  {
   "cell_type": "code",
   "execution_count": null,
   "id": "6c8baaad-85f8-4d1a-b18c-5b10494ef3b5",
   "metadata": {},
   "outputs": [],
   "source": [
    "# 입력\n",
    "score = int(input('점수를 입력하세요'))\n",
    "\n",
    "'''\n",
    "기존 조건문\n",
    "if score >= 60:\n",
    "    msg = '성공'\n",
    "else\n",
    "    msg = '실패'\n",
    "print(msg)\n",
    "'''\n",
    "\n",
    "# 삼항 연산\n",
    "msg = '합격' if score >= 60 else '보류' if score >= 40 else '불합격'\n",
    "print(msg)\n"
   ]
  },
  {
   "cell_type": "markdown",
   "id": "5d29cf87-0dc4-43c7-b17c-342db5824dd2",
   "metadata": {},
   "source": [
    "## while 문"
   ]
  },
  {
   "cell_type": "code",
   "execution_count": 3,
   "id": "c1beecc7-8edd-4d4b-8f73-f1957b1e39df",
   "metadata": {},
   "outputs": [
    {
     "name": "stdout",
     "output_type": "stream",
     "text": [
      "나무를 도끼로 찍습니다.\n",
      "====================\n",
      "2번 찍었습니다.\n",
      "4번 찍었습니다.\n",
      "6번 찍었습니다.\n",
      "8번 찍었습니다.\n",
      "10번 찍었습니다.\n",
      "==============================\n",
      "나무가 넘어갑니다.\n"
     ]
    }
   ],
   "source": [
    "hit = 0\n",
    "print('나무를 도끼로 찍습니다.')\n",
    "print('='*20)\n",
    "while hit < 10:\n",
    "    hit += 1\n",
    "    if hit % 2 != 0:\n",
    "        continue\n",
    "    print(f'{hit}번 찍었습니다.')\n",
    "print('='*30)\n",
    "print('나무가 넘어갑니다.')"
   ]
  },
  {
   "cell_type": "code",
   "execution_count": null,
   "id": "6592443f-7315-4101-a51a-21a3ffc03ad3",
   "metadata": {},
   "outputs": [],
   "source": [
    "prompt = '''\n",
    "1. Add\n",
    "2. Del\n",
    "3. List\n",
    "4. Quit\n",
    "\n",
    "Please put a number to select: '''\n",
    "number = 0\n",
    "while True:\n",
    "    try:\n",
    "        number = int(input(prompt))\n",
    "    except:\n",
    "        print('[다시 입력하세요.]')\n",
    "        continue\n",
    "    else:\n",
    "        if number > 4 or number < 1:\n",
    "            print('[선택하신 항목은 존재하지 않습니다.]')\n",
    "            continue\n",
    "        print(f'{number}번을 선택하셨습니다.')\n",
    "        if number == 4:\n",
    "            break\n",
    "\n",
    "print('\\n프로그램을 종료합니다.')\n",
    "    "
   ]
  },
  {
   "cell_type": "code",
   "execution_count": null,
   "id": "b904b5f2-a668-49d0-aa94-3c1260635cea",
   "metadata": {},
   "outputs": [],
   "source": [
    "# while+continue 구문\n",
    "a = 0\n",
    "while a < 10:\n",
    "    a += 1\n",
    "    if a % 2 < 1:\n",
    "        print('> !보여주기 시루?')\n",
    "        continue\n",
    "    print(f'> {a} 란 말이더~')"
   ]
  },
  {
   "cell_type": "markdown",
   "id": "d967fcb5-fe9c-44d1-82c5-39826bef0628",
   "metadata": {},
   "source": [
    "## for 문"
   ]
  },
  {
   "cell_type": "code",
   "execution_count": 8,
   "id": "4b317d94-4ed9-4881-bd67-6df9b8071114",
   "metadata": {},
   "outputs": [
    {
     "name": "stdout",
     "output_type": "stream",
     "text": [
      "1\n",
      "2\n",
      "2\n",
      "3\n",
      "4\n",
      "2\n",
      "3\n",
      "4\n",
      "5\n",
      "6\n",
      "=====\n",
      "1#2#2#3#4#2#3#4#5#6#\n",
      "=====\n",
      "l\n",
      "i\n",
      "f\n",
      "e\n",
      "=====\n",
      "google\n",
      "naver\n",
      "kakao\n",
      "=====\n",
      "<1 - 2> 1 X 2 = 2\n",
      "<3 - 4> 3 X 4 = 12\n",
      "<5 - 6> 5 X 6 = 30\n",
      "=====\n",
      "7\n",
      "13\n",
      "21\n",
      "=====\n",
      "apple 3\n",
      "banana 5\n",
      "kiwi 10\n"
     ]
    }
   ],
   "source": [
    "for i in [1, 2, 2, 3, 4, 2, 3, 4, 5, 6]:\n",
    "    print(i)\n",
    "print('='*5)\n",
    "\n",
    "for i in [1, 2, 2, 3, 4, 2, 3, 4, 5, 6]:\n",
    "    print(i, end='#')\n",
    "print()\n",
    "print('='*5)\n",
    "\n",
    "for i in 'life':\n",
    "    print(i)\n",
    "    \n",
    "print('='*5)\n",
    "\n",
    "for i in {'kakao', 'google', 'naver'}:\n",
    "    print(i)\n",
    "    \n",
    "print('='*5)\n",
    "\n",
    "mix = [(1, 2), (3, 4), (5, 6)]\n",
    "for f, r in mix:\n",
    "    print(f'<{f} - {r}>', f'{f} X {r} = {f*r}')\n",
    "print('='*5)\n",
    "\n",
    "triple = [(1, 2, 4), (1, 3, 9), (1, 4, 16)]\n",
    "for x, y, z in triple:\n",
    "    print(f'{x + y + z}')\n",
    "print('='*5)\n",
    "\n",
    "dic = {'apple':3, 'banana':5, 'kiwi':10}\n",
    "for x, y in dic.items():\n",
    "    print(x, y)"
   ]
  },
  {
   "cell_type": "markdown",
   "id": "ca5589e4-da45-444c-84f2-5338ed36b799",
   "metadata": {},
   "source": [
    "### for in zip 구문\n",
    "- 여러 리스트(배열)의 요소의 개수가 모두 같을 때 유용함\n",
    "- 다르면 최소 개수만 반환하고 나머지는 버림"
   ]
  },
  {
   "cell_type": "code",
   "execution_count": 11,
   "id": "e8ce6f67-6dce-4c07-8cf3-272cf027d60c",
   "metadata": {},
   "outputs": [
    {
     "name": "stdout",
     "output_type": "stream",
     "text": [
      "1+9=10 : 11\n",
      "2+8=10 : 22\n",
      "3+7=10 : 33\n",
      "4+6=10 : 44\n",
      "5+5=10 : 55\n",
      "6+4=10 : 66\n",
      "7+3=10 : 77\n",
      "8+2=10 : 88\n",
      "9+1=10 : 99\n"
     ]
    }
   ],
   "source": [
    "# for in zip 구문 ()\n",
    "a = [1, 2, 3, 4, 5, 6, 7, 8, 9]\n",
    "b = [11, 22, 33, 44, 55, 66, 77, 88, 99]\n",
    "c = [9, 8, 7, 6, 5, 4, 3, 2, 1]\n",
    "for i, j, k in zip(a, b, c):\n",
    "    print(f'{i}+{k}={i+k} : {j}')\n"
   ]
  },
  {
   "cell_type": "code",
   "execution_count": null,
   "id": "516c10b8-5d0e-4979-811e-72441843a0b7",
   "metadata": {},
   "outputs": [],
   "source": [
    "print('==1번 문제==')\n",
    "marks = [90, 58, 77, 24, 66, 78]\n",
    "for mark in marks:\n",
    "    console = f'{marks.index(mark)+1}번 학생은 {mark}점으로 '\n",
    "    if mark >= 60:\n",
    "        console += '합격입니다.'\n",
    "    else:\n",
    "        console += '불합격입니다.'\n",
    "    print(console)\n",
    "\n",
    "print()\n",
    "print('==2번 문제==')\n",
    "for mark in marks:\n",
    "    if mark >= 60:\n",
    "        print(f'{marks.index(mark)+1}번 학생 합격 축하합니다.')"
   ]
  },
  {
   "cell_type": "markdown",
   "id": "d2060fc3-0b97-40d9-a1a0-d5f60a9145c0",
   "metadata": {},
   "source": [
    "### range() 함수"
   ]
  },
  {
   "cell_type": "code",
   "execution_count": 12,
   "id": "58284b03-ba37-4274-afc5-bb138b6e526d",
   "metadata": {},
   "outputs": [
    {
     "name": "stdout",
     "output_type": "stream",
     "text": [
      "range(5, 10) range(0, 12)\n",
      "[5, 6, 7, 8, 9] [0, 1, 2, 3, 4, 5, 6, 7, 8, 9, 10, 11]\n",
      "(5, 6, 7, 8, 9) {5, 6, 7, 8, 9}\n"
     ]
    }
   ],
   "source": [
    "a = range(5, 10) # 5~9\n",
    "b = range(12) # 0~12\n",
    "print(a, b)\n",
    "# casting(자료형 변환)\n",
    "print(list(a), list(b))\n",
    "print(tuple(a), set(a))"
   ]
  },
  {
   "cell_type": "code",
   "execution_count": 13,
   "id": "4783a012-f9ea-4821-ade6-3a2314e2517d",
   "metadata": {},
   "outputs": [
    {
     "name": "stdout",
     "output_type": "stream",
     "text": [
      "[0, 1, 2, 3, 4, 5, 6, 7, 8, 9], [0, 1, 2, 3, 4, 5, 6, 7, 8, 9]\n",
      "False, True\n",
      "(4, 6, 8, 10, 12, 14)\n",
      "(10, 8, 6, 4, 2)\n"
     ]
    }
   ],
   "source": [
    "# range 타입 응용\n",
    "a = range(0, 10, 1) # 0~9(+1)\n",
    "b = range(10)\n",
    "print(f'{list(a)}, {list(b)}')\n",
    "print(f'{a is b}, {a == b}')\n",
    "c = range(4, 16, 2) # 4~15(+2)\n",
    "print(tuple(c))\n",
    "d = range(10, 0, -2)\n",
    "print(tuple(d))"
   ]
  },
  {
   "cell_type": "markdown",
   "id": "8cc188e0-e616-4562-9128-6a0438879552",
   "metadata": {},
   "source": [
    "### enumerate() 함수"
   ]
  },
  {
   "cell_type": "code",
   "execution_count": 14,
   "id": "f69377de-0baa-4534-8cf0-ba4fe7011944",
   "metadata": {},
   "outputs": [
    {
     "name": "stdout",
     "output_type": "stream",
     "text": [
      "[10, 12, 14, 16, 18, 20, 22, 24, 26, 28, 30, 32, 34, 36, 38]\n",
      "================================================================================\n",
      "1 : 10 / 2 : 12 / 3 : 14 / 4 : 16 / 5 : 18 / 6 : 20 / 7 : 22 / 8 : 24 / 9 : 26 / 10 : 28 / 11 : 30 / 12 : 32 / 13 : 34 / 14 : 36 / 15 : 38 / \n",
      "================================================================================\n",
      "1 : 10 / 2 : 12 / 3 : 14 / 4 : 16 / 5 : 18 / 6 : 20 / 7 : 22 / 8 : 24 / 9 : 26 / 10 : 28 / 11 : 30 / 12 : 32 / 13 : 34 / 14 : 36 / 15 : 38 / "
     ]
    }
   ],
   "source": [
    "# tips: 배열에서 index, value 구하기\n",
    "nums = list(range(10, 40, 2))\n",
    "print(nums)\n",
    "\n",
    "start = 1\n",
    "#기존 방식\n",
    "print('='*80)\n",
    "for num in nums:\n",
    "    print(f'{nums.index(num)+start} : {num}', end=' / ')\n",
    "print()\n",
    "# enumerate() 적용 - 결과 동일\n",
    "print('='*80)\n",
    "for i, num in enumerate(nums, start):\n",
    "    print(f'{i} : {num}', end=' / ')"
   ]
  },
  {
   "cell_type": "markdown",
   "id": "8752df93-6cee-4a9e-bdd0-fd40aaf7f1f4",
   "metadata": {},
   "source": [
    "### 예제 - 구구단"
   ]
  },
  {
   "cell_type": "code",
   "execution_count": null,
   "id": "46b945e9-10a3-4fee-8ff8-b3732e3c404a",
   "metadata": {},
   "outputs": [],
   "source": [
    "# 구구단\n",
    "print('[구구단]')\n",
    "row = range(2, 10) \n",
    "col = range(1, 10)\n",
    "for x in row:\n",
    "    print('\\n' + f'{f'{x}단':=^10}')\n",
    "    for y in col:\n",
    "        print(f'{x} X {y} = {x*y}')"
   ]
  },
  {
   "cell_type": "markdown",
   "id": "d1cea7a9-4afe-4ac9-b9d0-d1ab6a8d71a6",
   "metadata": {},
   "source": [
    "### 리스트 컴프리헨션(고급)"
   ]
  },
  {
   "cell_type": "code",
   "execution_count": 15,
   "id": "9d5e10b4-81b0-4eb9-9c82-ec8faaa02acb",
   "metadata": {},
   "outputs": [
    {
     "name": "stdout",
     "output_type": "stream",
     "text": [
      "(2, 4, 6, 8, 10, 12, 14, 16, 18)\n",
      "(1.4142135623730951, 2.0, 2.449489742783178, 2.8284271247461903)\n",
      "(1, 1.189207115002721, 9, 1.4142135623730951, 25, 1.5650845800732873, 49, 1.681792830507429, 81)\n"
     ]
    }
   ],
   "source": [
    "a = [1, 2, 3, 4, 5, 6, 7, 8, 9]\n",
    "result = [num*2 for num in a]\n",
    "print(tuple(result)) # 리스트 요소 전체를 연산 결과로 반환\n",
    "result2 = [num**0.5 for num in a if num%2 == 0]\n",
    "print(tuple(result2)) # 조건에 맞는 요소만 연산 결과로 반환\n",
    "result3 = [num**0.25 if num%2 == 0 else num**2 for num in a]\n",
    "print(tuple(result3)) # 조건 성립과 미성립 요소를 구분해서 다른 연산 결과로 반환"
   ]
  },
  {
   "cell_type": "code",
   "execution_count": 253,
   "id": "28850fba-0492-4b9c-9958-ce214ce3ae54",
   "metadata": {},
   "outputs": [
    {
     "name": "stdout",
     "output_type": "stream",
     "text": [
      "파이썬에서 소수점 아래로 최대 16자리까지 나타낼 수 있습니다.\n",
      "정수는 자릿수 제한이 없습니다.\n"
     ]
    }
   ],
   "source": [
    "print(f'파이썬에서 소수점 아래로 최대 {len(str(2**0.5))-2}자리까지 나타낼 수 있습니다.')\n",
    "print('정수는 자릿수 제한이 없습니다.')"
   ]
  },
  {
   "cell_type": "markdown",
   "id": "6098c7c9-a405-4bca-bbaa-96ebc19a24d5",
   "metadata": {},
   "source": [
    "## 딕셔너리로 switch 구현"
   ]
  },
  {
   "cell_type": "code",
   "execution_count": null,
   "id": "d973ce14-7670-45f6-9716-1bad280d8982",
   "metadata": {},
   "outputs": [],
   "source": [
    "def fun(key): # 함수 선언\n",
    "    switcher = { # 딕셔너리\n",
    "        1: \"One\",\n",
    "        2: \"Two\",\n",
    "        3: \"Three\"\n",
    "    }\n",
    "    return switcher.get(key, \"Other\") # get() 사용\n",
    "\n",
    "print(fun(2)) # \"Two\"\n",
    "print(fun(6)) # \"Other\"\n",
    "print(type(fun)) # class 'function'"
   ]
  },
  {
   "cell_type": "code",
   "execution_count": 16,
   "id": "f014a1e3-c531-49b2-b853-35772a3c9d36",
   "metadata": {},
   "outputs": [
    {
     "name": "stdout",
     "output_type": "stream",
     "text": [
      "34\n",
      "4\n",
      "1\n",
      "0\n",
      "21\n",
      "15\n",
      "10\n",
      "25\n"
     ]
    }
   ],
   "source": [
    "# max(): 최대값\n",
    "print(max(1, 2, 3, 4, 0b101, 0x12, 0o42)) # general numbers\n",
    "print(max([1, 2, 3, 4])) # list\n",
    "# min(): 최소값\n",
    "print(min(1, 2, 3)) # general\n",
    "print(min((1, 3, 5, 0, 6))) # tuple\n",
    "# sum(): 합계 - only iterables(요소 포함 구조)\n",
    "# print(sum(1, 2, 3, 4, 5)) - error\n",
    "print(sum([1, 2, 3, 4, 5, 1, 2, 3])) # sum(list)\n",
    "print(sum({1, 2, 4, 5, 2, 1, 3})) # sum(set) - distinct numbers\n",
    "print(sum({1:'a', 4:'b', 5:'c'})) # sum(dict) - key numbers\n",
    "print(sum(range(1, 10, 2))) # sum(range)"
   ]
  },
  {
   "cell_type": "code",
   "execution_count": null,
   "id": "335a8b55-bdf8-4a91-ac66-d2212ddf9ed8",
   "metadata": {},
   "outputs": [],
   "source": []
  }
 ],
 "metadata": {
  "kernelspec": {
   "display_name": "Python 3 (ipykernel)",
   "language": "python",
   "name": "python3"
  },
  "language_info": {
   "codemirror_mode": {
    "name": "ipython",
    "version": 3
   },
   "file_extension": ".py",
   "mimetype": "text/x-python",
   "name": "python",
   "nbconvert_exporter": "python",
   "pygments_lexer": "ipython3",
   "version": "3.13.0"
  }
 },
 "nbformat": 4,
 "nbformat_minor": 5
}
