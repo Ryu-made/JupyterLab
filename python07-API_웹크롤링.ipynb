{
 "cells": [
  {
   "cell_type": "markdown",
   "id": "b3c50930-a1ad-437e-83b0-0884fa67314d",
   "metadata": {},
   "source": [
    "# API 및 크롤링"
   ]
  },
  {
   "cell_type": "markdown",
   "id": "98b10695-fb93-46a2-964c-ebaad211245b",
   "metadata": {},
   "source": [
    "## 환율정보"
   ]
  },
  {
   "cell_type": "code",
   "execution_count": null,
   "id": "3352b34d-c097-48fb-8384-3961bdccd490",
   "metadata": {},
   "outputs": [],
   "source": [
    "import requests as req\n",
    "from tqdm import tqdm\n",
    "import time"
   ]
  },
  {
   "cell_type": "code",
   "execution_count": null,
   "id": "cecba6cf-1571-46a4-8dc6-9ad2fd97d8b7",
   "metadata": {
    "jupyter": {
     "source_hidden": true
    }
   },
   "outputs": [],
   "source": [
    "# url = 'https://www.koreaexim.go.kr/site/program/financial/exchangeJSON?authkey=8eOK4WcFolW1hpSC3eJFFF6kwtZM3iRX&data=AP01'\n",
    "# data = req.get(url).json()\n",
    "# for v in data:\n",
    "#     print(v)"
   ]
  },
  {
   "cell_type": "code",
   "execution_count": null,
   "id": "c2fc6fee-f312-4af4-921f-481bb006c53d",
   "metadata": {
    "jupyter": {
     "source_hidden": true
    }
   },
   "outputs": [],
   "source": [
    "# print(data[-1])"
   ]
  },
  {
   "cell_type": "code",
   "execution_count": null,
   "id": "1f67ce8d-296c-4f06-a53e-cdc8b49c5717",
   "metadata": {
    "jupyter": {
     "source_hidden": true
    }
   },
   "outputs": [],
   "source": [
    "# usd = data[-1]; \n",
    "# print(f'{usd['cur_nm']}의 환율은 {usd['deal_bas_r']} 입니다.')    "
   ]
  },
  {
   "cell_type": "code",
   "execution_count": null,
   "id": "c941b16b-ed56-4112-a30a-44da7abdcd8c",
   "metadata": {
    "jupyter": {
     "source_hidden": true
    }
   },
   "outputs": [],
   "source": [
    "# for v in tqdm(data):\n",
    "#     if v['deal_bas_r'] == '1':\n",
    "#         continue\n",
    "#     print(f'{v['cur_nm']}의 환율은 {v['deal_bas_r']} 입니다.')\n",
    "#     time.sleep(0.2) # 테스트용 지연"
   ]
  },
  {
   "cell_type": "markdown",
   "id": "5db5cbcc-8762-4b6c-af7f-7075e138b08c",
   "metadata": {},
   "source": [
    "## 비트코인정보"
   ]
  },
  {
   "cell_type": "code",
   "execution_count": null,
   "id": "9b5aa689-5d19-47b4-831c-52ca31625b0c",
   "metadata": {
    "jupyter": {
     "source_hidden": true
    }
   },
   "outputs": [],
   "source": [
    "\n",
    "url = \"https://api.bithumb.com/v1/ticker\"\n",
    "\n",
    "headers = {\"accept\": \"application/json\"}\n",
    "\n",
    "resp = req.get(url, headers=headers)\n",
    "\n",
    "print(resp.text)"
   ]
  },
  {
   "cell_type": "code",
   "execution_count": null,
   "id": "1de085e3-98cd-4c7c-a934-7457014e035b",
   "metadata": {
    "jupyter": {
     "source_hidden": true
    }
   },
   "outputs": [],
   "source": [
    "import requests as req\n",
    "url = 'https://api.bithumb.com/public/ticker/ALL_KRW'\n",
    "data = req.get(url).json()\n",
    "btc = data['data']['BTC']\n",
    "btc"
   ]
  },
  {
   "cell_type": "code",
   "execution_count": null,
   "id": "155e6867-b6fe-409d-82ef-0ec67194edf4",
   "metadata": {
    "jupyter": {
     "source_hidden": true
    }
   },
   "outputs": [],
   "source": [
    "maxpr = float(btc['max_price']) # 최대가\n",
    "minpr = float(btc['min_price']) # 최대가\n",
    "openpr = float(btc['opening_price']) #시작가\n",
    "bandpr = maxpr - minpr #변화폭\n",
    "prs = {\n",
    "    '최대가' : maxpr, \n",
    "    '최소가' : minpr, \n",
    "    '시작가' : openpr, \n",
    "    '변화폭' : bandpr\n",
    "}\n",
    "print(prs)\n",
    "#if openpr + bandpr > maxpr:\n",
    "print(f'BTC는 {'상승' if openpr + bandpr > maxpr else '하락'}장이다.')"
   ]
  },
  {
   "cell_type": "markdown",
   "id": "67370a2e-9f7c-4dec-8b62-9e3016b6eeee",
   "metadata": {},
   "source": [
    "## 미세먼지 정보"
   ]
  },
  {
   "cell_type": "code",
   "execution_count": null,
   "id": "e62c80dc-c273-42cd-baa0-3c961033d051",
   "metadata": {},
   "outputs": [],
   "source": [
    "#!pip install --upgrade pip"
   ]
  },
  {
   "cell_type": "code",
   "execution_count": null,
   "id": "e90819cd-3c08-4197-933f-8e8628399f00",
   "metadata": {},
   "outputs": [],
   "source": [
    "#!pip install python-dotenv"
   ]
  },
  {
   "cell_type": "code",
   "execution_count": null,
   "id": "eb3be881-278e-48b4-99e4-daf9741b0f7d",
   "metadata": {
    "jupyter": {
     "source_hidden": true
    }
   },
   "outputs": [],
   "source": [
    "import requests as req\n",
    "from dotenv import load_dotenv\n",
    "import os"
   ]
  },
  {
   "cell_type": "code",
   "execution_count": null,
   "id": "139af3ab-5f84-4691-bf27-8cc04505f75a",
   "metadata": {},
   "outputs": [],
   "source": [
    "#url = 'http://apis.data.go.kr/6260000/AirQualityInfoService/getAirQualityInfoClassifiedByStation?resultType=json&serviceKey=GrzE6lSahh65qTdF%2B5ZL3L0oerDRfmClMgea66%2FeT7QNhsIONhnPjLNcaajESy4n24MAVUXwMYKac%2BykzIO6SA%3D%3D&pageNo=1&numOfRows='"
   ]
  },
  {
   "cell_type": "code",
   "execution_count": null,
   "id": "d0a56189-8c60-4d64-8ef5-dfdea120d36f",
   "metadata": {
    "jupyter": {
     "source_hidden": true
    }
   },
   "outputs": [],
   "source": [
    "load_dotenv(dotenv_path='.pt')\n",
    "\n",
    "key_ori = os.getenv('SER_KEY')\n",
    "key = req.utils.unquote(key_ori)\n",
    "print(key)"
   ]
  },
  {
   "cell_type": "code",
   "execution_count": null,
   "id": "4e873eaa-7347-473d-aaed-7a2be129df03",
   "metadata": {
    "jupyter": {
     "source_hidden": true
    },
    "scrolled": true
   },
   "outputs": [],
   "source": [
    "url = 'http://apis.data.go.kr/6260000/AirQualityInfoService/getAirQualityInfoClassifiedByStation'\n",
    "prms = {\n",
    "    'serviceKey' : key,\n",
    "    'pageNo' : '1',\n",
    "    'numOfRows' : 800,\n",
    "    'resultType' : 'json'\n",
    "}\n",
    "resp = req.get(url=url, params=prms).json()\n",
    "print(resp)"
   ]
  },
  {
   "cell_type": "code",
   "execution_count": null,
   "id": "4d76aec6-8c95-490e-a2d7-fb8ef6feeea7",
   "metadata": {
    "jupyter": {
     "source_hidden": true
    }
   },
   "outputs": [],
   "source": [
    "data = resp['response']['body']['items']['item']\n",
    "# data"
   ]
  },
  {
   "cell_type": "code",
   "execution_count": null,
   "id": "5bd19839-2797-4f0d-b263-fe8665ba7d30",
   "metadata": {
    "jupyter": {
     "source_hidden": true
    }
   },
   "outputs": [],
   "source": [
    "inp = input('측정 지역 입력:') or '연산동'\n",
    "for v in data:\n",
    "    if(v['site'] == inp):\n",
    "        print(f'\\n<<{v['controlnumber']}>>\\n{v['site']} 대기질 측정\\n미세먼지:{v['pm10']}\\n초미세먼지:{v['pm25']}\\n{'='*25}\\n')\n",
    "\n"
   ]
  },
  {
   "cell_type": "markdown",
   "id": "51dca229-2492-4b2c-8dd3-b7d08984cf76",
   "metadata": {},
   "source": [
    "# 네이버 검색 API"
   ]
  },
  {
   "cell_type": "markdown",
   "id": "56982b95-1b6f-4e8d-9d7b-52c57c2cd014",
   "metadata": {},
   "source": [
    "## 뉴스"
   ]
  },
  {
   "cell_type": "code",
   "execution_count": null,
   "id": "c2d5e1ce-095b-4640-8c7f-a0d4e9870da8",
   "metadata": {},
   "outputs": [],
   "source": [
    "import os\n",
    "import sys\n",
    "import json\n",
    "import urllib.request\n",
    "from dotenv import load_dotenv"
   ]
  },
  {
   "cell_type": "code",
   "execution_count": null,
   "id": "01f806bf-b451-4aea-a33a-0f47c37b7f18",
   "metadata": {},
   "outputs": [],
   "source": [
    "load_dotenv(dotenv_path='.pt')\n",
    "\n",
    "client_id = os.getenv('CLIENT_ID')\n",
    "# id_ = req.utils.unquote(client_id)\n",
    "client_secret = os.getenv('CLIENT_SECRET')\n",
    "# sec_ = req.utils.unquote(client_secret)\n",
    "\n",
    "encText = urllib.parse.quote(input('검색어 입력'))\n",
    "url = \"https://openapi.naver.com/v1/search/news?query=\" + encText # JSON 결과\n",
    "# url = \"https://openapi.naver.com/v1/search/blog.xml?query=\" + encText # XML 결과\n",
    "request = urllib.request.Request(url)\n",
    "request.add_header(\"X-Naver-Client-Id\", client_id)\n",
    "request.add_header(\"X-Naver-Client-Secret\", client_secret)\n",
    "response = urllib.request.urlopen(request)\n",
    "rescode = response.getcode()\n",
    "if(rescode==200):\n",
    "    response_body = response.read()\n",
    "    data = json.loads(response_body.decode('utf-8'))['items']\n",
    "    for e in data:\n",
    "        print('='*115)\n",
    "        print(f'제목: {e['title']}\\n링크: {e['link']}\\n내용: {e['description']}\\n')\n",
    "else:\n",
    "    print(\"Error Code:\" + rescode)"
   ]
  },
  {
   "cell_type": "markdown",
   "id": "5e900550-5e51-49c8-a3e2-02518f223d57",
   "metadata": {},
   "source": [
    "# 크롤링 "
   ]
  },
  {
   "cell_type": "markdown",
   "id": "f9f437ed-54e8-49fc-b978-48027d6d2db6",
   "metadata": {},
   "source": [
    "## 네이버 주식"
   ]
  },
  {
   "cell_type": "code",
   "execution_count": null,
   "id": "bfedeec0-e62a-4cf7-b44d-f6849f82e54e",
   "metadata": {
    "jupyter": {
     "source_hidden": true
    }
   },
   "outputs": [],
   "source": [
    "import requests as req\n",
    "from bs4 import BeautifulSoup as bs"
   ]
  },
  {
   "cell_type": "code",
   "execution_count": null,
   "id": "cb3d8496-310f-414c-b8ae-d96737d46152",
   "metadata": {
    "jupyter": {
     "source_hidden": true
    }
   },
   "outputs": [],
   "source": [
    "url = 'https://finance.naver.com/sise/sise_market_sum.naver'\n",
    "webpage = req.get(url)\n",
    "\n",
    "# 순수 html 방식\n",
    "# html = webpage.text\n",
    "# print(html.find('body'))\n",
    "# print(html[html.find('body'):(html.find('/html>')-1)])\n",
    "\n",
    "# soup(bs) 사용\n",
    "soup = bs(webpage.content, 'html.parser')\n",
    "\n",
    "# contents = soup.find_all(class_='type_2')\n",
    "# contents = soup.find_all(class_='tltle')\n",
    "# for c in contents:\n",
    "#     print(c.text)\n",
    "# print(contents)\n",
    "\n",
    "tbl = soup.find('table', class_='type_2')\n",
    "tbdy = tbl.find('tbody')\n",
    "rows = tbdy.find_all('tr')\n",
    "print('#'*20)\n",
    "for row in rows:\n",
    "    if (row.find('a')):\n",
    "        no = row.find(class_='no').text\n",
    "        ttl = row.find('a', class_='tltle').text\n",
    "        rowData = row.find_all(class_='number')\n",
    "        curr = rowData[0].text\n",
    "        inca = rowData[1].text.strip()\n",
    "        fnm = inca.rfind('\\t')+1\n",
    "        inc = ('▲' if inca[:2] == '상승' else ('▼' if inca[:2] == '하락' else '＝')) + inca[3 if not fnm else fnm:]\n",
    "        per = rowData[2].text.strip()\n",
    "        \n",
    "        print(f'No: {no}\\n종목: {ttl}\\n현재가: {curr}\\n전일비: {inc}\\n등락률: {per}\\n액면가: {rowData[3].text}\\n시가총액: {rowData[4].text}\\n상장주식수: {rowData[5].text}\\n외국인비율: {rowData[6].text}\\n거래량: {rowData[7].text}\\nPER: {rowData[8].text}\\nROE: {rowData[9].text}\\n' + '#'*20)\n",
    "        "
   ]
  },
  {
   "cell_type": "markdown",
   "id": "3d580756-e360-4c60-8064-67fe38a54792",
   "metadata": {},
   "source": [
    "## 멜론 차트"
   ]
  },
  {
   "cell_type": "code",
   "execution_count": null,
   "id": "7a32fded-5ffe-4eaf-acdf-daa370114609",
   "metadata": {
    "jupyter": {
     "source_hidden": true
    }
   },
   "outputs": [],
   "source": [
    "import requests as req\n",
    "from bs4 import BeautifulSoup as bs"
   ]
  },
  {
   "cell_type": "code",
   "execution_count": null,
   "id": "018e291f-dcd9-47c5-bb13-ce7ba15976e0",
   "metadata": {
    "jupyter": {
     "source_hidden": true
    }
   },
   "outputs": [],
   "source": [
    "url = 'https://www.melon.com/chart/index.htm'\n",
    "headers = {\n",
    "    'user-agent' : 'Mozilla/5.0 (Windows NT 10.0; Win64; x64; rv:133.0) Gecko/20100101 Firefox/133.0'\n",
    "}\n",
    "web = req.get(url, headers=headers)\n",
    "# print(web)\n",
    "soup = bs(web.content, 'html.parser')\n",
    "# soup\n",
    "# print(soup)\n",
    "\n",
    "curdatetime = soup.select_one('.calendar_prid')\n",
    "curdate = curdatetime.select_one('.year').text\n",
    "curtime = curdatetime.select_one('.hour').text\n",
    "\n",
    "print(f'측정 시각: {curdate} {curtime}')\n",
    "print('\\n\\n' + '*'*100)\n",
    "\n",
    "tbdy = soup.select_one('.type02 table tbody')\n",
    "# print(tbdy)\n",
    "# rank = tbdy.select('.rank')\n",
    "# for a in rank:\n",
    "#     print(a.text)\n",
    "# print(rank)\n",
    "for tr in tbdy.select('tr'):\n",
    "    rank = tr.select_one('.rank').text # [1].text.strip()\n",
    "    title = tr.select_one('.rank01 a').text.strip()\n",
    "    artists = tr.select_one('.rank02 .checkEllipsis').text.strip()\n",
    "    album = tr.select_one('.rank03').text.strip()\n",
    "    like = tr.select_one('.like > .cnt').text[4:].strip()\n",
    "    print(f'{rank} : {title} | {artists} <{album}> ♡{'like'}')\n"
   ]
  },
  {
   "cell_type": "markdown",
   "id": "083a74c2-c5f1-44b8-9ae0-bf7b0433de1f",
   "metadata": {},
   "source": [
    "## 부산대 학식"
   ]
  },
  {
   "cell_type": "code",
   "execution_count": null,
   "id": "573ceae3-efc6-42e1-8ca5-812de28fa2ba",
   "metadata": {},
   "outputs": [],
   "source": [
    "# !pip install html5lib"
   ]
  },
  {
   "cell_type": "code",
   "execution_count": null,
   "id": "b27cd65c-6113-43a6-b7a8-8939aa38553f",
   "metadata": {
    "jupyter": {
     "source_hidden": true
    }
   },
   "outputs": [],
   "source": [
    "import requests as req\n",
    "from bs4 import BeautifulSoup as bs"
   ]
  },
  {
   "cell_type": "code",
   "execution_count": null,
   "id": "a765f433-f6e7-43d0-84a4-a0f41ea9c927",
   "metadata": {
    "jupyter": {
     "source_hidden": true
    }
   },
   "outputs": [],
   "source": [
    "url = 'https://www.pusan.ac.kr/kor/CMS/MenuMgr/menuListOnBuilding.do?'\n",
    "headers = {\n",
    "    'user-agent' : 'Mozilla/5.0 (Windows NT 10.0; Win64; x64; rv:133.0) Gecko/20100101 Firefox/133.0'\n",
    "}\n",
    "web = req.get(url, headers=headers)\n",
    "soup = bs(web.content, 'html5lib') # html5lib 는 HTML5의 호환성 적용함\n",
    "title = soup.select_one('.menu-navi .term').text.strip()\n",
    "menu = soup.select_one('.menu-tbl.type-day')\n",
    "print(f' <<{title}>> ')\n",
    "spline = '-'*(25)\n",
    "day = menu.select('.day')\n",
    "date = menu.select('.date')\n",
    "won = menu.select('li h3')\n",
    "content = menu.select('li h3+p')\n",
    "for a, b, c, d in zip(date, day, won, content):\n",
    "    print(spline)\n",
    "    print(f'{a.text} ({b.text})')\n",
    "    print(spline)\n",
    "    print(f'{c.text.strip()[3:]}')\n",
    "    print(f'{d.text.strip()}')\n",
    "    print()\n",
    "# print(menu)"
   ]
  },
  {
   "cell_type": "markdown",
   "id": "abce9471-cd4f-48dd-971c-c5334e908cfd",
   "metadata": {},
   "source": [
    "## 성균관대 식당"
   ]
  },
  {
   "cell_type": "code",
   "execution_count": null,
   "id": "8742bdce-f915-4ce9-8dfe-f6031c263787",
   "metadata": {
    "jupyter": {
     "source_hidden": true
    }
   },
   "outputs": [],
   "source": [
    "import requests as req\n",
    "from bs4 import BeautifulSoup as bs"
   ]
  },
  {
   "cell_type": "code",
   "execution_count": null,
   "id": "7f820878-7e65-4e29-beea-29226c3a7780",
   "metadata": {
    "jupyter": {
     "source_hidden": true
    }
   },
   "outputs": [],
   "source": [
    "url = 'https://www.skku.edu/skku/campus/support/welfare_11.do?mode=info&srDt=2024-12-12&srCategory=L&conspaceCd=10201034&srResId=4&srShowTime=W'\n",
    "headers = {\n",
    "    'user-agent' : 'Mozilla/5.0 (Windows NT 10.0; Win64; x64; rv:133.0) Gecko/20100101 Firefox/133.0'\n",
    "}\n",
    "web = req.get(url, headers=headers)\n",
    "soup = bs(web.content, 'html5lib')"
   ]
  },
  {
   "cell_type": "code",
   "execution_count": null,
   "id": "32f7e9eb-dad8-4385-bdf5-438490c2331a",
   "metadata": {
    "jupyter": {
     "source_hidden": true
    }
   },
   "outputs": [],
   "source": [
    "period = soup.select_one('.date_box .oneday_date').text.replace('\\t', '').replace('\\n', '')\n",
    "print(f'|<< {period} >>|')\n",
    "print()\n",
    "\n",
    "content = soup.select('.cafeteria_view .weekly_list .weeListWrap')\n",
    "\n",
    "for item in content:\n",
    "    print('='*10)\n",
    "    date = item.select_one('.weeListTit').text.replace('\\t', '').replace('\\n', '')\n",
    "    date = f'{date[date.find('(')+1:-1]} ({date[:1]})' \n",
    "    print(date)\n",
    "    print('='*10)\n",
    "    menu = item.select_one('li > pre').text.strip()\n",
    "    price = item.select('li')[1].text.strip()\n",
    "    print(menu)\n",
    "    print(f'{price}￦')"
   ]
  },
  {
   "cell_type": "markdown",
   "id": "1293cad8-7b16-4355-9e9f-c789769ae47d",
   "metadata": {},
   "source": [
    "## 워크24 일자리"
   ]
  },
  {
   "cell_type": "code",
   "execution_count": null,
   "id": "d47fc04d-7b28-47fc-a4a3-085c0a76293b",
   "metadata": {
    "jupyter": {
     "source_hidden": true
    }
   },
   "outputs": [],
   "source": [
    "import requests as req\n",
    "from bs4 import BeautifulSoup as bs\n",
    "\n",
    "url = 'https://www.work24.go.kr/wk/a/b/1200/retriveDtlEmpSrchList.do?&codeDepth2Info=11000&sortField=DATE&sortOrderBy=DESC&benefitSrchAndOr=O&codeDepth1Info=11000&empTpGbcd=1&siteClcd=all&searchMode=Y&careerTypes=N&academicGbnoEdu=noEdu&enterPriseGbn=all&pageIndex=1'\n",
    "headers = {\n",
    "    'user-agent' : 'Mozilla/5.0 (Windows NT 10.0; Win64; x64; rv:133.0) Gecko/20100101 Firefox/133.0'\n",
    "}\n",
    "kword = 'java|python|spring|javascript'\n",
    "prm = {\n",
    "    'resultCnt': '30',\n",
    "    'currentPageNo': '1',\n",
    "    'keyword': kword,\n",
    "    'srcKeyword': kword\n",
    "}\n",
    "web = req.get(url, headers=headers, params=prm)\n",
    "print(web)\n",
    "soup = bs(web.content, 'html5lib')\n",
    "\n",
    "srchCnt = soup.select_one('.box_table_hd > .section_left').text.strip()\n",
    "srchCnt = srchCnt[srchCnt.rfind(' ')+1:]\n",
    "print(f'총 검색결과: {srchCnt}')\n",
    "print('+'*60)\n",
    "tbl = soup.select_one('#contentArea tbody')\n",
    "rows = tbl.select('tr')\n",
    "for i, row in enumerate(rows, 1):\n",
    "    cell = row.select_one('td')\n",
    "    company = cell.select_one('.box_chk-group a').text.strip()\n",
    "    titleSelector = cell.select_one('.t3_sb')\n",
    "    title = titleSelector.text.strip()\n",
    "    title = title[:title.find('\\n')]\n",
    "    detail = titleSelector.get_attribute_list('href')[0]\n",
    "    print(f'{i}: {title} / {company} \\ndetails=\\'{detail}\\'\\n')\n",
    "print('+'*60)"
   ]
  },
  {
   "cell_type": "markdown",
   "id": "06778f53-2ae4-4101-ab3f-f7033034b9d8",
   "metadata": {},
   "source": [
    "# 모듈 테스트"
   ]
  },
  {
   "cell_type": "code",
   "execution_count": null,
   "id": "0bf2a2ec-63d6-4fb2-9fe7-f1fef59c672b",
   "metadata": {},
   "outputs": [],
   "source": [
    "hi() # NameError"
   ]
  },
  {
   "cell_type": "code",
   "execution_count": 9,
   "id": "0ee4899b-23fb-4824-b865-2e943f9fc4d2",
   "metadata": {
    "collapsed": true,
    "jupyter": {
     "outputs_hidden": true
    }
   },
   "outputs": [
    {
     "name": "stdout",
     "output_type": "stream",
     "text": [
      "hi everyone. 안녕하십니까.\n"
     ]
    }
   ],
   "source": [
    "# .py 파일 디렉터리 불러오기\n",
    "import sys\n",
    "sys.path.append('/Users/penta/Documents/PythonJupyterlab/py')\n",
    "# 불러온 디렉터리의 .py 파일을 모듈로 사용하기\n",
    "import testpython as testi\n",
    "testi.hi()"
   ]
  },
  {
   "cell_type": "code",
   "execution_count": 10,
   "id": "5569e3ac-f898-4b1d-a3bc-657810bf9b19",
   "metadata": {
    "collapsed": true,
    "jupyter": {
     "outputs_hidden": true
    },
    "scrolled": true
   },
   "outputs": [
    {
     "name": "stdout",
     "output_type": "stream",
     "text": [
      "==========\n",
      "12.09 (월)\n",
      "==========\n",
      "제육덮밥*김가루\n",
      "팽이버섯된장국\n",
      "연두부*양념장\n",
      "콩나물무침\n",
      "무맛김치\n",
      "그린샐러드*드레싱2종*토핑1종\n",
      "6000￦\n",
      "==========\n",
      "12.10 (화)\n",
      "==========\n",
      "닭가슴살떡볶음\n",
      "미역국\n",
      "청포묵김가루무침\n",
      "마늘쫑무침\n",
      "깍두기\n",
      "그린샐러드*드레싱2종*토핑1종\n",
      "6000￦\n",
      "==========\n",
      "12.11 (수)\n",
      "==========\n",
      "돼지국밥*당면사리\n",
      "흑미밥\n",
      "알감자조림\n",
      "양파쌈장무침\n",
      "무맛김치\n",
      "그린샐러드*드레싱2종*토핑1종\n",
      "6000￦\n",
      "==========\n",
      "12.12 (목)\n",
      "==========\n",
      "돈까스돈부리\n",
      "우동국물\n",
      "단호박샐러드*아몬드\n",
      "오복지무침\n",
      "무맛김치\n",
      "그린샐러드*드레싱2종*토핑1종\n",
      "6000￦\n",
      "==========\n",
      "12.13 (금)\n",
      "==========\n",
      "김치짜글이찌개\n",
      "김가루밥\n",
      "치킨탕수육\n",
      "콩자반\n",
      "깍두기\n",
      "그린샐러드*드레싱2종*토핑1종\n",
      "6000￦\n"
     ]
    }
   ],
   "source": [
    "# 다른 .py 파일\n",
    "import UniversityFoodLists as fl\n",
    "# print(__name__)\n",
    "fl.printList()"
   ]
  },
  {
   "cell_type": "code",
   "execution_count": null,
   "id": "fa6facce-2c30-4f15-afb2-9909e419fe4d",
   "metadata": {},
   "outputs": [],
   "source": [
    "print(__name__)"
   ]
  },
  {
   "cell_type": "code",
   "execution_count": null,
   "id": "4ef4239f-13bd-46b1-bd32-8c40af71ae4b",
   "metadata": {
    "jupyter": {
     "source_hidden": true
    }
   },
   "outputs": [],
   "source": [
    "#sample.py\n",
    "def greet():\n",
    "    print('Hello from module_example.')\n",
    "\n",
    "if __name__ == '__main__':\n",
    "    print('This module is running directly.')\n",
    "    greet()"
   ]
  },
  {
   "cell_type": "code",
   "execution_count": 11,
   "id": "6aa2614a-787b-4ed0-917d-5e82c84ead8e",
   "metadata": {
    "collapsed": true,
    "jupyter": {
     "outputs_hidden": true,
     "source_hidden": true
    }
   },
   "outputs": [
    {
     "name": "stdout",
     "output_type": "stream",
     "text": [
      "Hello from module_example.\n"
     ]
    }
   ],
   "source": [
    "import sample as smp\n",
    "smp.greet()"
   ]
  },
  {
   "cell_type": "code",
   "execution_count": null,
   "id": "44c88050-8f60-42cc-a290-c7d5ce97161a",
   "metadata": {},
   "outputs": [],
   "source": [
    "# !python py/sample.py"
   ]
  },
  {
   "cell_type": "code",
   "execution_count": 8,
   "id": "270e2e30-03d4-428a-9520-71cf3d59253c",
   "metadata": {},
   "outputs": [
    {
     "name": "stdout",
     "output_type": "stream",
     "text": [
      "<Response [200]>\n",
      "총 검색결과: 235건\n",
      "++++++++++++++++++++++++++++++++++++++++++++++++++++++++++++\n",
      "1: 전기/전자/조립/제어/PLC /HMI 인원을 구합니다. / 탑스씨앤씨(TOPS C&C) \n",
      "details='https://www.work.go.kr/empInfo/empInfoSrch/detail/empDetailAuthView.do?searchInfoType=VALIDATION&callPage=&wantedAuthNo=K131312412120014&rtnTarget=list1&pageIndex=1&rtnUrl=?'\n",
      "\n",
      "2: 지게차 운전원 모집 / 주식회사진성산업 \n",
      "details='https://www.work.go.kr/empInfo/empInfoSrch/detail/empDetailAuthView.do?searchInfoType=VALIDATION&callPage=&wantedAuthNo=KJQH002412120001&rtnTarget=list2&pageIndex=1&rtnUrl=?'\n",
      "\n",
      "3: [IT취업률100프로]무료 취준생모집(국내/일본, 수도권무료숙식 제... / ㈜세종교육 \n",
      "details='https://www.work.go.kr/empInfo/empInfoSrch/detail/retrivePriEmpDtlView.do?searchInfoType=CJK&iorgGbcd=CJK&wantedAuthNo=48206712&rtnTarget=list3&pageIndex=1'\n",
      "\n",
      "4: 신입 개발자 채용 - 분당 본사 / (주)포네트 \n",
      "details='https://www.work.go.kr/empInfo/empInfoSrch/detail/retrivePriEmpDtlView.do?searchInfoType=CSI&iorgGbcd=CSI&wantedAuthNo=49580246&rtnTarget=list4&pageIndex=1'\n",
      "\n",
      "5: 정보보안 솔루션 연구소 개발자 / (주)노바소프트 \n",
      "details='https://www.work.go.kr/empInfo/empInfoSrch/detail/retrivePriEmpDtlView.do?searchInfoType=CSI&iorgGbcd=CSI&wantedAuthNo=49578067&rtnTarget=list5&pageIndex=1'\n",
      "\n",
      "6: 신입 C# 프로그래머 채용 / (주)세움테크 \n",
      "details='https://www.work.go.kr/empInfo/empInfoSrch/detail/retrivePriEmpDtlView.do?searchInfoType=CSI&iorgGbcd=CSI&wantedAuthNo=49577995&rtnTarget=list6&pageIndex=1'\n",
      "\n",
      "7: JAVA 개발자   (근무지 서울경기, 경력자우대) / 비버텍주식회사 \n",
      "details='https://www.work.go.kr/empInfo/empInfoSrch/detail/retrivePriEmpDtlView.do?searchInfoType=CSI&iorgGbcd=CSI&wantedAuthNo=49577798&rtnTarget=list7&pageIndex=1'\n",
      "\n",
      "8: (어르신 증가로 인해 인력충원) 연세노인전문요양원 시설장, 사회복지... / 연세노인전문요양원 \n",
      "details='https://www.work.go.kr/empInfo/empInfoSrch/detail/empDetailAuthView.do?searchInfoType=VALIDATION&callPage=&wantedAuthNo=K150112412110032&rtnTarget=list8&pageIndex=1&rtnUrl=?'\n",
      "\n",
      "9: 사무직 및 관리직 모집--[영천고용센터 채용대행] / 주식회사 대호리텍 \n",
      "details='https://www.work.go.kr/empInfo/empInfoSrch/detail/empDetailAuthView.do?searchInfoType=VALIDATION&callPage=&wantedAuthNo=K140172412110006&rtnTarget=list9&pageIndex=1&rtnUrl=?'\n",
      "\n",
      "10: 환경인허가 및 통합환경허가 업무 수행 환경기술자 모집 / 주식회사엔씨솔루션(En.C.SolutionInc) \n",
      "details='https://www.work.go.kr/empInfo/empInfoSrch/detail/empDetailAuthView.do?searchInfoType=VALIDATION&callPage=&wantedAuthNo=K140142412110003&rtnTarget=list10&pageIndex=1&rtnUrl=?'\n",
      "\n",
      "11: [천재교육] 미디어사업본부 개발팀 HTML 퍼블리셔 & 콘텐츠 개발... / ㈜천재교육 \n",
      "details='https://www.work.go.kr/empInfo/empInfoSrch/detail/retrivePriEmpDtlView.do?searchInfoType=CJK&iorgGbcd=CJK&wantedAuthNo=48201468&rtnTarget=list11&pageIndex=1'\n",
      "\n",
      "12: 반도체,디스플레이장비 SW개발(제어) 사원,대리,과장급 구함(굿커리... / 굿커리어 \n",
      "details='https://www.work.go.kr/empInfo/empInfoSrch/detail/retrivePriEmpDtlView.do?searchInfoType=CIN&iorgGbcd=CIN&wantedAuthNo=2412110004082&rtnTarget=list12&pageIndex=1'\n",
      "\n",
      "13: [회계/포토샵] 각 분야별 정규직원 채용 / (주)더경기상회 \n",
      "details='https://www.work.go.kr/empInfo/empInfoSrch/detail/retrivePriEmpDtlView.do?searchInfoType=CSI&iorgGbcd=CSI&wantedAuthNo=49571703&rtnTarget=list13&pageIndex=1'\n",
      "\n",
      "14: SK C&C 네트워크 엔지니어 (관제 및 운영) 정규직 모집(이천) / (주)케이엠정보기술 \n",
      "details='https://www.work.go.kr/empInfo/empInfoSrch/detail/retrivePriEmpDtlView.do?searchInfoType=CSI&iorgGbcd=CSI&wantedAuthNo=49571356&rtnTarget=list14&pageIndex=1'\n",
      "\n",
      "15: 수출,입상담관리 신입사원 채용 / kgb해외통운 \n",
      "details='https://www.work.go.kr/empInfo/empInfoSrch/detail/retrivePriEmpDtlView.do?searchInfoType=CIN&iorgGbcd=CIN&wantedAuthNo=2412110002430&rtnTarget=list15&pageIndex=1'\n",
      "\n",
      "++++++++++++++++++++++++++++++++++++++++++++++++++++++++++++\n"
     ]
    }
   ],
   "source": [
    "import sys\n",
    "sys.path.append('/Users/penta/Documents/PythonJupyterlab/py')\n",
    "\n",
    "import Work24Jobs as wk24\n",
    "kword = 'java|python|css|html|javascript|nodejs|spring|c|django'\n",
    "wk24.printResult(15, 1, kword)"
   ]
  },
  {
   "cell_type": "code",
   "execution_count": null,
   "id": "703f20eb-14ce-44c0-bbe8-7f91c4015b56",
   "metadata": {},
   "outputs": [],
   "source": []
  }
 ],
 "metadata": {
  "kernelspec": {
   "display_name": "Python 3 (ipykernel)",
   "language": "python",
   "name": "python3"
  },
  "language_info": {
   "codemirror_mode": {
    "name": "ipython",
    "version": 3
   },
   "file_extension": ".py",
   "mimetype": "text/x-python",
   "name": "python",
   "nbconvert_exporter": "python",
   "pygments_lexer": "ipython3",
   "version": "3.13.0"
  }
 },
 "nbformat": 4,
 "nbformat_minor": 5
}
