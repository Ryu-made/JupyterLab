{
 "cells": [
  {
   "attachments": {},
   "cell_type": "raw",
   "id": "7680082d-c6e5-4065-967c-62567d189694",
   "metadata": {},
   "source": [
    "!pip install fastapi\n",
    "!pip install uvicorn"
   ]
  },
  {
   "cell_type": "code",
   "execution_count": 3,
   "id": "0511539e-f743-4709-abcf-29f7bbe9df9c",
   "metadata": {},
   "outputs": [],
   "source": [
    "import fastapi\n",
    "import uvicorn"
   ]
  },
  {
   "cell_type": "code",
   "execution_count": 5,
   "id": "c6c2421e-c2d6-4b1e-b59f-50bd33cc1948",
   "metadata": {},
   "outputs": [],
   "source": [
    "# print('ABC'.lower())"
   ]
  },
  {
   "cell_type": "code",
   "execution_count": 16,
   "id": "ec1fb16a-3355-4e0e-a864-751375b28c37",
   "metadata": {},
   "outputs": [
    {
     "name": "stdout",
     "output_type": "stream",
     "text": [
      "b'Some byte data' <class 'bytes'>\n",
      "바이트 타입임\n"
     ]
    }
   ],
   "source": [
    "a = b'Some byte data'\n",
    "print(a, type(a))\n",
    "if str(type(a))[8:-2] == 'bytes':\n",
    "    print('바이트 타입임')"
   ]
  },
  {
   "cell_type": "code",
   "execution_count": 36,
   "id": "056406e5-a712-4364-887d-aef4b62ec2d6",
   "metadata": {
    "scrolled": true
   },
   "outputs": [
    {
     "ename": "UnicodeDecodeError",
     "evalue": "'utf-8' codec can't decode byte 0x89 in position 0: invalid start byte",
     "output_type": "error",
     "traceback": [
      "\u001b[0;31m---------------------------------------------------------------------------\u001b[0m",
      "\u001b[0;31mUnicodeDecodeError\u001b[0m                        Traceback (most recent call last)",
      "Cell \u001b[0;32mIn[36], line 3\u001b[0m\n\u001b[1;32m      1\u001b[0m \u001b[38;5;28;01mimport\u001b[39;00m \u001b[38;5;21;01mjson\u001b[39;00m\n\u001b[1;32m      2\u001b[0m a \u001b[38;5;241m=\u001b[39m \u001b[38;5;124mb\u001b[39m\u001b[38;5;124m'\u001b[39m\u001b[38;5;130;01m\\x89\u001b[39;00m\u001b[38;5;124mPNG\u001b[39m\u001b[38;5;130;01m\\r\u001b[39;00m\u001b[38;5;130;01m\\n\u001b[39;00m\u001b[38;5;130;01m\\x1a\u001b[39;00m\u001b[38;5;130;01m\\n\u001b[39;00m\u001b[38;5;130;01m\\x00\u001b[39;00m\u001b[38;5;130;01m\\x00\u001b[39;00m\u001b[38;5;124m'\u001b[39m\n\u001b[0;32m----> 3\u001b[0m j \u001b[38;5;241m=\u001b[39m \u001b[43ma\u001b[49m\u001b[38;5;241;43m.\u001b[39;49m\u001b[43mdecode\u001b[49m\u001b[43m(\u001b[49m\u001b[38;5;124;43m'\u001b[39;49m\u001b[38;5;124;43mutf-8\u001b[39;49m\u001b[38;5;124;43m'\u001b[39;49m\u001b[43m)\u001b[49m\n\u001b[1;32m      4\u001b[0m \u001b[38;5;28mprint\u001b[39m(j)\n",
      "\u001b[0;31mUnicodeDecodeError\u001b[0m: 'utf-8' codec can't decode byte 0x89 in position 0: invalid start byte"
     ]
    }
   ],
   "source": [
    "import json\n",
    "a = b'\\x89PNG\\r\\n\\x1a\\n\\x00\\x00'\n",
    "j = a.decode('utf-8')\n",
    "print(j)"
   ]
  },
  {
   "cell_type": "code",
   "execution_count": 43,
   "id": "29b7aa0f-9fc3-4e3f-95d6-45ab98ad1291",
   "metadata": {},
   "outputs": [
    {
     "name": "stdout",
     "output_type": "stream",
     "text": [
      "b'\\x89PNG\\r\\n\\x1a\\n\\x00\\x00'\n",
      "\"iVBORw0KGgoAAA==\"\n"
     ]
    }
   ],
   "source": [
    "from base64 import b64encode as enc\n",
    "dc = { 'a' : b'\\x89PNG\\r\\n\\x1a\\n\\x00\\x00' }\n",
    "print(dc['a'])\n",
    "re = json.dumps(enc(dc['a']).decode('utf-8'), ensure_ascii=False, indent=4)\n",
    "print(re)"
   ]
  }
 ],
 "metadata": {
  "kernelspec": {
   "display_name": "Python 3 (ipykernel)",
   "language": "python",
   "name": "python3"
  },
  "language_info": {
   "codemirror_mode": {
    "name": "ipython",
    "version": 3
   },
   "file_extension": ".py",
   "mimetype": "text/x-python",
   "name": "python",
   "nbconvert_exporter": "python",
   "pygments_lexer": "ipython3",
   "version": "3.11.6"
  }
 },
 "nbformat": 4,
 "nbformat_minor": 5
}
