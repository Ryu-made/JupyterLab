{
 "cells": [
  {
   "cell_type": "raw",
   "id": "bb93ee14-3640-43c1-b6a8-df1bda81d997",
   "metadata": {},
   "source": [
    "pip install pymysql"
   ]
  },
  {
   "cell_type": "code",
   "execution_count": 1,
   "id": "61af9550-4739-4cac-83d2-3eab29fc5781",
   "metadata": {},
   "outputs": [
    {
     "name": "stdout",
     "output_type": "stream",
     "text": [
      "['id', 'name', 'image', 'base_time']\n",
      "<class 'tuple'>\n",
      "2-연령대별참여율-b'\\x89PNG\\r\\n\\x1a\\n\\x00\\x00\\x00\\rIHD'-2025-01-20 02:35:20\n",
      "3-성별참여율-b'\\x89PNG\\r\\n\\x1a\\n\\x00\\x00\\x00\\rIHD'-2025-01-20 02:35:21\n",
      "4-참여율-b'\\x89PNG\\r\\n\\x1a\\n\\x00\\x00\\x00\\rIHD'-2025-01-20 02:35:21\n",
      "5-1인당GDP_bar-b'\\xff\\xd8\\xff\\xe0\\x00\\x10JFIF\\x00\\x01\\x01\\x00\\x00'-2025-01-20 03:14:34\n",
      "6-1인당GDP_plot-b'\\xff\\xd8\\xff\\xe0\\x00\\x10JFIF\\x00\\x01\\x01\\x00\\x00'-2025-01-20 03:14:34\n"
     ]
    }
   ],
   "source": [
    "# mysql연동하기\n",
    "# conda install pymysql 또는 pip install pymysql\n",
    "\n",
    "import pymysql  \n",
    "\n",
    "# MySQL Connection 연결\n",
    "conn = pymysql.connect(host='175.126.37.21', user='id231', password='pw231', port=13306, db='db231', charset='utf8')\n",
    "\n",
    "# Connection 으로부터 Cursor 생성\n",
    "curs = conn.cursor()\n",
    "\n",
    "# SQL문 실행\n",
    "sql = \"select * from test03\"\n",
    "curs.execute(sql)\n",
    "\n",
    "column_names = [desc[0] for desc in curs.description]\n",
    "print(column_names)\n",
    "\n",
    "# 데이타 Fetch\n",
    "rows = curs.fetchall()\n",
    "print(type(rows))\n",
    "\n",
    "for tmp in rows:\n",
    "    #print(type(tmp))\n",
    "    print(\"{}-{}-{}-{}\".format(tmp[0], tmp[1], tmp[2][:15], tmp[3]))\n",
    "\n",
    "# print(rows)     # 전체 rows\n",
    "\n",
    "# Connection 닫기\n",
    "conn.close()"
   ]
  },
  {
   "cell_type": "code",
   "execution_count": 16,
   "id": "e1fe1aef-2bc8-442a-923a-1dcf674a52be",
   "metadata": {},
   "outputs": [
    {
     "name": "stdout",
     "output_type": "stream",
     "text": [
      "데이터가 성공적으로 삽입되었습니다.\n"
     ]
    }
   ],
   "source": [
    "import pymysql  \n",
    "\n",
    "# MySQL Connection 연결\n",
    "conn = pymysql.connect(host='175.126.37.21', user='id231', password='pw231', port=13306, db='db231', charset='utf8')\n",
    "\n",
    "# Connection 으로부터 Cursor 생성\n",
    "cursor = conn.cursor()\n",
    "\n",
    "with open('image/businessperson2.png', 'rb') as file:\n",
    "    binary = file.read()\n",
    "\n",
    "insert_query = \"\"\"\n",
    "    INSERT INTO test03 (id, name, image)\n",
    "    VALUES (%s, %s, %s)\n",
    "\"\"\"\n",
    "\n",
    "# 삽입할 데이터\n",
    "data = (1, \"Ryu\", binary)\n",
    "\n",
    "# 쿼리 실행\n",
    "cursor.execute(insert_query, data)\n",
    "\n",
    "# 변경사항 저장 (commit)\n",
    "conn.commit()\n",
    "\n",
    "print(\"데이터가 성공적으로 삽입되었습니다.\")\n",
    "\n",
    "# 연결 종료\n",
    "cursor.close()\n",
    "conn.close()"
   ]
  },
  {
   "cell_type": "code",
   "execution_count": 15,
   "id": "a751d40a-a2fb-43dd-ada6-21fe8a412b70",
   "metadata": {},
   "outputs": [
    {
     "name": "stdout",
     "output_type": "stream",
     "text": [
      "테이블이 성공적으로 생성되었습니다.\n"
     ]
    }
   ],
   "source": [
    "import pymysql  \n",
    "\n",
    "# MySQL Connection 연결\n",
    "conn = pymysql.connect(host='175.126.37.21', user='id231', password='pw231', port=13306, db='db231', charset='utf8')\n",
    "\n",
    "# Connection 으로부터 Cursor 생성\n",
    "cursor = conn.cursor()\n",
    "\n",
    "create_table_query = \"\"\"\n",
    "CREATE TABLE test03 (\n",
    "    id int not null primary key,\n",
    "    name varchar(200) not null,\n",
    "    image mediumblob null,\n",
    "    base_time timestamp default current_timestamp\n",
    ")\n",
    "\"\"\"\n",
    "\n",
    "cursor.execute(create_table_query)\n",
    "\n",
    "conn.commit()\n",
    "\n",
    "print(\"테이블이 성공적으로 생성되었습니다.\")\n",
    "\n",
    "# 연결 종료\n",
    "cursor.close()\n",
    "conn.close()"
   ]
  },
  {
   "cell_type": "code",
   "execution_count": 20,
   "id": "51546b8d-f569-4a10-aea8-bcd9cefeef81",
   "metadata": {},
   "outputs": [
    {
     "name": "stdin",
     "output_type": "stream",
     "text": [
      "> 헬로\\n헬로\\n헬로\n"
     ]
    },
    {
     "name": "stdout",
     "output_type": "stream",
     "text": [
      "헬로\\n헬로\\n헬로\n"
     ]
    }
   ],
   "source": [
    "i = input('>')\n",
    "print(i)"
   ]
  },
  {
   "cell_type": "code",
   "execution_count": 6,
   "id": "03295014-2726-41d6-935a-928438a664fa",
   "metadata": {},
   "outputs": [
    {
     "name": "stdout",
     "output_type": "stream",
     "text": [
      "['1인당GDP_bar.png', '1인당GDP_plot.png']\n",
      "데이터가 성공적으로 삽입되었습니다.\n"
     ]
    }
   ],
   "source": [
    "import os\n",
    "import pymysql  \n",
    "\n",
    "dr = os.listdir('image')\n",
    "names = [d for d in dr if 'GDP' in d]\n",
    "print(names)\n",
    "\n",
    "# MySQL Connection 연결\n",
    "conn = pymysql.connect(host='175.126.37.21', user='id231', password='pw231', port=13306, db='db231', charset='utf8')\n",
    "\n",
    "# Connection 으로부터 Cursor 생성\n",
    "cursor = conn.cursor()\n",
    "# insert 쿼리\n",
    "insert_query = \"\"\"\n",
    "    INSERT INTO test03 (name, image)\n",
    "    VALUES (%s, %s)\n",
    "\"\"\"\n",
    "\n",
    "# i = int(cursor.execute('SELECT MAX(id) FROM test03'))\n",
    "\n",
    "for name in names:\n",
    "    with open(f'image/{name}', 'rb') as file:\n",
    "        binary = file.read()\n",
    "    # 삽입할 데이터\n",
    "    data = (name[:name.rfind('.png')], binary)\n",
    "    \n",
    "    # 쿼리 실행\n",
    "    cursor.execute(insert_query, data)\n",
    "\n",
    "# 변경사항 저장 (commit)\n",
    "conn.commit()\n",
    "\n",
    "print(\"데이터가 성공적으로 삽입되었습니다.\")\n",
    "\n",
    "# 연결 종료\n",
    "cursor.close()\n",
    "conn.close()"
   ]
  },
  {
   "cell_type": "code",
   "execution_count": 1,
   "id": "788873ec-989f-47a1-98eb-2044b5ebf8e1",
   "metadata": {},
   "outputs": [
    {
     "name": "stdout",
     "output_type": "stream",
     "text": [
      "데이터가 성공적으로 삭제되었습니다.\n"
     ]
    }
   ],
   "source": [
    "import pymysql \n",
    "# MySQL Connection 연결\n",
    "conn = pymysql.connect(host='175.126.37.21', user='id231', password='pw231', port=13306, db='db231', charset='utf8')\n",
    "# Connection 으로부터 Cursor 생성\n",
    "cursor = conn.cursor()\n",
    "# insert 쿼리\n",
    "delete_query = \"DELETE FROM test03 WHERE id = 1\"\n",
    "\n",
    "# 쿼리 실행\n",
    "cursor.execute(delete_query)\n",
    "\n",
    "conn.commit()\n",
    "\n",
    "print('데이터가 성공적으로 삭제되었습니다.')\n",
    "\n",
    "cursor.close()\n",
    "conn.close()\n"
   ]
  },
  {
   "cell_type": "code",
   "execution_count": 8,
   "id": "7ec35089-d64a-46b2-ac0e-899f1e67e263",
   "metadata": {},
   "outputs": [
    {
     "name": "stdout",
     "output_type": "stream",
     "text": [
      "{'a': '100', 'b': '200'} <class 'dict'>\n",
      "{\"a\": \"100\", \"b\": \"200\"} <class 'str'>\n"
     ]
    }
   ],
   "source": [
    "import json\n",
    "\n",
    "dic = dict()\n",
    "dic[\"a\"] = '100'\n",
    "dic[\"b\"] = '200'\n",
    "\n",
    "print(dic, type(dic))\n",
    "j = json.dumps(dic, ensure_ascii=False)\n",
    "print(j, type(j))"
   ]
  },
  {
   "cell_type": "code",
   "execution_count": null,
   "id": "7e95c804-117e-46bc-a9c4-1e24288d9507",
   "metadata": {},
   "outputs": [],
   "source": []
  }
 ],
 "metadata": {
  "kernelspec": {
   "display_name": "Python 3 (ipykernel)",
   "language": "python",
   "name": "python3"
  },
  "language_info": {
   "codemirror_mode": {
    "name": "ipython",
    "version": 3
   },
   "file_extension": ".py",
   "mimetype": "text/x-python",
   "name": "python",
   "nbconvert_exporter": "python",
   "pygments_lexer": "ipython3",
   "version": "3.11.6"
  }
 },
 "nbformat": 4,
 "nbformat_minor": 5
}
