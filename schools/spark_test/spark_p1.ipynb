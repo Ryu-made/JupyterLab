{
 "cells": [
  {
   "cell_type": "raw",
   "id": "3ce57397-4077-4293-932a-07211807861b",
   "metadata": {},
   "source": [
    "!pip install findspark"
   ]
  },
  {
   "cell_type": "code",
   "execution_count": 1,
   "id": "6f865a56-b8ec-4e74-82b7-e5b5ea67bf27",
   "metadata": {},
   "outputs": [],
   "source": [
    "import findspark\n",
    "from pyspark.sql import SparkSession"
   ]
  },
  {
   "cell_type": "raw",
   "id": "126c2f47-1370-4d7f-a44b-99b56ce7326b",
   "metadata": {
    "scrolled": true
   },
   "source": [
    "findspark.init()\n",
    "# SparkSession 생성\n",
    "spark = SparkSession.builder \\\n",
    "    .appName(\"temp-appName\") \\\n",
    "    .master(\"spark://bdata.iptime.org:7076\") \\\n",
    "    .config(\"spark.hadoop.fs.defaultFS\", \"hdfs://bdata.iptime.org:9000\") \\\n",
    "    .config(\"spark.hadoop.ipc.maximum.data.length\", \"268435456\") \\\n",
    "    .config(\"spark.driver.bindAddress\",\"0.0.0.0\") \\\n",
    "    .config(\"spark.executor.memory\", \"2g\") \\\n",
    "    .config(\"spark.executor.cores\", \"4\") \\\n",
    "    .getOrCreate()\n",
    "\n",
    "    # .config(\"spark.sql.debug.maxToStringFields\", \"100\") \\\n",
    "    # .master(\"spark://namenode:7077\") \\\n",
    "# spark.stop()\n",
    "# SparkContext 가져오기\n",
    "sc = spark.sparkContext\n",
    "# 연결 여부 확인을 위한 메시지 출력\n",
    "if sc is not None:\n",
    "    print(\"Spark 클러스터와의 연결이 확인되었습니다.\", sc)\n",
    "else:\n",
    "    print(\"Spark 클러스터와의 연결을 확인할 수 없습니다.\")"
   ]
  },
  {
   "cell_type": "code",
   "execution_count": 2,
   "id": "54b485e3-d077-418a-bbde-6c90c8be3008",
   "metadata": {
    "scrolled": true
   },
   "outputs": [
    {
     "name": "stdout",
     "output_type": "stream",
     "text": [
      "Spark 클러스터와의 연결이 확인되었습니다. <SparkContext master=spark://namenode:7076 appName=temp-appName>\n"
     ]
    }
   ],
   "source": [
    "findspark.init()\n",
    "# SparkSession 생성\n",
    "spark = SparkSession.builder \\\n",
    "    .appName(\"temp-appName\") \\\n",
    "    .master(\"spark://namenode:7076\") \\\n",
    "    .config(\"spark.hadoop.fs.defaultFS\", \"hdfs://namenode:9000\") \\\n",
    "    .config(\"spark.executor.memory\", \"2g\") \\\n",
    "    .config(\"spark.executor.cores\", \"4\") \\\n",
    "    .getOrCreate()\n",
    "\n",
    "    # .config(\"spark.hadoop.ipc.maximum.data.length\", \"268435456\") \\\n",
    "    # .config(\"spark.driver.bindAddress\",\"0.0.0.0\") \\\n",
    "    # .config(\"spark.sql.debug.maxToStringFields\", \"100\") \\\n",
    "    # .master(\"spark://namenode:7077\") \\\n",
    "# spark.stop()\n",
    "# SparkContext 가져오기\n",
    "sc = spark.sparkContext\n",
    "# 연결 여부 확인을 위한 메시지 출력\n",
    "if sc is not None:\n",
    "    print(\"Spark 클러스터와의 연결이 확인되었습니다.\", sc)\n",
    "    # sc.stop()\n",
    "else:\n",
    "    print(\"Spark 클러스터와의 연결을 확인할 수 없습니다.\")\n"
   ]
  },
  {
   "cell_type": "code",
   "execution_count": null,
   "id": "dda519a1-a9f9-42bc-82e2-1b38e0a63be2",
   "metadata": {},
   "outputs": [],
   "source": [
    "# CSV 파일 읽기\n",
    "df = spark.read.format(\"csv\") \\\n",
    "    .option(\"header\", \"true\") \\\n",
    "    .load('/user/hadoop/dataset/부산광역시주민등록인구통계_20231231.csv')\n",
    "# 데이터 프레임 보기\n",
    "df.show()"
   ]
  },
  {
   "cell_type": "raw",
   "id": "2836e321-c628-4095-8cde-348dd8b9eb2b",
   "metadata": {},
   "source": [
    "df = spark.createDataFrame(data={'a':[1,2,3,4],'b':[5,6,7,8]})\n",
    "df.show()"
   ]
  },
  {
   "cell_type": "code",
   "execution_count": null,
   "id": "4bccb0cc-960d-4e85-8cb3-0a4a325b0ac5",
   "metadata": {},
   "outputs": [],
   "source": []
  }
 ],
 "metadata": {
  "kernelspec": {
   "display_name": "Python 3 (ipykernel)",
   "language": "python",
   "name": "python3"
  },
  "language_info": {
   "codemirror_mode": {
    "name": "ipython",
    "version": 3
   },
   "file_extension": ".py",
   "mimetype": "text/x-python",
   "name": "python",
   "nbconvert_exporter": "python",
   "pygments_lexer": "ipython3",
   "version": "3.11.6"
  }
 },
 "nbformat": 4,
 "nbformat_minor": 5
}
