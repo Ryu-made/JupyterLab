{
 "cells": [
  {
   "cell_type": "code",
   "execution_count": 1,
   "id": "affcc736-2ff6-419e-a2c4-63105738d8e0",
   "metadata": {
    "collapsed": true,
    "jupyter": {
     "outputs_hidden": true
    },
    "scrolled": true
   },
   "outputs": [
    {
     "name": "stdout",
     "output_type": "stream",
     "text": [
      "1\n",
      "2\n",
      "3\n",
      "4\n",
      "5\n",
      "6\n",
      "7\n",
      "8\n",
      "9\n",
      "10\n",
      "11\n",
      "12\n",
      "13\n",
      "14\n",
      "15\n",
      "16\n",
      "17\n",
      "18\n",
      "19\n"
     ]
    }
   ],
   "source": [
    "for i in range(1, int(20.5)):\n",
    "    print(i)"
   ]
  },
  {
   "cell_type": "code",
   "execution_count": 3,
   "id": "4e2927d5-64b7-4b6d-a56a-4eb106fa1995",
   "metadata": {},
   "outputs": [
    {
     "name": "stdout",
     "output_type": "stream",
     "text": [
      "[1, 2, 3, 4, 5]\n"
     ]
    }
   ],
   "source": [
    "print([1, 2, 3] + [4, 5])"
   ]
  },
  {
   "cell_type": "code",
   "execution_count": 13,
   "id": "963b2146-5db5-43da-b162-f4322a1170e9",
   "metadata": {},
   "outputs": [
    {
     "name": "stdout",
     "output_type": "stream",
     "text": [
      "[]\n"
     ]
    }
   ],
   "source": [
    "arr = [1, 2, 3]\n",
    "print(arr[:0])"
   ]
  },
  {
   "cell_type": "code",
   "execution_count": 28,
   "id": "4f703572-69d7-4a09-a7cb-68297cfecc50",
   "metadata": {},
   "outputs": [
    {
     "name": "stdout",
     "output_type": "stream",
     "text": [
      "[0.0 1.25]\n"
     ]
    }
   ],
   "source": [
    "import numpy as np\n",
    "\n",
    "nums = np.linspace(0, 10, 9, endpoint=True, dtype=list)\n",
    "print(nums[:2])"
   ]
  },
  {
   "cell_type": "code",
   "execution_count": 3,
   "id": "5bec28bc-a616-4e75-bdb1-ccda4e92946b",
   "metadata": {},
   "outputs": [
    {
     "data": {
      "image/png": "[encoded data removed]",
      "text/plain": [
       "<Figure size 640x480 with 1 Axes>"
      ]
     },
     "metadata": {},
     "output_type": "display_data"
    }
   ],
   "source": [
    "import matplotlib.pyplot as plt\n",
    "import numpy as np\n",
    "\n",
    "plt.style.use('fivethirtyeight')\n",
    "\n",
    "x = 0.5 + np.arange(8)\n",
    "y = [i*1.25 for i in range(1, 9)]\n",
    "\n",
    "fig, ax = plt.subplots()\n",
    "ax.bar(x, y, width=0.75, edgecolor='red', linewidth=0.7)\n",
    "\n",
    "# ax.set(\n",
    "#     xlim=(0, 8), xticks=np.arange(1, 8),\n",
    "#     ylim=(0, 8), yticks=np.arange(1, 8)\n",
    "# )\n",
    "plt.show()"
   ]
  },
  {
   "cell_type": "code",
   "execution_count": null,
   "id": "f99ee315-cbd7-415e-9e41-909722fd32dc",
   "metadata": {
    "scrolled": true
   },
   "outputs": [],
   "source": [
    "with open('image/참여율.png', 'rb') as file:\n",
    "    binary_image = file.read()\n",
    "    print(binary_image)"
   ]
  },
  {
   "cell_type": "code",
   "execution_count": 6,
   "id": "22ee0be2-ac2d-4bf4-af89-98db392052fa",
   "metadata": {
    "scrolled": true
   },
   "outputs": [
    {
     "name": "stdout",
     "output_type": "stream",
     "text": [
      "['.ipynb_checkpoints', '연령대별참여율.png', 'businessperson.png', '전국체육시설비율.png', '성별참여율.png', 'population.png', 'businessperson2.png', '참여율.png', '규칙적운동참여율.png']\n"
     ]
    }
   ],
   "source": []
  }
 ],
 "metadata": {
  "kernelspec": {
   "display_name": "base",
   "language": "python",
   "name": "python3"
  },
  "language_info": {
   "codemirror_mode": {
    "name": "ipython",
    "version": 3
   },
   "file_extension": ".py",
   "mimetype": "text/x-python",
   "name": "python",
   "nbconvert_exporter": "python",
   "pygments_lexer": "ipython3",
   "version": "3.12.7"
  }
 },
 "nbformat": 4,
 "nbformat_minor": 5
}
