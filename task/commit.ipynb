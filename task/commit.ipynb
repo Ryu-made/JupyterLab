{
 "cells": [
  {
   "cell_type": "raw",
   "id": "d4ecc229-0ea1-4552-83e4-6e4f2e1fccea",
   "metadata": {},
   "source": [
    "!pip install pymysql"
   ]
  },
  {
   "cell_type": "code",
   "execution_count": 1,
   "id": "14f36628-0eae-4895-94e2-1e5b1688472a",
   "metadata": {},
   "outputs": [],
   "source": [
    "from hdfs import InsecureClient\n",
    "import csv\n",
    "import pymysql"
   ]
  },
  {
   "cell_type": "code",
   "execution_count": 51,
   "id": "9b96e728-1821-48ee-b2e1-1e79c4cc4731",
   "metadata": {},
   "outputs": [],
   "source": [
    "def runsql(sql, data=None):\n",
    "    try:\n",
    "        conn = pymysql.connect(host='175.126.37.21', user='id231', password='pw231', port=13306, db='db231', charset='utf8')\n",
    "        cursor = conn.cursor()\n",
    "        cursor.execute(sql, data)\n",
    "        conn.commit()\n",
    "        cursor.close()\n",
    "        conn.close()\n",
    "    except Exception as e:\n",
    "        print(f'[SQL이 제대로 실행되지 못했습니다.]\\n{e}')"
   ]
  },
  {
   "cell_type": "code",
   "execution_count": 58,
   "id": "ac258160-25a1-48f1-b43b-8d69a5fa9537",
   "metadata": {},
   "outputs": [
    {
     "name": "stdout",
     "output_type": "stream",
     "text": [
      "['시점', '대한민국', '중국', '일본', '미국', '브라질', '페루', '핀란드', '프랑스', '독일', '스웨덴', '영국', '남아프리카공화국', '오스트레일리아']\n",
      "res: [['2001', '4.7', '8.3', '0.4', '1.0', '1.4', '0.6', '2.6', '2.0', '1.7', '1.4', '2.6', '2.7', '2.0'], ['2002', '7.7', '9.1', '0.0', '1.7', '3.1', '5.5', '1.7', '1.1', '-0.2', '2.2', '1.8', '3.7', '4.0'], ['2003', '3.1', '10.0', '1.5', '2.8', '1.1', '4.2', '2.0', '0.8', '-0.7', '2.3', '3.1', '2.9', '3.1'], ['2004', '5.2', '10.1', '2.2', '3.8', '5.8', '5.0', '4.0', '2.8', '1.2', '4.3', '2.4', '4.6', '4.2'], ['2005', '4.4', '11.4', '1.8', '3.5', '3.2', '6.3', '2.8', '1.7', '0.7', '2.9', '2.7', '5.3', '3.2'], ['2006', '5.2', '12.7', '1.4', '2.8', '4.0', '7.5', '4.0', '2.4', '3.8', '4.7', '2.4', '5.6', '2.8'], ['2007', '5.8', '14.2', '1.5', '2.0', '6.1', '8.5', '5.3', '2.4', '3.0', '3.4', '2.6', '5.4', '3.8'], ['2008', '3.0', '9.7', '-1.2', '0.1', '5.1', '9.1', '0.8', '0.3', '1.0', '-0.5', '-0.2', '3.2', '3.6'], ['2009', '0.8', '9.4', '-5.7', '-2.6', '-0.1', '1.1', '-8.1', '-2.9', '-5.7', '-4.3', '-4.6', '-1.5', '1.9'], ['2010', '7.0', '10.6', '4.1', '2.7', '7.5', '8.3', '3.2', '1.9', '4.2', '6.0', '2.2', '3.0', '2.2'], ['2011', '3.7', '9.6', '0.0', '1.6', '4.0', '6.3', '2.5', '2.2', '3.9', '3.2', '1.1', '3.2', '2.4'], ['2012', '2.5', '7.9', '1.4', '2.3', '1.9', '6.1', '-1.4', '0.3', '0.4', '-0.6', '1.5', '2.4', '3.9'], ['2013', '3.3', '7.8', '2.0', '2.1', '3.0', '5.9', '-0.9', '0.6', '0.4', '1.2', '1.8', '2.5', '2.6'], ['2014', '3.2', '7.4', '0.3', '2.5', '0.5', '2.4', '-0.4', '1.0', '2.2', '2.7', '3.2', '1.4', '2.6'], ['2015', '2.9', '7.0', '1.6', '2.9', '-3.5', '3.3', '0.5', '1.1', '1.5', '4.5', '2.2', '1.3', '2.2'], ['2016', '3.2', '6.8', '0.8', '1.8', '-3.3', '4.0', '2.8', '1.1', '2.2', '2.1', '1.9', '0.7', '2.8'], ['2017', '3.4', '6.9', '1.7', '2.5', '1.3', '2.5', '3.2', '2.3', '2.7', '2.6', '2.7', '1.2', '2.3'], ['2018', '3.2', '6.7', '0.6', '3.0', '1.8', '4.0', '1.1', '1.9', '1.0', '2.0', '1.4', '1.6', '2.9'], ['2019', '2.3', '6.0', '-0.4', '2.5', '1.2', '2.2', '1.2', '1.8', '1.1', '2.0', '1.6', '0.3', '2.2'], ['2020', '-0.7', '2.2', '-4.1', '-2.2', '-3.3', '-10.9', '-2.4', '-7.5', '-3.8', '-2.2', '-10.4', '-6.0', '-0.3'], ['2021', '4.6', '8.4', '2.6', '5.8', '4.8', '13.4', '2.8', '6.4', '3.2', '6.1', '8.7', '4.7', '2.1'], ['2022', '2.7', '3.0', '1.0', '1.9', '3.0', '2.7', '1.3', '2.5', '1.8', '2.7', '4.3', '1.9', '4.3'], ['2023', '1.4', '5.2', '1.9', '2.5', '2.9', '-0.6', '-1.0', '0.7', '-0.3', '-0.2', '0.1', '0.6', '3.0']]\n"
     ]
    }
   ],
   "source": [
    "# csv 가져오기\n",
    "fs = InsecureClient('http://bdata.iptime.org:9999/', user='hadoop')\n",
    "fs_path, file_name = '/user/hadoop/sports', '_20250110104927.csv'\n",
    "with fs.read(f'{fs_path}/{file_name}', encoding='utf-8') as file:\n",
    "    res = csv.reader(file)\n",
    "    header = next(res)\n",
    "    print(header)\n",
    "    _data = list(res)\n",
    "\n",
    "print('res:', _data)"
   ]
  },
  {
   "cell_type": "raw",
   "id": "543f86de-8fe1-40b3-b2ac-7859469e7c86",
   "metadata": {},
   "source": [
    "test = ', '.join(header[2:])\n",
    "print(test)"
   ]
  },
  {
   "cell_type": "code",
   "execution_count": 60,
   "id": "9bde9504-a1ac-4bd9-9005-d14cd4e48bb1",
   "metadata": {
    "collapsed": true,
    "jupyter": {
     "outputs_hidden": true
    },
    "scrolled": true
   },
   "outputs": [
    {
     "name": "stdout",
     "output_type": "stream",
     "text": [
      "INSERT INTO gdp_csv (`year`, `korea`, `china`, `japan`, `usa`, `brazil`, `peru`, `finland`, `france`, `germany`, `sweden`, `england`, `south_africa`, `australia`) VALUES ( %s, %s, %s, %s, %s, %s, %s, %s, %s, %s, %s, %s, %s, %s ) \n",
      "INSERT INTO gdp_csv (`year`, `korea`, `china`, `japan`, `usa`, `brazil`, `peru`, `finland`, `france`, `germany`, `sweden`, `england`, `south_africa`, `australia`) VALUES ( %s, %s, %s, %s, %s, %s, %s, %s, %s, %s, %s, %s, %s, %s ) \n",
      "INSERT INTO gdp_csv (`year`, `korea`, `china`, `japan`, `usa`, `brazil`, `peru`, `finland`, `france`, `germany`, `sweden`, `england`, `south_africa`, `australia`) VALUES ( %s, %s, %s, %s, %s, %s, %s, %s, %s, %s, %s, %s, %s, %s ) \n",
      "INSERT INTO gdp_csv (`year`, `korea`, `china`, `japan`, `usa`, `brazil`, `peru`, `finland`, `france`, `germany`, `sweden`, `england`, `south_africa`, `australia`) VALUES ( %s, %s, %s, %s, %s, %s, %s, %s, %s, %s, %s, %s, %s, %s ) \n",
      "INSERT INTO gdp_csv (`year`, `korea`, `china`, `japan`, `usa`, `brazil`, `peru`, `finland`, `france`, `germany`, `sweden`, `england`, `south_africa`, `australia`) VALUES ( %s, %s, %s, %s, %s, %s, %s, %s, %s, %s, %s, %s, %s, %s ) \n",
      "INSERT INTO gdp_csv (`year`, `korea`, `china`, `japan`, `usa`, `brazil`, `peru`, `finland`, `france`, `germany`, `sweden`, `england`, `south_africa`, `australia`) VALUES ( %s, %s, %s, %s, %s, %s, %s, %s, %s, %s, %s, %s, %s, %s ) \n",
      "INSERT INTO gdp_csv (`year`, `korea`, `china`, `japan`, `usa`, `brazil`, `peru`, `finland`, `france`, `germany`, `sweden`, `england`, `south_africa`, `australia`) VALUES ( %s, %s, %s, %s, %s, %s, %s, %s, %s, %s, %s, %s, %s, %s ) \n",
      "INSERT INTO gdp_csv (`year`, `korea`, `china`, `japan`, `usa`, `brazil`, `peru`, `finland`, `france`, `germany`, `sweden`, `england`, `south_africa`, `australia`) VALUES ( %s, %s, %s, %s, %s, %s, %s, %s, %s, %s, %s, %s, %s, %s ) \n",
      "INSERT INTO gdp_csv (`year`, `korea`, `china`, `japan`, `usa`, `brazil`, `peru`, `finland`, `france`, `germany`, `sweden`, `england`, `south_africa`, `australia`) VALUES ( %s, %s, %s, %s, %s, %s, %s, %s, %s, %s, %s, %s, %s, %s ) \n",
      "INSERT INTO gdp_csv (`year`, `korea`, `china`, `japan`, `usa`, `brazil`, `peru`, `finland`, `france`, `germany`, `sweden`, `england`, `south_africa`, `australia`) VALUES ( %s, %s, %s, %s, %s, %s, %s, %s, %s, %s, %s, %s, %s, %s ) \n",
      "INSERT INTO gdp_csv (`year`, `korea`, `china`, `japan`, `usa`, `brazil`, `peru`, `finland`, `france`, `germany`, `sweden`, `england`, `south_africa`, `australia`) VALUES ( %s, %s, %s, %s, %s, %s, %s, %s, %s, %s, %s, %s, %s, %s ) \n",
      "INSERT INTO gdp_csv (`year`, `korea`, `china`, `japan`, `usa`, `brazil`, `peru`, `finland`, `france`, `germany`, `sweden`, `england`, `south_africa`, `australia`) VALUES ( %s, %s, %s, %s, %s, %s, %s, %s, %s, %s, %s, %s, %s, %s ) \n",
      "INSERT INTO gdp_csv (`year`, `korea`, `china`, `japan`, `usa`, `brazil`, `peru`, `finland`, `france`, `germany`, `sweden`, `england`, `south_africa`, `australia`) VALUES ( %s, %s, %s, %s, %s, %s, %s, %s, %s, %s, %s, %s, %s, %s ) \n",
      "INSERT INTO gdp_csv (`year`, `korea`, `china`, `japan`, `usa`, `brazil`, `peru`, `finland`, `france`, `germany`, `sweden`, `england`, `south_africa`, `australia`) VALUES ( %s, %s, %s, %s, %s, %s, %s, %s, %s, %s, %s, %s, %s, %s ) \n",
      "INSERT INTO gdp_csv (`year`, `korea`, `china`, `japan`, `usa`, `brazil`, `peru`, `finland`, `france`, `germany`, `sweden`, `england`, `south_africa`, `australia`) VALUES ( %s, %s, %s, %s, %s, %s, %s, %s, %s, %s, %s, %s, %s, %s ) \n",
      "INSERT INTO gdp_csv (`year`, `korea`, `china`, `japan`, `usa`, `brazil`, `peru`, `finland`, `france`, `germany`, `sweden`, `england`, `south_africa`, `australia`) VALUES ( %s, %s, %s, %s, %s, %s, %s, %s, %s, %s, %s, %s, %s, %s ) \n",
      "INSERT INTO gdp_csv (`year`, `korea`, `china`, `japan`, `usa`, `brazil`, `peru`, `finland`, `france`, `germany`, `sweden`, `england`, `south_africa`, `australia`) VALUES ( %s, %s, %s, %s, %s, %s, %s, %s, %s, %s, %s, %s, %s, %s ) \n",
      "INSERT INTO gdp_csv (`year`, `korea`, `china`, `japan`, `usa`, `brazil`, `peru`, `finland`, `france`, `germany`, `sweden`, `england`, `south_africa`, `australia`) VALUES ( %s, %s, %s, %s, %s, %s, %s, %s, %s, %s, %s, %s, %s, %s ) \n",
      "INSERT INTO gdp_csv (`year`, `korea`, `china`, `japan`, `usa`, `brazil`, `peru`, `finland`, `france`, `germany`, `sweden`, `england`, `south_africa`, `australia`) VALUES ( %s, %s, %s, %s, %s, %s, %s, %s, %s, %s, %s, %s, %s, %s ) \n",
      "INSERT INTO gdp_csv (`year`, `korea`, `china`, `japan`, `usa`, `brazil`, `peru`, `finland`, `france`, `germany`, `sweden`, `england`, `south_africa`, `australia`) VALUES ( %s, %s, %s, %s, %s, %s, %s, %s, %s, %s, %s, %s, %s, %s ) \n",
      "INSERT INTO gdp_csv (`year`, `korea`, `china`, `japan`, `usa`, `brazil`, `peru`, `finland`, `france`, `germany`, `sweden`, `england`, `south_africa`, `australia`) VALUES ( %s, %s, %s, %s, %s, %s, %s, %s, %s, %s, %s, %s, %s, %s ) \n",
      "INSERT INTO gdp_csv (`year`, `korea`, `china`, `japan`, `usa`, `brazil`, `peru`, `finland`, `france`, `germany`, `sweden`, `england`, `south_africa`, `australia`) VALUES ( %s, %s, %s, %s, %s, %s, %s, %s, %s, %s, %s, %s, %s, %s ) \n",
      "INSERT INTO gdp_csv (`year`, `korea`, `china`, `japan`, `usa`, `brazil`, `peru`, `finland`, `france`, `germany`, `sweden`, `england`, `south_africa`, `australia`) VALUES ( %s, %s, %s, %s, %s, %s, %s, %s, %s, %s, %s, %s, %s, %s ) \n",
      "데이터가 입력되었습니다.\n"
     ]
    }
   ],
   "source": [
    "# Insert Into\n",
    "# data = []\n",
    "conn = pymysql.connect(host='175.126.37.21', user='id231', password='pw231', port=13306, db='db231', charset='utf8')\n",
    "table_name = \"gdp_csv\"\n",
    "for row in _data:\n",
    "    # print(row)\n",
    "    sql_insert = f\"INSERT INTO {table_name} (`year`, `korea`, `china`, `japan`, `usa`, `brazil`, `peru`, `finland`, `france`, `germany`, `sweden`, `england`, `south_africa`, `australia`) \" \n",
    "    sql_insert += \"VALUES ( \" + (\"%s, \"*(len(header)-1)) + \"%s ) \"\n",
    "    \n",
    "    cursor = conn.cursor()\n",
    "    print(sql_insert)\n",
    "    cursor.execute(sql_insert, row)\n",
    "    cursor.close()\n",
    "    conn.commit()\n",
    "    # runsql(sql_insert, row)\n",
    "\n",
    "# Insert 완료\n",
    "conn.close()\n",
    "print('데이터가 입력되었습니다.')"
   ]
  },
  {
   "cell_type": "code",
   "execution_count": 56,
   "id": "b56cece9-50a1-425d-9441-f585a79f682d",
   "metadata": {
    "collapsed": true,
    "jupyter": {
     "outputs_hidden": true
    },
    "scrolled": true
   },
   "outputs": [
    {
     "name": "stdout",
     "output_type": "stream",
     "text": [
      "[['성별', '남자', '63.6', '64.2', '46.4', '55.2', '46.6', '57.5', '58.2', '62.3', '60.1', '61.6', '68.1', '59.9', '60.1', '60.4', '62.8'], ['성별', '여자', '55.1', '52', '38.3', '45.3', '40', '52', '53.8', '56.7', '58.4', '62.8', '65.1', '60.3', '61.4', '62', '61.9'], ['연령별', '10대', '57.8', '52.1', '38.8', '44.7', '36.6', '54.7', '49', '63.1', '60.4', '57.2', '50.1', '52', '55', '52.6', '47.9'], ['연령별', '20대', '49.5', '61.7', '38', '44.3', '35.9', '56', '54.9', '57.3', '55.2', '59.3', '69.2', '60.9', '63.6', '62.1', '57.6'], ['연령별', '30대', '56.2', '56.1', '40.9', '46.5', '39.6', '53.1', '53.2', '56.8', '60.7', '61.9', '70.3', '58.6', '57.5', '65.3', '64.7'], ['연령별', '40대', '71.2', '66', '47.4', '55.7', '50', '56.1', '61.2', '61.1', '60.4', '65.7', '70.3', '61.3', '63.7', '65.1', '64.1'], ['연령별', '50대', '65.7', '68', '48.6', '58.1', '50.8', '57.4', '60', '60.8', '60.4', '64.5', '70.8', '64.4', '61', '63.9', '66.5'], ['연령별', '60대', '58.7', '46.5', '46.1', '57.5', '47.3', '58', '59.6', '61.4', '61.7', '63.6', '69', '62.1', '63.2', '59.6', '68'], ['연령별', '70세이상', '0', '30.3', '32.8', '46', '41.4', '45', '49.7', '55.3', '54.6', '59.8', '57.8', '57', '58.3', '54.3', '60.6']]\n",
      "업데이트 완료\n"
     ]
    }
   ],
   "source": [
    "#Update set\n",
    "table_name = \"particip_rate_csv\"\n",
    "for i, row in enumerate(_data):\n",
    "    # print(row)\n",
    "    sql_update_index = f\"UPDATE `{table_name}` SET `index` = %s WHERE `type2` = %s\"\n",
    "    run(sql_update_index, [i+1, row[1]])\n",
    "\n",
    "print(_data)\n",
    "print('업데이트 완료')"
   ]
  },
  {
   "cell_type": "code",
   "execution_count": 17,
   "id": "f53d3144-1dfa-47da-8a6e-ab582695f4f2",
   "metadata": {},
   "outputs": [
    {
     "name": "stdout",
     "output_type": "stream",
     "text": [
      "컬럼 이름 변경 완료\n"
     ]
    }
   ],
   "source": [
    "table_name = \"particip_rate_csv\"\n",
    "sql_rename_col = f\"AlTER TABLE {table_name} RENAME COLUMN `TYPE1` TO `type1`\"\n",
    "run(sql_rename_col)\n",
    "print('컬럼 이름 변경 완료')"
   ]
  },
  {
   "cell_type": "code",
   "execution_count": 23,
   "id": "0fdce91a-886f-4053-893a-983688e25f59",
   "metadata": {},
   "outputs": [
    {
     "name": "stdout",
     "output_type": "stream",
     "text": [
      "None\n"
     ]
    }
   ],
   "source": [
    "sql_des = f\"SELECT {test} FROM {table_name}\"\n",
    "s = run(sql_des)\n",
    "print(s)"
   ]
  },
  {
   "cell_type": "code",
   "execution_count": 63,
   "id": "1783e00d-b614-4c7f-9982-6e633f3d2dbe",
   "metadata": {},
   "outputs": [
    {
     "name": "stdout",
     "output_type": "stream",
     "text": [
      "index\n",
      "type1\n",
      "type2\n",
      "2003\n",
      "2006\n",
      "2008\n",
      "2009\n",
      "2012\n",
      "2014\n",
      "2015\n",
      "2016\n",
      "2017\n",
      "2018\n",
      "2019\n",
      "2020\n",
      "2021\n",
      "2022\n",
      "2023\n"
     ]
    }
   ],
   "source": [
    "conn = pymysql.connect(host='175.126.37.21', user='id231', password='pw231', port=13306, db='db231', charset='utf8')\n",
    "cursor = conn.cursor()\n",
    "table_name = \"particip_rate_csv\"\n",
    "sql = f'SHOW COLUMNS FROM {table_name}'\n",
    "cursor.execute(sql)\n",
    "sql_res = cursor.fetchall()\n",
    "for info in sql_res:\n",
    "    print(info[0])\n",
    "cursor.close()\n",
    "conn.close()"
   ]
  }
 ],
 "metadata": {
  "kernelspec": {
   "display_name": "Python 3 (ipykernel)",
   "language": "python",
   "name": "python3"
  },
  "language_info": {
   "codemirror_mode": {
    "name": "ipython",
    "version": 3
   },
   "file_extension": ".py",
   "mimetype": "text/x-python",
   "name": "python",
   "nbconvert_exporter": "python",
   "pygments_lexer": "ipython3",
   "version": "3.13.0"
  }
 },
 "nbformat": 4,
 "nbformat_minor": 5
}
