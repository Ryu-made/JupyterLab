{
 "cells": [
  {
   "cell_type": "code",
   "execution_count": 12,
   "id": "44f43c6c-63bd-478c-b2a8-cd10a88f9626",
   "metadata": {},
   "outputs": [
    {
     "name": "stdout",
     "output_type": "stream",
     "text": [
      "start\n"
     ]
    }
   ],
   "source": [
    "print('start')"
   ]
  },
  {
   "cell_type": "markdown",
   "id": "f770d52b-eae9-4fc3-8de4-de88f0447422",
   "metadata": {},
   "source": [
    "# import"
   ]
  },
  {
   "cell_type": "code",
   "execution_count": 13,
   "id": "7379d54a-df29-4daa-9abf-f7336a9dc359",
   "metadata": {},
   "outputs": [],
   "source": [
    "import pandas as pd\n",
    "import numpy as np\n",
    "\n",
    "from hdfs import InsecureClient\n",
    "\n",
    "import matplotlib\n",
    "import matplotlib.pyplot as plt\n",
    "import matplotlib.font_manager as fm\n",
    "import folium"
   ]
  },
  {
   "cell_type": "raw",
   "id": "4018b626-6bd8-4f02-829e-491af54c4293",
   "metadata": {
    "collapsed": true,
    "jupyter": {
     "outputs_hidden": true
    }
   },
   "source": [
    "!pip install hdfs"
   ]
  },
  {
   "cell_type": "markdown",
   "id": "03460309-8258-4f80-8099-27b3279471a5",
   "metadata": {},
   "source": [
    "# Hadoop Data Loading"
   ]
  },
  {
   "cell_type": "code",
   "execution_count": 97,
   "id": "b3bf4265-ad5e-4e97-8ab3-3db91cfd9e4c",
   "metadata": {},
   "outputs": [
    {
     "data": {
      "text/html": [
       "<div>\n",
       "<style scoped>\n",
       "    .dataframe tbody tr th:only-of-type {\n",
       "        vertical-align: middle;\n",
       "    }\n",
       "\n",
       "    .dataframe tbody tr th {\n",
       "        vertical-align: top;\n",
       "    }\n",
       "\n",
       "    .dataframe thead th {\n",
       "        text-align: right;\n",
       "    }\n",
       "</style>\n",
       "<table border=\"1\" class=\"dataframe\">\n",
       "  <thead>\n",
       "    <tr style=\"text-align: right;\">\n",
       "      <th></th>\n",
       "      <th>시점</th>\n",
       "      <th>행정구역별(1)</th>\n",
       "      <th>인구십만명당 체육시설수&lt;br&gt;(A÷B×100000) (개)</th>\n",
       "      <th>체육시설수&lt;br&gt;(A) (개)</th>\n",
       "    </tr>\n",
       "  </thead>\n",
       "  <tbody>\n",
       "    <tr>\n",
       "      <th>261</th>\n",
       "      <td>2022</td>\n",
       "      <td>전북특별자치도</td>\n",
       "      <td>123.4</td>\n",
       "      <td>2183</td>\n",
       "    </tr>\n",
       "    <tr>\n",
       "      <th>262</th>\n",
       "      <td>2022</td>\n",
       "      <td>전라남도</td>\n",
       "      <td>124.7</td>\n",
       "      <td>2267</td>\n",
       "    </tr>\n",
       "    <tr>\n",
       "      <th>263</th>\n",
       "      <td>2022</td>\n",
       "      <td>경상북도</td>\n",
       "      <td>118.8</td>\n",
       "      <td>3090</td>\n",
       "    </tr>\n",
       "    <tr>\n",
       "      <th>264</th>\n",
       "      <td>2022</td>\n",
       "      <td>경상남도</td>\n",
       "      <td>111.7</td>\n",
       "      <td>3663</td>\n",
       "    </tr>\n",
       "    <tr>\n",
       "      <th>265</th>\n",
       "      <td>2022</td>\n",
       "      <td>제주특별자치도</td>\n",
       "      <td>150.7</td>\n",
       "      <td>1022</td>\n",
       "    </tr>\n",
       "  </tbody>\n",
       "</table>\n",
       "</div>"
      ],
      "text/plain": [
       "       시점 행정구역별(1)  인구십만명당 체육시설수<br>(A÷B×100000) (개)  체육시설수<br>(A) (개)\n",
       "261  2022  전북특별자치도                             123.4              2183\n",
       "262  2022     전라남도                             124.7              2267\n",
       "263  2022     경상북도                             118.8              3090\n",
       "264  2022     경상남도                             111.7              3663\n",
       "265  2022  제주특별자치도                             150.7              1022"
      ]
     },
     "execution_count": 97,
     "metadata": {},
     "output_type": "execute_result"
    }
   ],
   "source": [
    "fs = InsecureClient('http://bdata.iptime.org:9999/', user='hadoop')\n",
    "fs_path, file_name = '/user/hadoop/sports', '인구_십만명당_체육시설수_시도__20250109115945.csv'\n",
    "with fs.read(f'{fs_path}/{file_name}', encoding='utf-8') as reader:\n",
    "    data = pd.read_csv(reader)\n",
    "\n",
    "data.tail()"
   ]
  },
  {
   "cell_type": "markdown",
   "id": "63854afd-0ec9-490c-96f1-9d480e44d752",
   "metadata": {},
   "source": [
    "# Data Structuring"
   ]
  },
  {
   "cell_type": "code",
   "execution_count": 10,
   "id": "c2185a44-c47a-44e2-95bd-69c9b43cd586",
   "metadata": {},
   "outputs": [
    {
     "data": {
      "text/plain": [
       "Index(['year', 'region', 'per100td', 'count'], dtype='object')"
      ]
     },
     "execution_count": 10,
     "metadata": {},
     "output_type": "execute_result"
    }
   ],
   "source": [
    "data.rename(columns={'시점':'year', '행정구역별(1)':'region', '인구십만명당 체육시설수<br>(A÷B×100000) (개)':'per100td','체육시설수<br>(A) (개)':'count'}, inplace=True)\n",
    "data.columns"
   ]
  },
  {
   "cell_type": "code",
   "execution_count": 86,
   "id": "d9ff1065-7500-4e31-b109-d8681ba45be0",
   "metadata": {},
   "outputs": [
    {
     "data": {
      "text/html": [
       "<div>\n",
       "<style scoped>\n",
       "    .dataframe tbody tr th:only-of-type {\n",
       "        vertical-align: middle;\n",
       "    }\n",
       "\n",
       "    .dataframe tbody tr th {\n",
       "        vertical-align: top;\n",
       "    }\n",
       "\n",
       "    .dataframe thead th {\n",
       "        text-align: right;\n",
       "    }\n",
       "</style>\n",
       "<table border=\"1\" class=\"dataframe\">\n",
       "  <thead>\n",
       "    <tr style=\"text-align: right;\">\n",
       "      <th></th>\n",
       "      <th>year</th>\n",
       "      <th>per100td</th>\n",
       "      <th>count</th>\n",
       "    </tr>\n",
       "  </thead>\n",
       "  <tbody>\n",
       "    <tr>\n",
       "      <th>122</th>\n",
       "      <td>2015</td>\n",
       "      <td>108.4</td>\n",
       "      <td>55857</td>\n",
       "    </tr>\n",
       "    <tr>\n",
       "      <th>140</th>\n",
       "      <td>2016</td>\n",
       "      <td>112.8</td>\n",
       "      <td>58321</td>\n",
       "    </tr>\n",
       "    <tr>\n",
       "      <th>158</th>\n",
       "      <td>2017</td>\n",
       "      <td>113.7</td>\n",
       "      <td>58884</td>\n",
       "    </tr>\n",
       "    <tr>\n",
       "      <th>176</th>\n",
       "      <td>2018</td>\n",
       "      <td>109.7</td>\n",
       "      <td>56854</td>\n",
       "    </tr>\n",
       "    <tr>\n",
       "      <th>194</th>\n",
       "      <td>2019</td>\n",
       "      <td>102.1</td>\n",
       "      <td>52960</td>\n",
       "    </tr>\n",
       "  </tbody>\n",
       "</table>\n",
       "</div>"
      ],
      "text/plain": [
       "     year  per100td  count\n",
       "122  2015     108.4  55857\n",
       "140  2016     112.8  58321\n",
       "158  2017     113.7  58884\n",
       "176  2018     109.7  56854\n",
       "194  2019     102.1  52960"
      ]
     },
     "execution_count": 86,
     "metadata": {},
     "output_type": "execute_result"
    }
   ],
   "source": [
    "data_f = data.copy()\n",
    "data_f = data_f[data_f['region'] == '전국']\n",
    "data_f = data_f[data_f['year'] >= 2015]\n",
    "del data_f['region']\n",
    "data_f.head()"
   ]
  },
  {
   "cell_type": "markdown",
   "id": "fa3546d3-e723-4c84-9c64-56b5b3672f38",
   "metadata": {},
   "source": [
    "# Data Graphics"
   ]
  },
  {
   "cell_type": "code",
   "execution_count": 96,
   "id": "0da93f73-de80-4e0b-895e-c65116b9c1dc",
   "metadata": {
    "scrolled": true
   },
   "outputs": [
    {
     "data": {
      "image/png": "[encoded data removed]",
      "text/plain": [
       "<Figure size 1200x800 with 1 Axes>"
      ]
     },
     "metadata": {},
     "output_type": "display_data"
    }
   ],
   "source": [
    "years = list(data_f['year'].drop_duplicates())\n",
    "\n",
    "fig, ax = plt.subplots(figsize=(12, 8))\n",
    "fontdict = {'size': 14, 'color': 'red'}\n",
    "\n",
    "ax.plot(data_f['year'], data_f['per100td'], linewidth=2.25, color='skyblue', marker='s')\n",
    "ax.set_facecolor('#fff')\n",
    "ax.set_box_aspect(16/27)\n",
    "ax.set_xlabel('year', loc='right', fontdict=fontdict)\n",
    "ax.set_ylabel('per 100 thousands', loc='top', fontdict=fontdict)\n",
    "ax.set_ylim([100, 120])\n",
    "ax.set_xmargin(0.075)\n",
    "plt.savefig('../resultData/faci_count.png')\n",
    "plt.show()"
   ]
  }
 ],
 "metadata": {
  "kernelspec": {
   "display_name": "Python 3 (ipykernel)",
   "language": "python",
   "name": "python3"
  },
  "language_info": {
   "codemirror_mode": {
    "name": "ipython",
    "version": 3
   },
   "file_extension": ".py",
   "mimetype": "text/x-python",
   "name": "python",
   "nbconvert_exporter": "python",
   "pygments_lexer": "ipython3",
   "version": "3.13.0"
  }
 },
 "nbformat": 4,
 "nbformat_minor": 5
}
